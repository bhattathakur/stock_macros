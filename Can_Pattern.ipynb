{
 "cells": [
  {
   "cell_type": "markdown",
   "metadata": {},
   "source": [
    "# Creating the program to recognize different patterns related to the stock using ta-lib"
   ]
  },
  {
   "cell_type": "code",
   "execution_count": null,
   "metadata": {},
   "outputs": [],
   "source": [
    "#libraries\n",
    "import talib\n",
    "from talib import abstract\n",
    "\n",
    "\n",
    "\n",
    "import pandas as pd\n",
    "import numpy as np\n",
    "pd.set_option(\"display.max_rows\", None, \"display.max_columns\", None)"
   ]
  },
  {
   "cell_type": "markdown",
   "metadata": {},
   "source": [
    "# Important Links\n",
    "1. [wiki pattterns](https://en.wikipedia.org/wiki/Candlestick_pattern)\n",
    "2. [16 candlestick patterns](https://www.ig.com/en/trading-strategies/16-candlestick-patterns-every-trader-should-know-180615)\n",
    "3. [Introduction to Candlesticks](https://school.stockcharts.com/doku.php?id=chart_analysis:introduction_to_candlesticks)\n",
    "4. [TA-Lib library](https://mrjbq7.github.io/ta-lib/)"
   ]
  },
  {
   "cell_type": "code",
   "execution_count": null,
   "metadata": {},
   "outputs": [],
   "source": [
    "ch='AAPL'\n",
    "tick=\"/home/thakur/test/snp500/{}.csv\".format(ch)\n",
    "df=pd.read_csv(tick)\n",
    "df.rename(columns={'Date':'date','Open':'open','High':'high','Low':'low','Close':'close','Volume':'volume'},inplace=True)\n",
    "df.tail(5)"
   ]
  },
  {
   "cell_type": "code",
   "execution_count": null,
   "metadata": {},
   "outputs": [],
   "source": [
    "sma=abstract.RSI(df)"
   ]
  },
  {
   "cell_type": "code",
   "execution_count": null,
   "metadata": {},
   "outputs": [],
   "source": [
    "sma"
   ]
  },
  {
   "cell_type": "code",
   "execution_count": null,
   "metadata": {},
   "outputs": [],
   "source": [
    "doji=abstract.CDLDOJI(df)"
   ]
  },
  {
   "cell_type": "code",
   "execution_count": null,
   "metadata": {},
   "outputs": [],
   "source": [
    "doji"
   ]
  },
  {
   "cell_type": "code",
   "execution_count": null,
   "metadata": {},
   "outputs": [],
   "source": [
    "candle_names = talib.get_function_groups()['Pattern Recognition']\n"
   ]
  },
  {
   "cell_type": "code",
   "execution_count": null,
   "metadata": {},
   "outputs": [],
   "source": [
    "candle_names"
   ]
  },
  {
   "cell_type": "code",
   "execution_count": null,
   "metadata": {},
   "outputs": [],
   "source": [
    "?len"
   ]
  },
  {
   "cell_type": "code",
   "execution_count": null,
   "metadata": {},
   "outputs": [],
   "source": [
    "help(len)"
   ]
  },
  {
   "cell_type": "code",
   "execution_count": null,
   "metadata": {},
   "outputs": [],
   "source": [
    "np.loadtxt?"
   ]
  },
  {
   "cell_type": "code",
   "execution_count": null,
   "metadata": {},
   "outputs": [],
   "source": [
    "help(np.load_txt"
   ]
  },
  {
   "cell_type": "code",
   "execution_count": null,
   "metadata": {},
   "outputs": [],
   "source": [
    "# import talib\n",
    "# import yfinance as yf\n",
    "# from datetime import date\n",
    "\n",
    "st_list=['AMD']\n",
    "#for ch in st_list:\n",
    "def get_patterns(ch):\n",
    "    tick=\"/home/thakur/test/snp500/{}.csv\".format(ch)\n",
    "    dataframe=pd.read_csv(tick).tail(20)\n",
    "    dataframe.rename(columns={'Date':'date','Open':'open','High':'high','Low':'low','Close':'close','Volume':'volume'},inplace=True)\n",
    "    #df.tail(5)\n",
    "\n",
    "    # today = date.today().strftime(\"%Y-%m-%d\")\n",
    "    # stockticker = 'AAPL'\n",
    "    # dataframe = yf.download(stockticker, start='2021-03-31', end=today)\n",
    "\n",
    "    # open = dataframe['Open']\n",
    "    # high = dataframe['High']\n",
    "    # low = dataframe['Low']\n",
    "    # close = dataframe['Adj Close']\n",
    "\n",
    "    threeLineStrike = abstract.CDL3LINESTRIKE(dataframe)\n",
    "    threeBlackCrow = abstract.CDL3BLACKCROWS(dataframe)\n",
    "    eveningStar = abstract.CDLEVENINGSTAR(dataframe)\n",
    "    engulfing = abstract.CDLENGULFING(dataframe)\n",
    "    dragonflyDoji = abstract.CDLDRAGONFLYDOJI(dataframe)\n",
    "    gravestoneDoji = abstract.CDLGRAVESTONEDOJI(dataframe)\n",
    "    tasukigap = abstract.CDLTASUKIGAP(dataframe)\n",
    "    hammer = abstract.CDLHAMMER(dataframe)\n",
    "    darkCloudCover = abstract.CDLDARKCLOUDCOVER(dataframe)\n",
    "    piercingLine = abstract.CDLPIERCING(dataframe)\n",
    "\n",
    "\n",
    "    dataframe['3 Line Strike'] = threeLineStrike\n",
    "    dataframe['3 Black Crow'] = threeBlackCrow\n",
    "    dataframe['Evening Star'] = eveningStar\n",
    "    dataframe['Engulfing'] = engulfing\n",
    "    dataframe['Dragonfly Doji'] = dragonflyDoji\n",
    "    dataframe['Gravestone Doji'] = gravestoneDoji\n",
    "    dataframe['Tasuki Gap'] = tasukigap\n",
    "    dataframe['Hammer'] = hammer\n",
    "    dataframe['DarkCloudCover'] = darkCloudCover\n",
    "    dataframe['Piercing Line'] = piercingLine\n",
    "\n",
    "\n",
    "    topCandles = [\"3 Line Strike\",\"3 Black Crow\",\"Evening Star\",\"Engulfing\",\"Dragonfly Doji\",\"Gravestone Doji\",\"Tasuki Gap\",\"Hammer\",\"DarkCloudCover\",\"Piercing Line\"]\n",
    "\n",
    "\n",
    "    for x in dataframe.index:\n",
    "        for cd in topCandles:\n",
    "            if dataframe.loc[x, cd] == -100:\n",
    "                dataframe.loc[x, cd] = \"Bearish\"\n",
    "            if dataframe.loc[x, cd] == 100:\n",
    "                dataframe.loc[x, cd] = \"Bullish\"\n",
    "    dataframe.drop(columns=['open','high','low','close','Adj Close','volume'],inplace=True)\n",
    "    # dataframe.drop('open', axis=1, inplace=True)\n",
    "    # dataframe.drop('high', axis=1, inplace=True)\n",
    "    # dataframe.drop('low', axis=1, inplace=True)\n",
    "    # dataframe.drop('close', axis=1, inplace=True)\n",
    "    # dataframe.drop('Adj Close', axis=1, inplace=True)\n",
    "    # dataframe.drop('volume', axis=1, inplace=True)\n",
    "\n",
    "    #dataframe.to_csv(\"/home/thakur/test/temp/dataf.csv\",index=False)\n",
    "    return dataframe.tail(10)"
   ]
  },
  {
   "cell_type": "code",
   "execution_count": null,
   "metadata": {},
   "outputs": [],
   "source": [
    "st_list=['AMD','BA']\n",
    "for i in st_list:\n",
    "    df=get_patterns(i)\n",
    "    print(f\"{i}:\\n{df}\")"
   ]
  },
  {
   "cell_type": "code",
   "execution_count": null,
   "metadata": {},
   "outputs": [],
   "source": [
    "#df=pd.read_csv(\"/home/thakur/test/temp/dataf.csv\").tail(20)"
   ]
  },
  {
   "cell_type": "code",
   "execution_count": null,
   "metadata": {},
   "outputs": [],
   "source": [
    "#df"
   ]
  },
  {
   "cell_type": "code",
   "execution_count": null,
   "metadata": {},
   "outputs": [],
   "source": []
  }
 ],
 "metadata": {
  "kernelspec": {
   "display_name": "Python 3 (ipykernel)",
   "language": "python",
   "name": "python3"
  },
  "language_info": {
   "codemirror_mode": {
    "name": "ipython",
    "version": 3
   },
   "file_extension": ".py",
   "mimetype": "text/x-python",
   "name": "python",
   "nbconvert_exporter": "python",
   "pygments_lexer": "ipython3",
   "version": "3.10.6"
  }
 },
 "nbformat": 4,
 "nbformat_minor": 4
}
