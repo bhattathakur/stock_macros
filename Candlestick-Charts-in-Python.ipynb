{
 "cells": [
  {
   "cell_type": "markdown",
   "metadata": {},
   "source": [
    "# Plotly Candlestick Chart in Python"
   ]
  },
  {
   "cell_type": "code",
   "execution_count": null,
   "metadata": {},
   "outputs": [],
   "source": [
    "#import pandas.io.data as web\n",
    "from datetime import datetime\n",
    "import numpy as np\n",
    "import pandas as pd\n",
    "import plotly.graph_objects as go"
   ]
  },
  {
   "cell_type": "code",
   "execution_count": null,
   "metadata": {},
   "outputs": [],
   "source": [
    "df = pd.read_csv(\"mega/AAPL.csv\")"
   ]
  },
  {
   "cell_type": "code",
   "execution_count": null,
   "metadata": {},
   "outputs": [],
   "source": [
    "df.head()"
   ]
  },
  {
   "cell_type": "markdown",
   "metadata": {},
   "source": [
    "### Initial candlestick chart"
   ]
  },
  {
   "cell_type": "code",
   "execution_count": null,
   "metadata": {},
   "outputs": [],
   "source": [
    "INCREASING_COLOR = '#17BECF'\n",
    "DECREASING_COLOR = '#7F7F7F'"
   ]
  },
  {
   "cell_type": "code",
   "execution_count": null,
   "metadata": {},
   "outputs": [],
   "source": [
    "data = [ dict(\n",
    "    type = 'candlestick',\n",
    "    open = df.Open,\n",
    "    high = df.High,\n",
    "    low = df.Low,\n",
    "    close = df.Close,\n",
    "    x = df.index,\n",
    "    yaxis = 'y2',\n",
    "    name = 'AAPL',\n",
    "    increasing = dict( line = dict( color = INCREASING_COLOR ) ),\n",
    "    decreasing = dict( line = dict( color = DECREASING_COLOR ) ),\n",
    ") ]\n",
    "\n",
    "layout=dict()\n",
    "\n",
    "fig = dict( data=data, layout=layout )"
   ]
  },
  {
   "cell_type": "markdown",
   "metadata": {},
   "source": [
    "### Create the layout object"
   ]
  },
  {
   "cell_type": "code",
   "execution_count": null,
   "metadata": {},
   "outputs": [],
   "source": [
    "fig['layout'] = dict()\n",
    "fig['layout']['plot_bgcolor'] = 'rgb(250, 250, 250)'\n",
    "fig['layout']['xaxis'] = dict( rangeselector = dict( visible = True ) )\n",
    "fig['layout']['yaxis'] = dict( domain = [0, 0.2], showticklabels = False )\n",
    "fig['layout']['yaxis2'] = dict( domain = [0.2, 0.8] )\n",
    "fig['layout']['legend'] = dict( orientation = 'h', y=0.9, x=0.3, yanchor='bottom' )\n",
    "fig['layout']['margin'] = dict( t=40, b=40, r=40, l=40 )"
   ]
  },
  {
   "cell_type": "markdown",
   "metadata": {},
   "source": [
    "### Add range buttons"
   ]
  },
  {
   "cell_type": "code",
   "execution_count": null,
   "metadata": {},
   "outputs": [],
   "source": [
    "rangeselector=dict(\n",
    "    visibe = True,\n",
    "    x = 0, y = 0.9,\n",
    "    bgcolor = 'rgba(150, 200, 250, 0.4)',\n",
    "    font = dict( size = 13 ),\n",
    "    buttons=list([\n",
    "        dict(count=1,\n",
    "             label='reset',\n",
    "             step='all'),\n",
    "        dict(count=1,\n",
    "             label='1yr',\n",
    "             step='year',\n",
    "             stepmode='backward'),\n",
    "        dict(count=3,\n",
    "            label='3 mo',\n",
    "            step='month',\n",
    "            stepmode='backward'),\n",
    "        dict(count=1,\n",
    "            label='1 mo',\n",
    "            step='month',\n",
    "            stepmode='backward'),\n",
    "        dict(step='all')\n",
    "    ]))\n",
    "    \n",
    "fig['layout']['xaxis']['rangeselector'] = rangeselector"
   ]
  },
  {
   "cell_type": "markdown",
   "metadata": {},
   "source": [
    "### Add moving average"
   ]
  },
  {
   "cell_type": "code",
   "execution_count": null,
   "metadata": {},
   "outputs": [],
   "source": [
    "def movingaverage(interval, window_size=10):\n",
    "    window = np.ones(int(window_size))/float(window_size)\n",
    "    return np.convolve(interval, window, 'same')"
   ]
  },
  {
   "cell_type": "code",
   "execution_count": null,
   "metadata": {},
   "outputs": [],
   "source": [
    "mv_y = movingaverage(df.Close)\n",
    "mv_x = list(df.index)\n",
    "\n",
    "# Clip the ends\n",
    "mv_x = mv_x[5:-5]\n",
    "mv_y = mv_y[5:-5]\n",
    "\n",
    "fig['data'].append( dict( x=mv_x, y=mv_y, type='scatter', mode='lines', \n",
    "                         line = dict( width = 1 ),\n",
    "                         marker = dict( color = '#E377C2' ),\n",
    "                         yaxis = 'y2', name='Moving Average' ) )"
   ]
  },
  {
   "cell_type": "markdown",
   "metadata": {},
   "source": [
    "### Set volume bar chart colors"
   ]
  },
  {
   "cell_type": "code",
   "execution_count": null,
   "metadata": {},
   "outputs": [],
   "source": [
    "colors = []\n",
    "\n",
    "for i in range(len(df.Close)):\n",
    "    if i != 0:\n",
    "        if df.Close[i] > df.Close[i-1]:\n",
    "            colors.append(INCREASING_COLOR)\n",
    "        else:\n",
    "            colors.append(DECREASING_COLOR)\n",
    "    else:\n",
    "        colors.append(DECREASING_COLOR)"
   ]
  },
  {
   "cell_type": "markdown",
   "metadata": {},
   "source": [
    "### Add volume bar chart"
   ]
  },
  {
   "cell_type": "code",
   "execution_count": null,
   "metadata": {},
   "outputs": [],
   "source": [
    "fig['data'].append( dict( x=df.index, y=df.Volume,                         \n",
    "                         marker=dict( color=colors ),\n",
    "                         type='bar', yaxis='y', name='Volume' ) )"
   ]
  },
  {
   "cell_type": "markdown",
   "metadata": {},
   "source": [
    "### Add bollinger bands"
   ]
  },
  {
   "cell_type": "code",
   "execution_count": null,
   "metadata": {},
   "outputs": [],
   "source": [
    "def bbands(price, window_size=10, num_of_std=5):\n",
    "    rolling_mean = price.rolling(window=window_size).mean()\n",
    "    rolling_std  = price.rolling(window=window_size).std()\n",
    "    upper_band = rolling_mean + (rolling_std*num_of_std)\n",
    "    lower_band = rolling_mean - (rolling_std*num_of_std)\n",
    "    return rolling_mean, upper_band, lower_band\n",
    "\n",
    "bb_avg, bb_upper, bb_lower = bbands(df.Close)\n",
    "\n",
    "fig['data'].append( dict( x=df.index, y=bb_upper, type='scatter', yaxis='y2', \n",
    "                         line = dict( width = 1 ),\n",
    "                         marker=dict(color='#ccc'), hoverinfo='none', \n",
    "                         legendgroup='Bollinger Bands', name='Bollinger Bands') )\n",
    "\n",
    "fig['data'].append( dict( x=df.index, y=bb_lower, type='scatter', yaxis='y2',\n",
    "                         line = dict( width = 1 ),\n",
    "                         marker=dict(color='#ccc'), hoverinfo='none',\n",
    "                         legendgroup='Bollinger Bands', showlegend=False ) )"
   ]
  },
  {
   "cell_type": "markdown",
   "metadata": {},
   "source": [
    "### Plot"
   ]
  },
  {
   "cell_type": "code",
   "execution_count": null,
   "metadata": {},
   "outputs": [],
   "source": [
    "go.iplot( fig, filename = 'candlestick-test-3', validate = False )"
   ]
  },
  {
   "cell_type": "code",
   "execution_count": null,
   "metadata": {},
   "outputs": [],
   "source": [
    "import pandas as pd\n",
    "import plotly.graph_objects as go\n",
    "from plotly.subplots import make_subplots\n",
    "\n",
    "# data\n",
    "#df = pd.read_csv(\"https://raw.githubusercontent.com/plotly/datasets/master/finance-charts-apple.csv\")\n",
    "\n",
    "\n",
    "# Create subplots and mention plot grid size\n",
    "fig = make_subplots(rows=2, cols=1, shared_xaxes=True, \n",
    "               vertical_spacing=0.03, subplot_titles=(\"OHLC\", \"Volume\"), \n",
    "               row_width=[0.2, 0.7])\n",
    "\n",
    "# Plot OHLC on 1st row\n",
    "fig.add_trace(go.Candlestick(x=df['Date'], open=df['Open'], high=df['High'],\n",
    "                low=df['Low'], close=df['Close'], name='OHLC'), \n",
    "                row=1, col=1\n",
    ")\n",
    "\n",
    "# Bar trace for volumes on 2nd row without legend\n",
    "fig.add_trace(go.Bar(x=df['Date'], y=df['Volume'], showlegend=False), row=2, col=1)\n",
    "\n",
    "# Do not show OHLCs rangeslider plot \n",
    "fig.update(layout_xaxis_rangeslider_visible=False)\n",
    "fig.show()"
   ]
  },
  {
   "cell_type": "code",
   "execution_count": null,
   "metadata": {},
   "outputs": [],
   "source": [
    "df['Open']"
   ]
  },
  {
   "cell_type": "code",
   "execution_count": null,
   "metadata": {},
   "outputs": [],
   "source": []
  }
 ],
 "metadata": {
  "anaconda-cloud": {},
  "kernelspec": {
   "display_name": "Python 3 (ipykernel)",
   "language": "python",
   "name": "python3"
  },
  "language_info": {
   "codemirror_mode": {
    "name": "ipython",
    "version": 3
   },
   "file_extension": ".py",
   "mimetype": "text/x-python",
   "name": "python",
   "nbconvert_exporter": "python",
   "pygments_lexer": "ipython3",
   "version": "3.10.6"
  }
 },
 "nbformat": 4,
 "nbformat_minor": 4
}
