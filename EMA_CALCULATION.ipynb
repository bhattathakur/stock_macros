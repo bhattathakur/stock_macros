{
 "cells": [
  {
   "cell_type": "code",
   "execution_count": null,
   "metadata": {},
   "outputs": [],
   "source": [
    "#code from https://plainenglish.io/blog/how-to-calculate-the-ema-of-a-stock-with-python\n",
    "import numpy as np\n",
    "import pandas as pd\n",
    "import matplotlib.pyplot as plt\n",
    "#import pandas_datareader as web didnot work\n",
    "import yfinance as yf\n",
    "\n",
    "def calculate_ema(prices, days, smoothing=2):\n",
    "    ema = [sum(prices[:days]) / days]\n",
    "    for price in prices[days:]:\n",
    "        ema.append((price * (smoothing / (1 + days))) + ema[-1] * (1 - (smoothing / (1 + days))))\n",
    "    return ema\n",
    "\n",
    "symbol = 'AAPL'\n",
    "df = yf.download(symbol, '2015-01-01', '2016-01-01')\n",
    "df.head()\n",
    "\n",
    "ema = calculate_ema(df['Close'], 10)\n",
    "\n",
    "price_X = np.arange(df.shape[0]) # Creates array [0, 1, 2, 3, ..., df.shape[0]]\n",
    "ema_X = np.arange(10, df.shape[0]+1) # Creates array [10, 11, 12, 13, ..., df.shape[0]+1]\n",
    "                                     # We start at 10, because we use the first 10 values to calculate the SMA,\n",
    "                                     # then we calculate EMA form the 11th value\n",
    "\n",
    "plt.xlabel('Days')\n",
    "plt.ylabel('Price')\n",
    "plt.plot(price_X, df['Close'], label='Closing Prices')\n",
    "plt.plot(ema_X, ema, label='EMA')\n",
    "plt.legend()\n",
    "plt.show()"
   ]
  },
  {
   "cell_type": "code",
   "execution_count": null,
   "metadata": {},
   "outputs": [],
   "source": [
    "#code from https://www.alpharithms.com/calculating-moving-averages-in-python-585117/\n",
    "import pandas_ta as ta\n",
    "import yfinance as yf\n",
    "import plotly.graph_objects as go\n",
    "# Get the data\n",
    "df = yf.Ticker('TSLA').history(period='30d')[['Open', 'Close', 'High', 'Low', 'Volume']]\n",
    "# Add the indicators\n",
    "moving_averages = ta.Strategy(\n",
    "    name=\"moving indicators\",\n",
    "    ta=[\n",
    "        {\"kind\": \"sma\", \"length\": 10},\n",
    "        {\"kind\": \"ema\", \"length\": 5},\n",
    "    ]\n",
    ")\n",
    "# Disable multiprocessing, calculate averages\n",
    "df.ta.cores = 0  # optional, but requires if __name__ == \"__main__\" syntax if not set to 0\n",
    "df.ta.strategy(moving_averages)\n",
    "# Create the Plot\n",
    "fig = go.Figure(data=[\n",
    "    go.Ohlc(\n",
    "        x=df.index,\n",
    "        open=df['Open'],\n",
    "        high=df['High'],\n",
    "        low=df['Low'],\n",
    "        close=df['Close'],\n",
    "        increasing_line_color='blue',\n",
    "        decreasing_line_color='red',\n",
    "        showlegend=False,\n",
    "    ),\n",
    "])\n",
    "# Make it pretty\n",
    "layout = go.Layout(\n",
    "    plot_bgcolor='#efefef',\n",
    "    # Font Families\n",
    "    font_family='Monospace',\n",
    "    font_color='#000000',\n",
    "    font_size=20,\n",
    "    xaxis=dict(\n",
    "        rangeslider=dict(\n",
    "            visible=False\n",
    "        ))\n",
    ")\n",
    "fig.update_layout(layout)\n",
    "# Display (in browser by default)\n",
    "fig.show()"
   ]
  },
  {
   "cell_type": "code",
   "execution_count": null,
   "metadata": {},
   "outputs": [],
   "source": [
    "!pip install pandas-ta"
   ]
  },
  {
   "cell_type": "code",
   "execution_count": null,
   "metadata": {},
   "outputs": [],
   "source": [
    "!pip install plotly==5.8.2 "
   ]
  },
  {
   "cell_type": "code",
   "execution_count": null,
   "metadata": {},
   "outputs": [],
   "source": []
  }
 ],
 "metadata": {
  "kernelspec": {
   "display_name": "Python 3 (ipykernel)",
   "language": "python",
   "name": "python3"
  },
  "language_info": {
   "codemirror_mode": {
    "name": "ipython",
    "version": 3
   },
   "file_extension": ".py",
   "mimetype": "text/x-python",
   "name": "python",
   "nbconvert_exporter": "python",
   "pygments_lexer": "ipython3",
   "version": "3.10.6"
  }
 },
 "nbformat": 4,
 "nbformat_minor": 4
}
