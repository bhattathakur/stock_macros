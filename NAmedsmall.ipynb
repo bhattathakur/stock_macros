{
 "cells": [
  {
   "cell_type": "markdown",
   "id": "93246370-9518-41a5-8e77-8e28a9b5dc9f",
   "metadata": {},
   "source": [
    "# North American (Large/Medium/Small)"
   ]
  },
  {
   "cell_type": "code",
   "execution_count": null,
   "id": "bbf26aee-40c8-4d3d-b1f9-37b2339d064d",
   "metadata": {},
   "outputs": [],
   "source": [
    "import pandas as pd\n",
    "import numpy as np\n",
    "import mplfinance as mpf\n",
    "import matplotlib.pyplot as plt\n",
    "\n",
    "#all nasdaq data\n",
    "pd.set_option('display.max_columns', None);pd.set_option('display.max_rows', None)\n"
   ]
  },
  {
   "cell_type": "code",
   "execution_count": null,
   "id": "bef7c2ef-e526-4912-b59d-b62e96100050",
   "metadata": {},
   "outputs": [],
   "source": [
    "all_nasdaq='/home/thakur/test/combined/all_nasdaq.csv'\n",
    "df_nasdaq=pd.read_csv(all_nasdaq)\n",
    "df_nasdaq.head()"
   ]
  },
  {
   "cell_type": "code",
   "execution_count": null,
   "id": "42934f48-8f28-4cbe-a091-e081b4b931b9",
   "metadata": {},
   "outputs": [],
   "source": [
    "\n",
    "df_nasdaq=df_nasdaq[((df_nasdaq.CATEGORY=='large') | (df_nasdaq.CATEGORY=='medium') | (df_nasdaq.CATEGORY=='small'))&(df_nasdaq.COUNTRY=='United States')]\n",
    "df_nasdaq=df_nasdaq.query('HH & HL & HC & HV & (CP>5) & (`%CHG`>0)').sort_values(by='IPO',ascending=False)\n",
    "df_nasdaq.index=np.arange(1,df_nasdaq.shape[0]+1)\n",
    "df_nasdaq.fillna('N/A',inplace=True)\n",
    "df_nasdaq.head()\n"
   ]
  },
  {
   "cell_type": "code",
   "execution_count": null,
   "id": "916deaf1-5f6f-49f4-9950-7b7bd76b62f1",
   "metadata": {},
   "outputs": [],
   "source": [
    "sectors=df_nasdaq.SECTOR.unique()\n",
    "sectors"
   ]
  },
  {
   "cell_type": "code",
   "execution_count": null,
   "id": "cb000d69-4aae-4cbd-9f42-54e41ab7ed09",
   "metadata": {},
   "outputs": [],
   "source": [
    "#00df_nasdaq.columns\n",
    "sel_list=['TICKER', 'CP', 'RSI',\n",
    "       'SMA50', 'SMA200', 'VOL', 'AVGVOL', '%CHG', 'ATR',\n",
    "       'SECTOR', 'INDUSTRY', 'IPO', 'CATEGORY']\n",
    "df_nasdaq=df_nasdaq[sel_list]"
   ]
  },
  {
   "cell_type": "code",
   "execution_count": null,
   "id": "51920b4c-e095-461b-a439-2a75198cb003",
   "metadata": {},
   "outputs": [],
   "source": [
    "def plot_with_mpl(tick,root,day=60,sty='yahoo',typ='candle'):\n",
    "    \"returns the candle stick of a stock tick for the given root file.\"\n",
    "\n",
    "    df=pd.read_csv(root+tick+\".csv\").tail(day)\n",
    "    df.Volume=df.Volume/10**5              #100k volume\n",
    "    df.Date=pd.to_datetime(df.Date)\n",
    "    df.set_index('Date',inplace=True)\n",
    "    fig,axes=mpf.plot(df,type=typ,mav=(5,10),volume=True,tight_layout=False,figratio=(24,12),figscale=1,\n",
    "                    returnfig=True,style=sty)\n",
    "    axes[0].legend([\"5-SMA\",\"10-SMA\"],loc='upper center')\n",
    "    #axes[0].legend(loc='upper left')\n",
    "    axes[0].set_title(tick)\n",
    "    mpf.show()\n",
    "    "
   ]
  },
  {
   "cell_type": "code",
   "execution_count": null,
   "id": "862438bd-b740-4602-8087-76891fbded40",
   "metadata": {},
   "outputs": [],
   "source": []
  },
  {
   "cell_type": "code",
   "execution_count": null,
   "id": "5a7c2fda-37cc-4bf6-a13a-9a0b3a6e05ce",
   "metadata": {},
   "outputs": [],
   "source": [
    "\n",
    "fig, axes = plt.subplots(nrows=5, ncols=4,figsize=(30,20))\n",
    "days=20\n",
    "cols=axes.flat\n",
    "cat='Finance'\n",
    "cat_df=df_nasdaq[df_nasdaq['SECTOR']==cat].sort_values(by='CP')\n",
    "ticks=cat_df.TICKER.to_list();category=cat_df.CATEGORY.to_list()\n",
    "\n",
    "for i in range(len(ticks)):\n",
    "    tick=ticks[i]\n",
    "    root=f'/home/thakur/test/{category[i]}/'\n",
    "    #print(f\"root: {root}\")\n",
    "    df=pd.read_csv(root+tick+\".csv\",parse_dates=['Date']).tail(days)\n",
    "    df=df.reset_index()\n",
    "    df.Volume=df.Volume/10**6\n",
    "    # #print(f\"df {df}\\n\")\n",
    "    df.plot(x='Date',y='Adj Close',ax=cols[i])\n",
    "    #df.plot(x='Date',y='Volume',secondary_y=True, ax=cols[i],kind='line',mark_right=False,color='g')\n",
    "    #plt.plot('Adj Close')\n",
    "    # #g.plot(x='Datetime',y='Volume',ax=cols[j])\n",
    "    # plt.plot(x='Datetime',y='Volume',secondary_y=True, ax=cols[j],mark_right=False,color='g')\n",
    "    # #g.plot(x='Datetime',y='Volume',secondary_y=True, ax=cols[j],kind='line',mark_right=False,color='g')\n",
    "    cols[i].set_ylabel(\"Price ($)\");\n",
    "    cols[i].set_title(\"Test\")\n",
    "    #cols[i].right_ax.set_ylabel(\"Volume (mln)\");\n",
    "    plt.tight_layout()\n",
    "\n",
    "#finance\n",
    "# cat='Finance'\n",
    "# cat_df=df_nasdaq[df_nasdaq['SECTOR']==cat].sort_values(by='CP')\n",
    "# cat_df\n",
    "# #tiks=cat_df.TICK\n",
    "\n",
    "\n",
    "\n",
    "# def plot_with_myfunction(tick,root,day=60,sty='yahoo',typ='candle'):\n",
    "#     \"returns the candle stick of a stock tick for the given root file.\"\n",
    "\n",
    "#     df=pd.read_csv(root+tick+\".csv\").tail(day)\n",
    "#     df.Volume=df.Volume/10**5              #100k volume\n",
    "#     df.Date=pd.to_datetime(df.Date)\n",
    "#     df.set_index('Date',inplace=True)\n",
    "#     fig,axes=mpf.plot(df,type=typ,mav=(5,21),volume=True,tight_layout=False,figratio=(24,12),figscale=1,\n",
    "#                     returnfig=True,style=sty)\n",
    "#     axes[0].legend([\"5-SMA\",\"21-SMA\"],loc='upper center')\n",
    "#     #axes[0].legend(loc='upper left')\n",
    "#     axes[0].set_title(tick)\n",
    "#     mpf.show()\n",
    "    "
   ]
  },
  {
   "cell_type": "code",
   "execution_count": null,
   "id": "61f13559-45d8-437e-8a41-8195563a7993",
   "metadata": {},
   "outputs": [],
   "source": [
    "# cat_df=df_nasdaq[df_nasdaq['SECTOR']==cat].sort_values(by='CP')\n",
    "# ticks=cat_df.TICKER.to_list();category=cat_df.CATEGORY.to_list()\n",
    "# tick=ticks[0]\n",
    "# root=f'/home/thakur/test/{category[i]}/'\n",
    "# print(f\"root: {root}\")\n",
    "# df=pd.read_csv(root+tick+\".csv\",parse_dates=['Date']).tail(days)\n",
    "# df.columns\n",
    "# df.plot(x='Date',y='Adj Close')\n",
    "# df.plot(x='Date',y='Volume',secondary_y=True, kind='line',mark_right=False,color='g')"
   ]
  },
  {
   "cell_type": "code",
   "execution_count": null,
   "id": "4e8d2f1a-6ad0-405f-9cc0-8f4e7302ccdf",
   "metadata": {},
   "outputs": [],
   "source": [
    "for i in sectors:\n",
    "    cat_df=df_nasdaq[df_nasdaq['SECTOR']==i].sort_values(by='CP')\n",
    "    #cat_df=cat_df[cat_df['SMA50']>cat_df['SMA200']]\n",
    "    cat_df.index=np.arange(1,cat_df.shape[0]+1)\n",
    "    print(75*'==')\n",
    "    print(f\"\\n{i.upper()} \\n {cat_df.to_string()}\")\n",
    "    ticks=cat_df.TICKER.to_list();category=cat_df.CATEGORY.to_list()\n",
    "    for i in range(len(ticks)):\n",
    "        tick=ticks[i]\n",
    "        root=f'/home/thakur/test/{category[i]}/'\n",
    "    # print(f\"root: {root}\")\n",
    "    # print(f\"tick: {ticks[i]}\\tcategory:{category[i]}\")\n",
    "        plot_with_mpl(tick,root,sty='default')"
   ]
  },
  {
   "cell_type": "code",
   "execution_count": null,
   "id": "b9bf4e7d-af0f-45c1-8155-23dee6244df3",
   "metadata": {},
   "outputs": [],
   "source": [
    "#finance\n",
    "# cat='Finance'\n",
    "# cat_df=df_nasdaq[df_nasdaq['SECTOR']==cat].sort_values(by='CP')\n",
    "# cat_df\n",
    "# #tiks=cat_df.TICK"
   ]
  },
  {
   "cell_type": "code",
   "execution_count": null,
   "id": "59191688-8a62-44ac-8d70-c728c7cbdc7a",
   "metadata": {},
   "outputs": [],
   "source": [
    "# ticks=cat_df.TICKER.to_list();category=cat_df.CATEGORY.to_list()"
   ]
  },
  {
   "cell_type": "code",
   "execution_count": null,
   "id": "712aa5c7-9be0-4546-9dae-b697d2ce770c",
   "metadata": {},
   "outputs": [],
   "source": [
    "# for i in range(len(ticks)):\n",
    "#     tick=ticks[i]\n",
    "#     root=f'/home/thakur/test/{category[i]}/'\n",
    "#     # print(f\"root: {root}\")\n",
    "#     # print(f\"tick: {ticks[i]}\\tcategory:{category[i]}\")\n",
    "#     plot_with_mpl(tick,root,sty='default')"
   ]
  }
 ],
 "metadata": {
  "kernelspec": {
   "display_name": "Python 3 (ipykernel)",
   "language": "python",
   "name": "python3"
  },
  "language_info": {
   "codemirror_mode": {
    "name": "ipython",
    "version": 3
   },
   "file_extension": ".py",
   "mimetype": "text/x-python",
   "name": "python",
   "nbconvert_exporter": "python",
   "pygments_lexer": "ipython3",
   "version": "3.10.6"
  }
 },
 "nbformat": 4,
 "nbformat_minor": 5
}
