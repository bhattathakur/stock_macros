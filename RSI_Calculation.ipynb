{
 "cells": [
  {
   "cell_type": "code",
   "execution_count": null,
   "metadata": {},
   "outputs": [],
   "source": [
    "import yfinance as yf\n",
    "import pandas as pd\n",
    "import pandas_ta as ta"
   ]
  },
  {
   "cell_type": "code",
   "execution_count": null,
   "metadata": {},
   "outputs": [],
   "source": [
    "stock='AAPL'\n",
    "time='200d'\n",
    "print(\"Time Period\\t\",time)\n",
    "#stock=sys.argv[1]\n",
    "ticker=yf.Ticker(stock)\n",
    "df=ticker.history(period=time)\n",
    "\n",
    "def get_rsi(df):\n",
    "    \"\"\"returns 14 period RSI based on the closing price of a ticker for a given dataframe. Result was not \n",
    "    good for smaller dates\"\"\"\n",
    "\n",
    "    delta=df['Close'].diff()\n",
    "    up=delta.clip(lower=0)\n",
    "    ema_up=up.ewm(com=13,adjust=False).mean()\n",
    "    down=-1*delta.clip(upper=0)\n",
    "    ema_down=down.ewm(com=13,adjust=False).mean()\n",
    "\n",
    "    rs=ema_up/ema_down\n",
    "                                        \n",
    "\n",
    "    rsi=100-(100/(1+rs))\n",
    "    return rsi[-1].round(2)\n",
    "\n"
   ]
  },
  {
   "cell_type": "code",
   "execution_count": null,
   "metadata": {},
   "outputs": [],
   "source": [
    "tickers=[\"AAPL\",\"TSLA\",\"AMZN\"]\n",
    "time='50d'\n",
    "for i in tickers:\n",
    "    ticker=yf.Ticker(i)\n",
    "    df=ticker.history(period=time)\n",
    "    print(f\"pandas rsi of {i}: {get_rsi(df)}\\t {df.ta.rsi()[-1].round(2)} :rsi from ta-lib\")"
   ]
  },
  {
   "cell_type": "code",
   "execution_count": null,
   "metadata": {},
   "outputs": [],
   "source": [
    "#df=df.tail(14)\n",
    "\n",
    "adx=ta.adx(df['High'],df['Low'],df['Close'])\n",
    "\n",
    "round(adx.tail(1)['ADX_14'].values[0],2)\n",
    "adx.tail(5)"
   ]
  },
  {
   "cell_type": "code",
   "execution_count": null,
   "metadata": {},
   "outputs": [],
   "source": [
    "help(ta.adx)"
   ]
  },
  {
   "cell_type": "code",
   "execution_count": null,
   "metadata": {},
   "outputs": [],
   "source": [
    "df"
   ]
  },
  {
   "cell_type": "code",
   "execution_count": null,
   "metadata": {},
   "outputs": [],
   "source": [
    "df_pct=round(df.tail(2)['Close'].pct_change()[-1],3)\n",
    "df_pct"
   ]
  },
  {
   "cell_type": "code",
   "execution_count": null,
   "metadata": {},
   "outputs": [],
   "source": [
    "stock='AAPL'\n",
    "time='200d'\n",
    "print(\"Time Period\\t\",time)\n",
    "#stock=sys.argv[1]\n",
    "ticker=yf.Ticker(stock)\n",
    "df=ticker.history(period=time)"
   ]
  },
  {
   "cell_type": "code",
   "execution_count": null,
   "metadata": {},
   "outputs": [],
   "source": [
    "df=df.tail(20)\n",
    "ta.atr(df['High'],df['Low'],df['Close'])"
   ]
  },
  {
   "cell_type": "code",
   "execution_count": null,
   "metadata": {},
   "outputs": [],
   "source": [
    "df_20=df.tail(20)\n",
    "atr=round(ta.atr(df_20['High'],df_20['Low'],df_20['Close']).values[-1],2)\n",
    "print(f\"atr=> {atr}\")"
   ]
  },
  {
   "cell_type": "code",
   "execution_count": null,
   "metadata": {},
   "outputs": [],
   "source": []
  }
 ],
 "metadata": {
  "kernelspec": {
   "display_name": "Python 3",
   "language": "python",
   "name": "python3"
  },
  "language_info": {
   "codemirror_mode": {
    "name": "ipython",
    "version": 3
   },
   "file_extension": ".py",
   "mimetype": "text/x-python",
   "name": "python",
   "nbconvert_exporter": "python",
   "pygments_lexer": "ipython3",
   "version": "3.8.10"
  }
 },
 "nbformat": 4,
 "nbformat_minor": 4
}
