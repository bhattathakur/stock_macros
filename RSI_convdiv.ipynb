{
 "cells": [
  {
   "cell_type": "code",
   "execution_count": null,
   "metadata": {},
   "outputs": [],
   "source": [
    "import os\n",
    "import pandas as pd\n",
    "import talib"
   ]
  },
  {
   "cell_type": "code",
   "execution_count": null,
   "metadata": {},
   "outputs": [],
   "source": [
    "#read the file \n",
    "#calculate rsi and closing price\n",
    "#check rsi divergence or convergance for the given period\n",
    "#save in the list\n",
    "\n",
    "root='small/'                          #dir to read\n",
    "files=os.listdir(root)                #files at dir\n",
    "# save_df=root.split(\"/\")[0]+\"squeeze\"  #save df\n",
    "# save_df=dict()                        #save df dic\n",
    "# print(f\"save_df: {save_df}\")\n",
    "downperiod=200                        #total data to be used\n",
    "#period=10         #period for sma\n",
    "#multiplier=1.0\n",
    "test_days=5    #df taken to \n",
    "#sd=1.5\n",
    "priceup_rsidown=[]\n",
    "pricedown_rsiup=[]\n",
    "price_rsiup=[]\n",
    "price_rsidown=[]\n",
    "test=['MSP', 'COHR', 'PLAN']\n",
    "for i in files:\n",
    "    symbol=i.split(\".\")[0]\n",
    "    if symbol in test:continue\n",
    "    #if symbol!='AAPL':continue                  #limit for test\n",
    "    #print(f\"SYMBOL: {symbol}\")\n",
    "    if os.path.exists(root+i):\n",
    "        print(f\"{root+i} exists\")\n",
    " \n",
    "    df=pd.read_csv(root+i).tail(downperiod)     #data used to calculate parameters\n",
    "    df.fillna(0,inplace=True)                   #replace na with 0\n",
    "    \n",
    "    \n",
    "    close=df.Close;low=df.Low;high=df.High      #close,low,high\n",
    "    df.drop(df.columns[[5]],axis=1,inplace=True) #drop some columns\n",
    "    #upperband, middleband, lowerband = talib.BBANDS(close, timeperiod=period, nbdevup=sd, nbdevdn=sd, matype=0)\n",
    "    #getting the bband and adding in the dataframe df\n",
    "    df['rsi']=talib.RSI(close,timeperiod=14).round(2)\n",
    "    print(f\"\\nLast 5 rows of {symbol}\\n {df.tail(5)}\")\n",
    "    \n",
    "    #only extracting the dataframe for test days\n",
    "    \n",
    "    \n",
    "    #price and rsi for last n days, monotonically increasing or decreasing\n",
    "    price_increase=df.tail(test_days)['Close'].is_monotonic_increasing\n",
    "    price_decrease=df.tail(test_days)['Close'].is_monotonic_decreasing\n",
    "    rsi_increase=df.tail(test_days)['rsi'].is_monotonic_increasing\n",
    "    rsi_decrease=df.tail(test_days)['rsi'].is_monotonic_decreasing\n",
    "    \n",
    "    #df['Close'].is_monotonic_increasing\n",
    "    print(f\"price increases: {price_increase}\")\n",
    "    print(f\"price decreases: {price_decrease}\")\n",
    "    print(f\"rsi   increases: {rsi_increase}\")\n",
    "    print(f\"rsi   decreases: {rsi_decrease}\")\n",
    "    \n",
    "    if(price_decrease and rsi_increase):pricedown_rsiup.append(symbol)\n",
    "    if(price_increase and rsi_decrease):priceup_rsidown.append(symbol)\n",
    "    if(price_increase and rsi_increase):price_rsiup.append(symbol)\n",
    "    if(price_decrease and rsi_decrease):price_rsidown.append(symbol)\n",
    "        \n",
    "    \n",
    "    \n",
    "    \n",
    "#     df['upperbband']=upperband.round(2);df['lowerbband']=lowerband.round(2)\n",
    "#     df['sma50']=talib.SMA(close,50)\n",
    "    \n",
    "#     df['bbtest']=(close<df.upperbband)& (close>df.lowerbband)\n",
    "#     #only getting the dataframe for last 20 days\n",
    "#     df=df.tail(test_days)\n",
    "      \n",
    "    #df=df[df['squeeze_on']==True]\n",
    "#     last_price=round(df.tail(1)['Close'].values[0],2)\n",
    "# #     print(20*\"==\")\n",
    "# #     print(f\"Last Price of {symbol}: {last_price}\\n\")\n",
    "#     #df=df[df['squeeze_on']==True]\n",
    "#     last_sma50=round(df.tail(1)['sma50'].values[0],2)\n",
    "\n",
    "#     if not df.empty and df.bbtest.sum()==test_days:# and last_price>last_sma50:\n",
    "#         print(f\"Head of {symbol}\\n {df.tail(20)}\\n\")\n",
    "#         save_df[symbol]=df\n",
    "\n",
    "# print(20*\"++ \") \n",
    "# print(\"DICT\\n\")\n",
    "# print(save_df)"
   ]
  },
  {
   "cell_type": "code",
   "execution_count": null,
   "metadata": {},
   "outputs": [],
   "source": [
    "print(f\"Price Decreass RSI increases\\n{pricedown_rsiup}\")"
   ]
  },
  {
   "cell_type": "code",
   "execution_count": null,
   "metadata": {},
   "outputs": [],
   "source": [
    "print(f\"Price Increass RSI decreases\\n{priceup_rsidown}\")"
   ]
  },
  {
   "cell_type": "code",
   "execution_count": null,
   "metadata": {},
   "outputs": [],
   "source": [
    "print(f\"Price Up RSI Up\\n{price_rsiup}\")"
   ]
  },
  {
   "cell_type": "code",
   "execution_count": null,
   "metadata": {},
   "outputs": [],
   "source": [
    "print(f\"Price Down RSI Down\\n{price_rsidown}\")"
   ]
  },
  {
   "cell_type": "code",
   "execution_count": null,
   "metadata": {},
   "outputs": [],
   "source": [
    "#check if the dataframe is emplty\n",
    "df=pd.read_csv(\"medium/MSP.csv\")\n",
    "df.tail(10)"
   ]
  },
  {
   "cell_type": "code",
   "execution_count": null,
   "metadata": {},
   "outputs": [],
   "source": [
    "df1=df.loc[:,df.columns !='Date']"
   ]
  },
  {
   "cell_type": "code",
   "execution_count": null,
   "metadata": {},
   "outputs": [],
   "source": []
  },
  {
   "cell_type": "code",
   "execution_count": null,
   "metadata": {},
   "outputs": [],
   "source": []
  }
 ],
 "metadata": {
  "kernelspec": {
   "display_name": "Python 3",
   "language": "python",
   "name": "python3"
  },
  "language_info": {
   "codemirror_mode": {
    "name": "ipython",
    "version": 3
   },
   "file_extension": ".py",
   "mimetype": "text/x-python",
   "name": "python",
   "nbconvert_exporter": "python",
   "pygments_lexer": "ipython3",
   "version": "3.8.10"
  }
 },
 "nbformat": 4,
 "nbformat_minor": 4
}
