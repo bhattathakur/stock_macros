{
 "cells": [
  {
   "cell_type": "code",
   "execution_count": null,
   "id": "7320aace-5786-4071-b592-c8a17d039084",
   "metadata": {},
   "outputs": [],
   "source": [
    "#web scrapping for nasdaq 100 from https://www.nasdaq.com/market-activity/quotes/nasdaq-ndx-index"
   ]
  },
  {
   "cell_type": "code",
   "execution_count": null,
   "id": "0c3aa924-43f3-46f2-a653-267f207aac75",
   "metadata": {},
   "outputs": [],
   "source": [
    " import pandas as pd\n",
    "# import numpy as np\n",
    "# from bs4 import BeautifulSoup\n",
    "# import requests\n",
    "# import re\n",
    "# import csv\n",
    "# from io import StringIO\n",
    "# import json"
   ]
  },
  {
   "cell_type": "code",
   "execution_count": null,
   "id": "82c2b8fe-33f9-4231-ad9e-eb3bef0dbbaa",
   "metadata": {},
   "outputs": [],
   "source": []
  }
 ],
 "metadata": {
  "kernelspec": {
   "display_name": "Python 3 (ipykernel)",
   "language": "python",
   "name": "python3"
  },
  "language_info": {
   "codemirror_mode": {
    "name": "ipython",
    "version": 3
   },
   "file_extension": ".py",
   "mimetype": "text/x-python",
   "name": "python",
   "nbconvert_exporter": "python",
   "pygments_lexer": "ipython3",
   "version": "3.10.6"
  }
 },
 "nbformat": 4,
 "nbformat_minor": 5
}
