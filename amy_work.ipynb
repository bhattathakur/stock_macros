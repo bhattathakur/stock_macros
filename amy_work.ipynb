{
 "cells": [
  {
   "cell_type": "code",
   "execution_count": null,
   "metadata": {},
   "outputs": [],
   "source": [
    "import pandas as pd\n",
    "import yfinance as yf\n",
    "from datetime import date\n",
    "import numpy as np\n",
    "import plotly.graph_objects as go\n",
    "import mplfinance as mpf\n",
    "pd.set_option(\"display.max_rows\", None, \"display.max_columns\", None)\n"
   ]
  },
  {
   "cell_type": "code",
   "execution_count": null,
   "metadata": {},
   "outputs": [],
   "source": [
    "#read the file\n",
    "\n",
    "output_files=[\"nasdaq_mega\", \"nasdaq_large\",\"nasdaq_medium\",\"nasdaq_small\",\"nasdaq_micro\",\"nasdaq_nano\"]\n",
    "save_dir=\"/home/thakur/test/combined/\"\n",
    "today=date.today()\n",
    "today=today.strftime(\"%m%d%y\")\n",
    "#overide due to delay analysis\n",
    "today='091722'\n",
    "\n",
    "print(f\"Today: {today}\\n\")\n"
   ]
  },
  {
   "cell_type": "code",
   "execution_count": null,
   "metadata": {},
   "outputs": [],
   "source": [
    "def get_info(stock,par):\n",
    "    \"\"\"\n",
    "    returns the par information regarding the stock\n",
    "    \"\"\"\n",
    "    ticker=yf.Ticker(stock)\n",
    "    print(f\"Working for {stock}\")\n",
    "    return ticker.info[par]\n",
    "\n",
    "\n",
    "    \n",
    "\n",
    "#mega['BETA']=mega['TICKER'].apply(lambda x:get_info(x,\"beta\"))\n",
    "\n",
    "def change_index(df):\n",
    "    \"changes the index of a dataframe from 1 to length of the dataframe\"\n",
    "    df.index=np.arange(1,len(df.index)+1)\n",
    "    return df\n",
    "\n",
    "def get_df_len(df):\n",
    "    \"gives the length of the dataframe\"\n",
    "    print(f\"Length: {len(df.index)}\")\n",
    "    return len(df.index)\n",
    "    \n",
    "\n",
    "def get_all_info(st):\n",
    "    \"returns all the information of the given ticker\"\n",
    "    t=yf.Ticker(st)\n",
    "    info=t.info\n",
    "    info_df=pd.DataFrame.from_dict(info,orient='index',columns=['VALUE'])\n",
    "    info_df.index.name='INFO'\n",
    "    return info_df\n",
    "\n",
    "#create yfinance portfolio sample\n",
    "def yahoo_portfolio(df,save_name):\n",
    "    \"\"\"\n",
    "    returns the yfinance compatable portfolio template for given df name of save file\n",
    "    \"\"\"\n",
    "    cols=['Symbol','Current Price','Date', 'Time', 'Change', 'Open', 'High', 'Low', 'Volume', 'Trade Date',\n",
    "          'Purchase Price','Quantity','Commission','High Limit','Low Limit','Comment']\n",
    "\n",
    "    sym=list(df.TICKER)\n",
    "    dic_val=[sym]+14*[None] #14 None\n",
    "    my_dict=dict(zip(cols,dic_val)) #dictionary\n",
    "    my_df=pd.DataFrame.from_dict(my_dict)\n",
    "    my_df.to_csv(save_name+\".csv\")\n",
    "    print(f\"Created the yahoo template: {save_name}.csv from data frame !\")\n",
    "    \n",
    "def get_graph(tick):\n",
    "    \"get line graph for given stock\"\n",
    "    ticker= yf.Ticker(tick)\n",
    "    df = ticker.history(period='52wk')\n",
    "\n",
    "    fig = go.Figure(data=go.Scatter(x=df.index,y=df['Close'], mode='lines'))\n",
    "    fig.show()\n",
    "\n",
    "def plot_with_mpl(tick,root,day=60,sty='yahoo',typ='candle'):\n",
    "    \"returns the candle stick of a stock tick for the given root file.\"\n",
    "\n",
    "    df=pd.read_csv(root+tick+\".csv\").tail(day)\n",
    "    df.Volume=df.Volume/10**5              #100k volume\n",
    "    df.Date=pd.to_datetime(df.Date)\n",
    "    df.set_index('Date',inplace=True)\n",
    "    fig,axes=mpf.plot(df,type=typ,mav=(5,21),volume=True,tight_layout=False,figratio=(24,12),figscale=1,\n",
    "                    returnfig=True,style=sty)\n",
    "    axes[0].legend([\"5-SMA\",\"21-SMA\"],loc='upper center')\n",
    "    #axes[0].legend(loc='upper left')\n",
    "    axes[0].set_title(tick)\n",
    "    mpf.show()\n",
    "    "
   ]
  },
  {
   "cell_type": "markdown",
   "metadata": {},
   "source": [
    "## INFO\n",
    "['zip','sector',\n",
    " 'fullTimeEmployees',\n",
    " 'longBusinessSummary',\n",
    " 'city',\n",
    " 'phone',\n",
    " 'state',\n",
    " 'country',\n",
    " 'companyOfficers',\n",
    " 'website',\n",
    " 'maxAge',\n",
    " 'address1',\n",
    " 'industry',\n",
    " 'ebitdaMargins',\n",
    " 'profitMargins',\n",
    " 'grossMargins',\n",
    " 'operatingCashflow',\n",
    " 'revenueGrowth',\n",
    " 'operatingMargins',\n",
    " 'ebitda',\n",
    " 'targetLowPrice',\n",
    " 'recommendationKey',\n",
    " 'grossProfits',\n",
    " 'freeCashflow',\n",
    " 'targetMedianPrice',\n",
    " 'currentPrice',\n",
    " 'earningsGrowth',\n",
    " 'currentRatio',\n",
    " 'returnOnAssets',\n",
    " 'numberOfAnalystOpinions',\n",
    " 'targetMeanPrice',\n",
    " 'debtToEquity',\n",
    " 'returnOnEquity',\n",
    " 'targetHighPrice',\n",
    " 'totalCash',\n",
    " 'totalDebt',\n",
    " 'totalRevenue',\n",
    " 'totalCashPerShare',\n",
    " 'financialCurrency',\n",
    " 'revenuePerShare',\n",
    " 'quickRatio',\n",
    " 'recommendationMean',\n",
    " 'exchange',\n",
    " 'shortName',\n",
    " 'longName',\n",
    " 'exchangeTimezoneName',\n",
    " 'exchangeTimezoneShortName',\n",
    " 'isEsgPopulated',\n",
    " 'gmtOffSetMilliseconds',\n",
    " 'quoteType',\n",
    " 'symbol',\n",
    " 'messageBoardId',\n",
    " 'market',\n",
    " 'annualHoldingsTurnover',\n",
    " 'enterpriseToRevenue',\n",
    " 'beta3Year',\n",
    " 'enterpriseToEbitda',\n",
    " '52WeekChange',\n",
    " 'morningStarRiskRating',\n",
    " 'forwardEps',\n",
    " 'revenueQuarterlyGrowth',\n",
    " 'sharesOutstanding',\n",
    " 'fundInceptionDate',\n",
    " 'annualReportExpenseRatio',\n",
    " 'totalAssets',\n",
    " 'bookValue',\n",
    " 'sharesShort',\n",
    " 'sharesPercentSharesOut',\n",
    " 'fundFamily',\n",
    " 'lastFiscalYearEnd',\n",
    " 'heldPercentInstitutions',\n",
    " 'netIncomeToCommon',\n",
    " 'trailingEps',\n",
    " 'lastDividendValue',\n",
    " 'SandP52WeekChange',\n",
    " 'priceToBook',\n",
    " 'heldPercentInsiders',\n",
    " 'nextFiscalYearEnd',\n",
    " 'yield',\n",
    " 'mostRecentQuarter',\n",
    " 'shortRatio',\n",
    " 'sharesShortPreviousMonthDate',\n",
    " 'floatShares',\n",
    " 'beta',\n",
    " 'enterpriseValue',\n",
    " 'priceHint',\n",
    " 'threeYearAverageReturn',\n",
    " 'lastSplitDate',\n",
    " 'lastSplitFactor',\n",
    " 'legalType',\n",
    " 'lastDividendDate',\n",
    " 'morningStarOverallRating',\n",
    " 'earningsQuarterlyGrowth',\n",
    " 'priceToSalesTrailing12Months',\n",
    " 'dateShortInterest',\n",
    " 'pegRatio',\n",
    " 'ytdReturn',\n",
    " 'forwardPE',\n",
    " 'lastCapGain',\n",
    " 'shortPercentOfFloat',\n",
    " 'sharesShortPriorMonth',\n",
    " 'impliedSharesOutstanding',\n",
    " 'category',\n",
    " 'fiveYearAverageReturn',\n",
    " 'previousClose',\n",
    " 'regularMarketOpen',\n",
    " 'twoHundredDayAverage',\n",
    " 'trailingAnnualDividendYield',\n",
    " 'payoutRatio',\n",
    " 'volume24Hr',\n",
    " 'regularMarketDayHigh',\n",
    " 'navPrice',\n",
    " 'averageDailyVolume10Day',\n",
    " 'regularMarketPreviousClose',\n",
    " 'fiftyDayAverage',\n",
    " 'trailingAnnualDividendRate',\n",
    " 'open',\n",
    " 'toCurrency',\n",
    " 'averageVolume10days',\n",
    " 'expireDate',\n",
    " 'algorithm',\n",
    " 'dividendRate',\n",
    " 'exDividendDate',\n",
    " 'circulatingSupply',\n",
    " 'startDate',\n",
    " 'regularMarketDayLow',\n",
    " 'currency',\n",
    " 'trailingPE',\n",
    " 'regularMarketVolume',\n",
    " 'lastMarket',\n",
    " 'maxSupply',\n",
    " 'openInterest',\n",
    " 'marketCap',\n",
    " 'volumeAllCurrencies',\n",
    " 'strikePrice',\n",
    " 'averageVolume',\n",
    " 'dayLow',\n",
    " 'ask',\n",
    " 'askSize',\n",
    " 'volume',\n",
    " 'fiftyTwoWeekHigh',\n",
    " 'fromCurrency',\n",
    " 'fiveYearAvgDividendYield',\n",
    " 'fiftyTwoWeekLow',\n",
    " 'bid',\n",
    " 'tradeable',\n",
    " 'dividendYield',\n",
    " 'bidSize',\n",
    " 'dayHigh',\n",
    " 'coinMarketCapLink',\n",
    " 'regularMarketPrice',\n",
    " 'logo_url']"
   ]
  },
  {
   "cell_type": "code",
   "execution_count": null,
   "metadata": {},
   "outputs": [],
   "source": [
    "def HH_df(df):\n",
    "    \"\"\"\n",
    "    higher high data-frame info for given dataframe\n",
    "    \"\"\"\n",
    "    filter=(df['HH']==True)\n",
    "    return df[filter]\n",
    "\n",
    "def HL_df(df):\n",
    "    \"\"\"\n",
    "    higher low data-frame info for given dataframe\n",
    "    \"\"\"\n",
    "    filter=(df['HL']==True)\n",
    "    return df[filter]\n",
    "\n",
    "def HC_df(df):\n",
    "    \"\"\"\n",
    "    higher close data-frame info for given dataframe\n",
    "    \"\"\"\n",
    "    filter=(df['HC']==True)\n",
    "    return df[filter]\n",
    "\n",
    "def HHHL_df(df):\n",
    "    \"\"\"\n",
    "    higher high higher low data-frame info for given dataframe\n",
    "    \"\"\"\n",
    "    filter=((df['HH']==True) & (df['HL']==True))\n",
    "    return df[filter]\n",
    "\n",
    "def HHHLHC_df(df):\n",
    "    \"\"\"\n",
    "    higher high higher low data-frame info for given dataframe\n",
    "    \"\"\"\n",
    "    filter=((df['HH']==True) & (df['HL']==True)& (df['HC']==True))\n",
    "    return df[filter]\n",
    "\n",
    "def check_consolidation(st_file,days=10,threhold=2):\n",
    "    \"\"\"\n",
    "    checks if a stock is consolidating for the given period of time.\n",
    "    \"\"\"\n",
    "    df=pd.read_csv(st_file).tail(days)\n",
    "    #print(f\"Close of {st_file}\\t {df['Close']}\\n\")\n",
    "    close_min=df['Close'].min();close_max=df['Close'].max()\n",
    "    #print(f\"Min Close of {st_file}:\\t {close_min}\\n\")\n",
    "    #print(f\"Max Close of {st_file}:\\t {close_max}\\n\")\n",
    "    \n",
    "    #defining the condition of consolidation\n",
    "    if(close_min>=(1-threhold/100)*close_max):\n",
    "       print(f\"{st_file:50}Consolidating..!\")\n",
    "       return True\n",
    "    else:\n",
    "       print(f\"{st_file:50}\\tNot Consolidating..!\")\n",
    "       return False\n",
    "    \n",
    "#modify the df cp>sma,order by cp, rsi1>50 rsi2<70\n",
    "def modify_df(df,sma,rsi1=50,rsi2=70):\n",
    "    \"\"\"\n",
    "    returns the modified data-frame based on the given conditions\n",
    "    \"\"\"\n",
    "    f1=(df['CP']>df[sma]);f2=(df['RSI']>rsi1);f3=(df['RSI']<rsi2)\n",
    "    df=df[f1 & f2 & f3]\n",
    "    df=df.sort_values(by=['CP'])\n",
    "    df=change_index(df)\n",
    "    print(f\"Total length: {len(df.index)}\")\n",
    "    return df"
   ]
  },
  {
   "cell_type": "code",
   "execution_count": null,
   "metadata": {},
   "outputs": [],
   "source": [
    "print(f\"Working on the data on {today}\")\n",
    "df_mega=pd.read_csv(save_dir+output_files[0]+today+\".csv\")\n",
    "df_large=pd.read_csv(save_dir+output_files[1]+today+\".csv\")\n",
    "df_medium=pd.read_csv(save_dir+output_files[2]+today+\".csv\")\n",
    "df_small=pd.read_csv(save_dir+output_files[3]+today+\".csv\")\n",
    "df_micro=pd.read_csv(save_dir+output_files[4]+today+\".csv\")\n",
    "df_nano=pd.read_csv(save_dir+output_files[5]+today+\".csv\")\n"
   ]
  },
  {
   "cell_type": "code",
   "execution_count": null,
   "metadata": {},
   "outputs": [],
   "source": [
    "df_mega['CATEGORY']=\"mega\";df_large['CATEGORY']=\"large\";df_medium[\"CATEGORY\"]=\"medium\";df_small[\"CATEGORY\"]=\"small\"\n",
    "df_micro['CATEGORY']=\"micro\";df_nano['CATEGORY']=\"nano\"\n"
   ]
  },
  {
   "cell_type": "markdown",
   "metadata": {},
   "source": [
    "# combine all the dataframe"
   ]
  },
  {
   "cell_type": "code",
   "execution_count": null,
   "metadata": {},
   "outputs": [],
   "source": [
    "ignore_nano=False\n",
    "if ignore_nano==False:\n",
    "    df_total=pd.concat([df_mega,df_large,df_medium,df_small,df_micro,df_nano])\n",
    "else:df_total=pd.concat([df_mega,df_large,df_medium,df_small,df_micro])\n",
    "    \n",
    "print(f\"Total number: {len(df_total.index)}\")\n",
    "df_inc=df_total.sort_values(by=[\"%CHG\"],ascending=False).dropna()\n",
    "df_inc.index=np.arange(1,len(df_inc.index)+1)\n",
    "df_inc=df_inc.round(2)\n",
    "df_inc.head(40)\n",
    "aee=df_inc[df_inc['TICKER']=='AEE']\n",
    "aee"
   ]
  },
  {
   "cell_type": "markdown",
   "metadata": {},
   "source": [
    "# group by $$HealthCare$$"
   ]
  },
  {
   "cell_type": "code",
   "execution_count": null,
   "metadata": {},
   "outputs": [],
   "source": [
    "#group by the industry\n",
    "df_healthcare=df_inc[df_inc[\"SECTOR\"]=='Health Care']\n",
    "price_cut=2\n",
    "df_healthcare=df_healthcare[(df_healthcare['CP']>price_cut)&(df_healthcare['HH']==True) & (df_healthcare['HC']==True)& (df_healthcare['HL']==True) & (df_healthcare['HV']==True) & (df_healthcare['VOL']>df_healthcare['AVGVOL'])]\n",
    "df_healthcare=df_healthcare.sort_values(by=['CP']).dropna()\n",
    "\n",
    "df_healthcare=change_index(df_healthcare)\n",
    "print(f\"Total: {len(df_healthcare.index)}\")\n",
    "df_healthcare.head(20)"
   ]
  },
  {
   "cell_type": "code",
   "execution_count": null,
   "metadata": {},
   "outputs": [],
   "source": [
    "#group by the industry\n",
    "df_test=df_inc[df_inc[\"SECTOR\"]=='Health Care']\n",
    "#df_test.head()\n",
    "# price_cut=2\n",
    "# df_healthcare=df_healthcare[(df_healthcare['CP']>price_cut)&(df_healthcare['HH']==True) & (df_healthcare['HC']==True)& (df_healthcare['HL']==True) & (df_healthcare['HV']==True) & (df_healthcare['VOL']>df_healthcare['AVGVOL'])]\n",
    "# df_healthcare=df_healthcare.sort_values(by=['CP']).dropna()\n",
    "\n",
    "# df_healthcare=change_index(df_healthcare)\n",
    "# print(f\"Total: {len(df_healthcare.index)}\")\n",
    "# df_healthcare.head(20)\n",
    "df=modify_df(df_test,sma='SMA5')\n",
    "df.head(5)"
   ]
  },
  {
   "cell_type": "markdown",
   "metadata": {},
   "source": [
    "# ALL PENNY STOCKS PRICE < $ 10; 50<RSI<60; NANO; HH; HL; HC\n"
   ]
  },
  {
   "cell_type": "code",
   "execution_count": null,
   "metadata": {},
   "outputs": [],
   "source": [
    "#group by the industry\n",
    "import numpy as np\n",
    "df_healthcare=df_inc\n",
    "price_cut=10\n",
    "#df_healthcare.replace(np.inf,0,inplace=True)\n",
    "rsi_f=((df_healthcare['RSI']<60) & (df_healthcare['RSI']>50))\n",
    "pch=(df_healthcare['%CHG']!=np.inf)\n",
    "df_healthcare=df_healthcare[(df_healthcare['CP']<price_cut)&(df_healthcare['HH']==True) & (df_healthcare['HC']==True)& (df_healthcare['HL']==True) & (df_healthcare['HV']==True) & (df_healthcare['VOL']>df_healthcare['AVGVOL']) & rsi_f & pch]\n",
    "df_healthcare=df_healthcare[df_healthcare['CATEGORY']!='nano']\n",
    "df_healthcare=df_healthcare.sort_values(by=['CP']).dropna()\n",
    "\n",
    "df_healthcare=change_index(df_healthcare)\n",
    "print(f\"Total: {len(df_healthcare.index)}\")\n",
    "df_healthcare.head(20)"
   ]
  },
  {
   "cell_type": "markdown",
   "metadata": {},
   "source": [
    "# %CHG Decreasing !!!"
   ]
  },
  {
   "cell_type": "code",
   "execution_count": null,
   "metadata": {},
   "outputs": [],
   "source": [
    "# df_total=pd.concat([df_mega,df_large,df_medium,df_small,df_micro,df_nano])\n",
    "# print(f\"Total number: {len(df_total.index)}\")\n",
    "df_dec=df_total.sort_values(by=[\"%CHG\"]).dropna()\n",
    "df_dec=df_dec[df_dec['CP']!=0.0]\n",
    "df_dec.index=np.arange(1,len(df_dec.index)+1)\n",
    "df_dec.head(20)"
   ]
  },
  {
   "cell_type": "markdown",
   "metadata": {},
   "source": [
    "# Price greater than SMA-50 & SMA-200\n"
   ]
  },
  {
   "cell_type": "code",
   "execution_count": null,
   "metadata": {},
   "outputs": [],
   "source": [
    "fil=((df_total['CP']>df_total['SMA50'])&(df_total['CP']>df_total['SMA200']) & (df_total['CATEGORY']!='nano'))\n",
    "gt=df_total[fil]\n",
    "gt=gt.sort_values(by=['CP'])\n",
    "\n",
    "print(f\"Total with price above sma-50 and sma-200: {len(gt.index)}\")\n",
    "change_index(gt)\n",
    "gt.head(20)"
   ]
  },
  {
   "cell_type": "markdown",
   "metadata": {},
   "source": [
    "# FILTERS"
   ]
  },
  {
   "cell_type": "code",
   "execution_count": null,
   "metadata": {},
   "outputs": [],
   "source": [
    "hh_filter=(df_large['HH']==True)\n",
    "hl_filter=(df_large['HL']==True)\n",
    "hc_filter=(df_large['HC']==True)\n",
    "hv_filter=(df_large['HV']==True)\n",
    "df_high=df_large[hh_filter & hl_filter & hc_filter & hv_filter]"
   ]
  },
  {
   "cell_type": "markdown",
   "metadata": {},
   "source": [
    "# HH and HL test"
   ]
  },
  {
   "cell_type": "code",
   "execution_count": null,
   "metadata": {},
   "outputs": [],
   "source": [
    "mega=HHHL_df(df_mega)\n",
    "mega=mega[(mega['RSI']>50) & (mega['CP']>mega['SMA5'])]\n",
    "mega=mega.sort_values(by=['CP'])\n",
    "print(f\"Total mega: {len(mega.index)}\")\n",
    "\n",
    "mega=change_index(mega)\n",
    "mega"
   ]
  },
  {
   "cell_type": "markdown",
   "metadata": {},
   "source": [
    "# HH, HL, HC, RSI>50, CP>SMA5"
   ]
  },
  {
   "cell_type": "code",
   "execution_count": null,
   "metadata": {},
   "outputs": [],
   "source": [
    "large=HHHLHC_df(df_large)\n",
    "large=large[(large['RSI']>50) & (large['CP']>large['SMA5']) & (large['%CHG']!=np.inf)]\n",
    "large=large.sort_values(by=['CP'])\n",
    "\n",
    "print(f\"Total large: {len(large.index)}\")\n",
    "large=change_index(large)\n",
    "large.head(20)\n"
   ]
  },
  {
   "cell_type": "code",
   "execution_count": null,
   "metadata": {},
   "outputs": [],
   "source": [
    "medium=HHHLHC_df(df_medium)\n",
    "medium=medium[(medium['RSI']>50) & (medium['CP']>medium['SMA5'])]\n",
    "medium=medium.sort_values(by=['CP'])\n",
    "medium=change_index(medium)\n",
    "print(f\"Total medium: {len(medium.index)}\")\n",
    "medium.head(20)"
   ]
  },
  {
   "cell_type": "code",
   "execution_count": null,
   "metadata": {},
   "outputs": [],
   "source": [
    "small=HHHLHC_df(df_small)\n",
    "change_index(small)\n",
    "print(f\"Total small: {len(small.index)}\")\n",
    "small.head(5)"
   ]
  },
  {
   "cell_type": "code",
   "execution_count": null,
   "metadata": {},
   "outputs": [],
   "source": [
    "micro=HHHLHC_df(df_micro)\n",
    "change_index(micro)\n",
    "print(f\"Total micro: {len(micro.index)}\")\n",
    "micro.head(5)"
   ]
  },
  {
   "cell_type": "code",
   "execution_count": null,
   "metadata": {},
   "outputs": [],
   "source": [
    "nano=HHHLHC_df(df_nano)\n",
    "change_index(nano)\n",
    "print(f\"Total nano: {len(nano.index)}\")\n",
    "nano.head(5)"
   ]
  },
  {
   "cell_type": "markdown",
   "metadata": {},
   "source": [
    "# Combine HH and HL data frames"
   ]
  },
  {
   "cell_type": "code",
   "execution_count": null,
   "metadata": {},
   "outputs": [],
   "source": [
    "#combined=[mega,large,medium,small]#,micro]#,nano]  #Alert nano is not included\n",
    "combined=[mega,large,medium,small,micro,nano]  #Alert nano is not included\n",
    "df_c=pd.concat(combined)\n",
    "#df_c=df_c[(df_c['HV']==True) & (df_c['VOL']>df_c['AVGVOL']) & (df_c['SMA50']<df_c['CP']) & (df_c['SMA200']<df_c['CP']) \n",
    "          #& (df_c['HC']==True) & (df_c['RSI']>50) & (df_c['%CHG']>0)]\n",
    "# df_c=df_c[(df_c['VOL']>df_c['AVGVOL']) & (df_c['SMA50']<df_c['CP'])  \n",
    "#           & (df_c['HC']==True) & (df_c['RSI']>50) & (df_c['%CHG']>0)]\n",
    "# df_c=df_c[df_c['%CHG']!=np.inf]\n",
    "#df_c\n",
    "\n",
    "\n",
    "#atr less than 5% of a price\n",
    "df_c=df_c[df_c['CP']>0.0];df_c=df_c[df_c['RSI']<80];df_c=df_c[df_c['CP']>df_c['SMA50']];df_c=df_c[df_c['CP']>df_c['SMA200']];\n",
    "df_c=df_c[df_c['%CHG']!=np.inf]; df_c=df_c[df_c['HV']==True];df_c=df_c[df_c['VOL']>0.0]\n",
    "df_c=df_c.sort_values(by=['CP'])\n",
    "\n",
    "#change NaN with Others\n",
    "df_c.fillna(\"Others\")\n",
    "df_c=df_c.replace(np.NaN,'Others')\n",
    "change_index(df_c)\n",
    "print(f\"Total count {len(df_c.index)}\")\n",
    "df_c.round(2)\n",
    "df_c.head(20)\n",
    "\n"
   ]
  },
  {
   "cell_type": "code",
   "execution_count": null,
   "metadata": {},
   "outputs": [],
   "source": [
    "s=list(df_c.SECTOR.unique())\n",
    "for i in s:\n",
    "    print(f\"\\n      === {i.upper()} ===\\n\")\n",
    "    df=df_c[df_c.SECTOR==i]\n",
    "    df=df.loc[:,['TICKER','CP','CATEGORY']]\n",
    "    print(df)\n",
    "    print()\n",
    "    #print(f\"{df_c[df_c.SECTOR==i]}\")"
   ]
  },
  {
   "cell_type": "code",
   "execution_count": null,
   "metadata": {},
   "outputs": [],
   "source": [
    "save_file='nasdaq'+today+'.csv'\n",
    "print(f\"save file: {save_file}\")\n",
    "df_c.to_csv(save_file,index=False)"
   ]
  },
  {
   "cell_type": "markdown",
   "metadata": {},
   "source": [
    "# ATR order"
   ]
  },
  {
   "cell_type": "code",
   "execution_count": null,
   "metadata": {},
   "outputs": [],
   "source": [
    "df_c=df_c[df_c['CP']<10]\n",
    "df_a=df_c.sort_values(by='ATR',ascending=False);\n",
    "change_index(df_a)\n",
    "print(f\"Total count {len(df_a.index)}\")\n",
    "df_a.head(20)"
   ]
  },
  {
   "cell_type": "markdown",
   "metadata": {},
   "source": [
    "# RSI SORT"
   ]
  },
  {
   "cell_type": "code",
   "execution_count": null,
   "metadata": {},
   "outputs": [],
   "source": [
    "df_c=df_c.sort_values(by=[\"RSI\"],ascending=False)\n",
    "df_c=df_c[df_c.CP!=0.0]\n",
    "df_c=change_index(df_c)\n",
    "print(f\"Total Length: {len(df_c.index)}\")\n",
    "df_c.head(20)"
   ]
  },
  {
   "cell_type": "code",
   "execution_count": null,
   "metadata": {},
   "outputs": [],
   "source": [
    "\n",
    "df_c.tail(10)"
   ]
  },
  {
   "cell_type": "markdown",
   "metadata": {},
   "source": [
    "# More Filters"
   ]
  },
  {
   "cell_type": "code",
   "execution_count": null,
   "metadata": {},
   "outputs": [],
   "source": [
    "rsi=(df_c['RSI']>50)           #rsi above 50\n",
    "rsi0=(df_c['RSI']<70)\n",
    "p50=(df_c['CP']>df_c['SMA50']) #price above sma50\n",
    "p200=(df_c['CP']>df_c['SMA200']) #price above sma50\n",
    "hc=(df_c['HC']==True)          #higher close\n",
    "vol=(df_c['VOL']>df_c['AVGVOL'])\n",
    "#vol=((df_c['VOL']>df_c['AVGVOL']) & (df_c['AVGVOL']>1))\n",
    "#ab=(df_c['SMA200']<df_c['SMA50']) & (df_c['SMA50']<df_c['SMA21'])\n"
   ]
  },
  {
   "cell_type": "markdown",
   "metadata": {},
   "source": [
    "# Criterion\n",
    "- **50 < RSI < 70**\n",
    "- **CP>SMA50>SMA200**\n",
    "- **SMA21>SMA50>SMA200**\n",
    "- **HC**\n",
    "- **VOL>VOL(10)**"
   ]
  },
  {
   "cell_type": "code",
   "execution_count": null,
   "metadata": {},
   "outputs": [],
   "source": [
    "#df_co=df_c[rsi & rsi0 & p50  & vol & hc & p200 & ab]\n",
    "df_co=df_c[rsi & rsi0 & p50  & vol  & p200]\n",
    "df_co=df_co.sort_values(by=['CP'])\n",
    "change_index(df_co)\n",
    "get_df_len(df_co)\n",
    "\n",
    "#df_c.index=np.arange(1,len(df_c.index)+1)\n",
    "\n",
    "#print(f\"Total result {len(df_c.index)}\")\n",
    "df_co.round(2)\n",
    "\n",
    "#save in the file\n",
    "#yahoo_portfolio(df_co,\"july08\")"
   ]
  },
  {
   "cell_type": "code",
   "execution_count": null,
   "metadata": {},
   "outputs": [],
   "source": [
    "# for i in list(df_c['TICKER']):\n",
    "#     get_graph(i)"
   ]
  },
  {
   "cell_type": "code",
   "execution_count": null,
   "metadata": {},
   "outputs": [],
   "source": [
    "#penny stocks\n",
    "f_penny=df_c['CP']<5\n",
    "df_penny=df_c[f_penny]\n",
    "\n",
    "df_others=df_c[~f_penny] #negation\n"
   ]
  },
  {
   "cell_type": "code",
   "execution_count": null,
   "metadata": {},
   "outputs": [],
   "source": [
    "df_penny\n",
    "df_penny.sort_values(by=['CP']).head(20)"
   ]
  },
  {
   "cell_type": "code",
   "execution_count": null,
   "metadata": {},
   "outputs": [],
   "source": [
    "df_others\n",
    "df_others.sort_values(by=['CP']).head(20)"
   ]
  },
  {
   "cell_type": "markdown",
   "metadata": {},
   "source": [
    "# S&P 500 "
   ]
  },
  {
   "cell_type": "code",
   "execution_count": null,
   "metadata": {},
   "outputs": [],
   "source": [
    "#change snp to list\n",
    "#data frame for the S&P \n",
    "\n",
    "snp_csv=pd.read_csv(\"/home/thakur/stock_information/snplist.csv\")\n",
    "#snp_df.head()\n",
    "snp_list=list(snp_csv['Symbol'])\n",
    "snp_list[:10]\n"
   ]
  },
  {
   "cell_type": "code",
   "execution_count": null,
   "metadata": {},
   "outputs": [],
   "source": [
    "snp_df=df_total[df_total['TICKER'].isin(snp_list)]\n",
    "snp_df=snp_df.sort_values(by=['%CHG'],ascending=False)\n",
    "snp_df.index=np.arange(1,len(snp_df.index)+1)\n",
    "snp_df.head(20)"
   ]
  },
  {
   "cell_type": "markdown",
   "metadata": {},
   "source": [
    "# SAVE S&P"
   ]
  },
  {
   "cell_type": "code",
   "execution_count": null,
   "metadata": {},
   "outputs": [],
   "source": [
    "snp_fil=snp_df[(snp_df['HH']==True) & (snp_df['HL']==True) & (snp_df['HC']==True)&(snp_df['RSI']>50)&(snp_df['RSI']<70) & (snp_df['CP']>snp_df['SMA50']) & (snp_df['SMA50']>snp_df['SMA200'])] #hh, hl, hc\n",
    "snp_fil=snp_fil.sort_values(by=['CP'])\n",
    "change_index(snp_fil)"
   ]
  },
  {
   "cell_type": "code",
   "execution_count": null,
   "metadata": {},
   "outputs": [],
   "source": [
    "# #tests\n",
    "# up20=snp_df.sort_values(by=['%CHG'],ascending=False)\n",
    "# change_index(up20)\n",
    "# up20.head(20)"
   ]
  },
  {
   "cell_type": "code",
   "execution_count": null,
   "metadata": {},
   "outputs": [],
   "source": [
    "#change snp to list\n",
    "#data frame for dow jones\n",
    "\n",
    "dow_csv=pd.read_csv(\"/home/thakur/stock_information/dow.csv\")\n",
    "#snp_df.head()\n",
    "dow_list=list(dow_csv['Symbol'])\n",
    "dow_list[:10]\n"
   ]
  },
  {
   "cell_type": "code",
   "execution_count": null,
   "metadata": {},
   "outputs": [],
   "source": [
    "import numpy as np\n",
    "dow_df=df_total[df_total['TICKER'].isin(dow_list)]\n",
    "dow_df=dow_df.sort_values(by=['%CHG'],ascending=False)\n",
    "\n",
    "#dow_df.reset_index()\n",
    "#dow_df.drop(['index'])\n",
    "dow_df.index=np.arange(1,len(dow_df.index)+1)\n",
    "dow_df"
   ]
  },
  {
   "cell_type": "code",
   "execution_count": null,
   "metadata": {},
   "outputs": [],
   "source": [
    "dow_fl=dow_df[(dow_df['HH']==True) & (dow_df['HL']==True) & (dow_df['HC']==True) & (dow_df['RSI']>50)]\n",
    "change_index(dow_fl)"
   ]
  },
  {
   "cell_type": "code",
   "execution_count": null,
   "metadata": {},
   "outputs": [],
   "source": [
    "\n",
    "\n",
    "#hh and hl in the yahoo compatable file\n",
    "#yahoo_portfolio(df_c,save_dir+today+\"hhhl\")"
   ]
  },
  {
   "cell_type": "code",
   "execution_count": null,
   "metadata": {},
   "outputs": [],
   "source": [
    "#apply rsi and price>50 sma\n",
    "# df_1=df_c[rsi & p50]\n",
    "# yahoo_portfolio(df_1,\"df1_test\")"
   ]
  },
  {
   "cell_type": "code",
   "execution_count": null,
   "metadata": {},
   "outputs": [],
   "source": [
    "# df_c['BETA']=df_c['TICKER'].apply(lambda x:get_info(x,\"beta\"))\n",
    "# df_c.round(2)"
   ]
  },
  {
   "cell_type": "code",
   "execution_count": null,
   "metadata": {},
   "outputs": [],
   "source": [
    "#df_c.round(2)"
   ]
  },
  {
   "cell_type": "code",
   "execution_count": null,
   "metadata": {},
   "outputs": [],
   "source": [
    "df_c=df_c[rsi & p50 & vol].head()\n",
    "df_c.round(2)"
   ]
  },
  {
   "cell_type": "code",
   "execution_count": null,
   "metadata": {},
   "outputs": [],
   "source": []
  }
 ],
 "metadata": {
  "kernelspec": {
   "display_name": "Python 3 (ipykernel)",
   "language": "python",
   "name": "python3"
  },
  "language_info": {
   "codemirror_mode": {
    "name": "ipython",
    "version": 3
   },
   "file_extension": ".py",
   "mimetype": "text/x-python",
   "name": "python",
   "nbconvert_exporter": "python",
   "pygments_lexer": "ipython3",
   "version": "3.10.6"
  }
 },
 "nbformat": 4,
 "nbformat_minor": 4
}
