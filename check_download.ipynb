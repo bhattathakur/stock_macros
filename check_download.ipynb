{
 "cells": [
  {
   "cell_type": "code",
   "execution_count": null,
   "metadata": {},
   "outputs": [],
   "source": [
    "import pandas as pd\n",
    "import os\n",
    "import yfinance as yf"
   ]
  },
  {
   "cell_type": "code",
   "execution_count": null,
   "metadata": {},
   "outputs": [],
   "source": [
    "f=\"nasdaq_micro.csv\"\n",
    "dest=\"/home/thakur/test/micro/\"\n",
    "df=pd.read_csv(\"/home/thakur/stock_information/nasdaq_micro.csv\")[\"Symbol\"].to_list()\n",
    "df\n",
    "# df_files=[i+\".csv\" for i in df]\n",
    "# df_files\n",
    "# mega=[i+\".csv\" for i in mega]\n",
    "\n",
    "# #check the files if downloaded \n",
    "\n",
    "\n",
    "for i in df:\n",
    "    check=os.path.exists(dest+i+\".csv\")\n",
    "    if not check:\n",
    "        print(f\"{i}: does not exists at {dest}\")\n",
    "    i\n",
    "#df"
   ]
  },
  {
   "cell_type": "code",
   "execution_count": null,
   "metadata": {},
   "outputs": [],
   "source": [
    "#check_mega\n",
    "dest=\"/home/thakur/test/mega/\"\n",
    "df=pd.read_csv(\"/home/thakur/stock_information/nasdaq_mega.csv\")[\"Symbol\"].to_list()\n",
    "files=[i+\".csv\" for i in df]\n",
    "for file in files:\n",
    "    ch=os.path.exists(dest+file)\n",
    "    #print(f\"{file} check {ch}!\")\n",
    "    if not ch:\n",
    "        print(f\"{file} not in {dest}\")\n",
    "        "
   ]
  },
  {
   "cell_type": "code",
   "execution_count": null,
   "metadata": {},
   "outputs": [],
   "source": [
    "#check_mega\n",
    "dest=\"/home/thakur/test/large/\"\n",
    "df=pd.read_csv(\"/home/thakur/stock_information/nasdaq_large.csv\")[\"Symbol\"].to_list()\n",
    "files=[i+\".csv\" for i in df]\n",
    "for file in files:\n",
    "    ch=os.path.exists(dest+file)\n",
    "    #print(f\"{file} check {ch}!\")\n",
    "    if not ch:\n",
    "        print(f\"{file} not in {dest}\")\n",
    "        "
   ]
  },
  {
   "cell_type": "code",
   "execution_count": null,
   "metadata": {},
   "outputs": [],
   "source": [
    "#check_medium\n",
    "dest=\"/home/thakur/test/medium/\"\n",
    "df=pd.read_csv(\"/home/thakur/stock_information/nasdaq_medium.csv\")[\"Symbol\"].to_list()\n",
    "files=[i+\".csv\" for i in df]\n",
    "for file in files:\n",
    "    ch=os.path.exists(dest+file)\n",
    "    print(f\"{file} check {ch}!\")\n",
    "    if not ch:\n",
    "        print(f\"{file} not in {dest}\")\n",
    "        "
   ]
  },
  {
   "cell_type": "code",
   "execution_count": null,
   "metadata": {},
   "outputs": [],
   "source": [
    "#check_small\n",
    "dest=\"/home/thakur/test/small/\"\n",
    "df=pd.read_csv(\"/home/thakur/stock_information/nasdaq_small.csv\")[\"Symbol\"].to_list()\n",
    "files=[i+\".csv\" for i in df]\n",
    "for file in files:\n",
    "    ch=os.path.exists(dest+file)\n",
    "    print(f\"{file} check {ch}!\")\n",
    "    if not ch:\n",
    "        print(f\"{file} not in {dest}\")\n",
    "        "
   ]
  },
  {
   "cell_type": "code",
   "execution_count": null,
   "metadata": {},
   "outputs": [],
   "source": [
    "f=\"large\"\n",
    "def check_files(f):\n",
    "    dest=\"/home/thakur/test/{}/\".format(f)\n",
    "    #print(f\"dest: {dest}\")\n",
    "    df=pd.read_csv(\"/home/thakur/stock_information/nasdaq_{}.csv\".format(f),keep_default_na=False)[\"Symbol\"].to_list()\n",
    "    #print(f\"df: {df}\")\n",
    "    files=[i+\".csv\" for i in df]\n",
    "    #print(f\"files: {files}\")\n",
    "    for file in files:\n",
    "        ch=os.path.exists(dest+file)\n",
    "        #print(f\"{file} check {ch}!\")\n",
    "        if not ch:\n",
    "            print(f\"{file} not in {dest}\")\n",
    "check_files(f)\n"
   ]
  },
  {
   "cell_type": "code",
   "execution_count": null,
   "metadata": {},
   "outputs": [],
   "source": [
    "ty=['mega','large','medium','small','micro','nano']\n",
    "for i in ty:\n",
    "    print(20*\"==\");print(i)\n",
    "    check_files(i)"
   ]
  },
  {
   "cell_type": "code",
   "execution_count": null,
   "metadata": {},
   "outputs": [],
   "source": []
  },
  {
   "cell_type": "code",
   "execution_count": null,
   "metadata": {},
   "outputs": [],
   "source": [
    "df=pd.read_csv(\"/home/thakur/stock_information/nasdaq_small.csv\")\n",
    "l=df['Symbol'].tolist()\n",
    "#f=[i+\".csv\" for i in l]"
   ]
  },
  {
   "cell_type": "code",
   "execution_count": null,
   "metadata": {},
   "outputs": [],
   "source": [
    "[i+\".csv\" for i in l]\n"
   ]
  },
  {
   "cell_type": "code",
   "execution_count": null,
   "metadata": {},
   "outputs": [],
   "source": [
    "nano_error=['GBBKR',\n",
    " 'WHLRL',\n",
    " 'GECCM',\n",
    " 'CLOER',\n",
    " 'ESSCR',\n",
    " 'SFB',\n",
    " 'VTAQR',\n",
    " 'ALSAR',\n",
    " 'CSLMR',\n",
    " 'DMAQR',\n",
    " 'MCAFR',\n",
    " 'BREZR',\n",
    " 'STRCW',\n",
    " 'SAGAR',\n",
    " 'CLAQR',\n",
    " 'MPACR',\n",
    " 'EMP',\n",
    " 'PPHPR',\n",
    " 'PNACR',\n",
    " 'WTMAR',\n",
    " 'AGBAR',\n",
    " 'PEARW',\n",
    " 'ACAXR',\n",
    " 'BNIXR',\n",
    " 'THACW',\n",
    " 'MAAQR',\n",
    " 'NOVVR',\n",
    " 'EAI',\n",
    " 'NVACR',\n",
    " 'KYCHR',\n",
    " 'FXCOR',\n",
    " 'GBRGR',\n",
    " 'BRACR',\n",
    " 'JGGCR',\n",
    " 'CLRCR'\n",
    "]"
   ]
  },
  {
   "cell_type": "code",
   "execution_count": null,
   "metadata": {},
   "outputs": [],
   "source": [
    "\n",
    "data = yf.download(\n",
    "tickers=nano_error,\n",
    "period='52wk',\n",
    "threads=True,\n",
    "group_by='ticker',\n",
    "rounding=True)"
   ]
  },
  {
   "cell_type": "code",
   "execution_count": null,
   "metadata": {},
   "outputs": [],
   "source": [
    "for i in data:\n",
    "    print(i)"
   ]
  },
  {
   "cell_type": "code",
   "execution_count": null,
   "metadata": {},
   "outputs": [],
   "source": [
    "df=pd.read_csv(\"/home/thakur/stock_information/nasdaq_small.csv\",keep_default_na=False)\n",
    "df.head()"
   ]
  },
  {
   "cell_type": "code",
   "execution_count": null,
   "metadata": {},
   "outputs": [],
   "source": [
    "df['Symbol']"
   ]
  },
  {
   "cell_type": "code",
   "execution_count": null,
   "metadata": {},
   "outputs": [],
   "source": [
    "for i in list(df['Symbol']):\n",
    "    print(f\"{i}\\t\")\n",
    "    dc=any(c.isdigit() for c in i)\n",
    "    #print(f\"Type of {i}: {type(i)}\")\n",
    "    if(dc):\n",
    "        print(f\"{i} has digit!\")\n",
    "    \n",
    "    \n",
    "    "
   ]
  },
  {
   "cell_type": "code",
   "execution_count": null,
   "metadata": {},
   "outputs": [],
   "source": []
  }
 ],
 "metadata": {
  "kernelspec": {
   "display_name": "Python 3 (ipykernel)",
   "language": "python",
   "name": "python3"
  },
  "language_info": {
   "codemirror_mode": {
    "name": "ipython",
    "version": 3
   },
   "file_extension": ".py",
   "mimetype": "text/x-python",
   "name": "python",
   "nbconvert_exporter": "python",
   "pygments_lexer": "ipython3",
   "version": "3.10.6"
  }
 },
 "nbformat": 4,
 "nbformat_minor": 4
}
