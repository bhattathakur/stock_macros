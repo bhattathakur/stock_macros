{
 "cells": [
  {
   "cell_type": "markdown",
   "metadata": {},
   "source": [
    "\n",
    "### Testing the consolidation of a stock based on the closing price limits for threshold days"
   ]
  },
  {
   "cell_type": "code",
   "execution_count": null,
   "metadata": {},
   "outputs": [],
   "source": [
    "#libraries\n",
    "import pandas as pd\n",
    "from datetime import datetime\n",
    "import os"
   ]
  },
  {
   "cell_type": "code",
   "execution_count": null,
   "metadata": {},
   "outputs": [],
   "source": [
    "#basic root directory\n",
    "dirs=['/mega','/large','/medium','/small','/micro','/nano']\n",
    "dirs[0]\n",
    "today=datetime.now().strftime(\"%m%d%y\")\n",
    "print(f\"now: {today}\")\n",
    "#print(now.strftime(\"%m%d%Y\"))"
   ]
  },
  {
   "cell_type": "code",
   "execution_count": null,
   "metadata": {},
   "outputs": [],
   "source": [
    "\n",
    "def check_consolidation(st_file,days=20,threhold=2):\n",
    "    \"\"\"\n",
    "    checks if a stock is consolidating for the given period of time.\n",
    "    \"\"\"\n",
    "    df=pd.read_csv(st_file).tail(days)\n",
    "    #print(f\"Close of {st_file}\\t {df['Close']}\\n\")\n",
    "    close_min=df['Close'].min();close_max=df['Close'].max()\n",
    "    #print(f\"Min Close of {st_file}:\\t {close_min}\\n\")\n",
    "    #print(f\"Max Close of {st_file}:\\t {close_max}\\n\")\n",
    "    \n",
    "    #defining the condition of consolidation\n",
    "    if(close_min>=(1-threhold/100)*close_max):\n",
    "       print(f\"{st_file:50}Consolidating..!\")\n",
    "       return True\n",
    "    else:\n",
    "       print(f\"{st_file:50}\\tNot Consolidating..!\")\n",
    "       return False\n",
    "    \n",
    "    #return df\n",
    "    "
   ]
  },
  {
   "cell_type": "code",
   "execution_count": null,
   "metadata": {},
   "outputs": [],
   "source": [
    "cons=dict()\n",
    "c=1\n",
    "for j in range(len(dirs)):\n",
    "   \n",
    "    path=os.getcwd()+dirs[j]+\"/\"\n",
    "    files=os.listdir(path)   \n",
    "    print(f\"\\n<==Files in {path}==>\\n\")\n",
    "\n",
    "    for i in range(len(files)):\n",
    "        print(f\"count: {c}\")\n",
    "        c+=1\n",
    "        print(\"file\\t\", path+files[i])\n",
    "        tf=check_consolidation(path+files[i],30,5)\n",
    "        cons[files[i]]=tf"
   ]
  },
  {
   "cell_type": "code",
   "execution_count": null,
   "metadata": {},
   "outputs": [],
   "source": [
    "df=pd.DataFrame.from_dict(cons,orient='index').reset_index().rename(columns={\"index\":\"Ticker\",0:\"status\"})\n",
    "#df[Ti]\n",
    "df['Ticker']=df['Ticker'].apply(lambda x:x.strip('.csv'))\n",
    "df"
   ]
  },
  {
   "cell_type": "code",
   "execution_count": null,
   "metadata": {},
   "outputs": [],
   "source": [
    "save_dir=\"/home/thakur/test/combined/\"\n",
    "status_filter=df['status']==True\n",
    "#status_filter\n",
    "df_cons=df[status_filter]['Ticker']\n",
    "df_cons.to_csv(save_dir+\"consolidation\"+today+\".csv\",index=False)\n",
    "df_cons"
   ]
  },
  {
   "cell_type": "code",
   "execution_count": null,
   "metadata": {},
   "outputs": [],
   "source": [
    "\n"
   ]
  },
  {
   "cell_type": "code",
   "execution_count": null,
   "metadata": {},
   "outputs": [],
   "source": [
    "pt=55*\"--\"\n",
    "for i in dirs:\n",
    "    files=os.listdir(os.getcwd()+i)\n",
    "    print(f\"{pt}\\n files in {i}: \\n {files}\")\n",
    "#     for i in files:\n",
    "#         print(\"file: {i}\")\n",
    "    "
   ]
  },
  {
   "cell_type": "code",
   "execution_count": null,
   "metadata": {},
   "outputs": [],
   "source": [
    "#files=os.listdir(os.getcwd())\n",
    "\n",
    "path=os.getcwd()+dirs[0]+\"/\"\n",
    "files=os.listdir(path)\n",
    "\n",
    "# files[0]\n",
    "# for i in files:\n",
    "#     df=pd.read_csv(path+i)\n",
    "#     print(f\"tail of {i} {df.tail(10)}\")\n",
    "# #read file \n",
    "# #files+\"/\"+files[0]+\"/\"\n",
    "# file[0]\n",
    "#path+files[0]\n",
    "len(files)\n",
    "for i in range(len(files)):\n",
    "    print(\"files \\t\", path+files[i])"
   ]
  },
  {
   "cell_type": "code",
   "execution_count": null,
   "metadata": {},
   "outputs": [],
   "source": [
    "#files=os.listdir(os.getcwd())\n",
    "\n",
    "# path=os.getcwd()+dirs[0]+\"/\"\n",
    "# files=os.listdir(path)\n",
    "\n",
    "# files[0]\n",
    "# for i in files:\n",
    "#     df=pd.read_csv(path+i)\n",
    "#     print(f\"tail of {i} {df.tail(10)}\")\n",
    "# #read file \n",
    "# #files+\"/\"+files[0]+\"/\"\n",
    "# file[0]\n",
    "#path+files[0]\n",
    "#len(files)\n",
    "count=0\n",
    "for j in range(len(dirs)):\n",
    "    path=os.getcwd()+dirs[j]+\"/\"\n",
    "    files=os.listdir(path)   \n",
    "    print(f\"\\n<==Files in {path}==>\\n\")\n",
    "\n",
    "    for i in range(len(files)):\n",
    "        count+=1\n",
    "        print(\"files \\t\", path+files[i])\n",
    "print(f\"Total files: {count}\")"
   ]
  },
  {
   "cell_type": "code",
   "execution_count": null,
   "metadata": {},
   "outputs": [],
   "source": [
    "check_consolidation(path+files[0])"
   ]
  },
  {
   "cell_type": "code",
   "execution_count": null,
   "metadata": {},
   "outputs": [],
   "source": [
    "for i in range(len(files)):check_consolidation(path+files[i],10,4)"
   ]
  },
  {
   "cell_type": "code",
   "execution_count": null,
   "metadata": {},
   "outputs": [],
   "source": [
    "d=dict()"
   ]
  },
  {
   "cell_type": "code",
   "execution_count": null,
   "metadata": {},
   "outputs": [],
   "source": [
    "d['APPL']=True"
   ]
  },
  {
   "cell_type": "code",
   "execution_count": null,
   "metadata": {},
   "outputs": [],
   "source": [
    "d"
   ]
  },
  {
   "cell_type": "code",
   "execution_count": null,
   "metadata": {},
   "outputs": [],
   "source": []
  }
 ],
 "metadata": {
  "kernelspec": {
   "display_name": "Python 3",
   "language": "python",
   "name": "python3"
  },
  "language_info": {
   "codemirror_mode": {
    "name": "ipython",
    "version": 3
   },
   "file_extension": ".py",
   "mimetype": "text/x-python",
   "name": "python",
   "nbconvert_exporter": "python",
   "pygments_lexer": "ipython3",
   "version": "3.8.10"
  }
 },
 "nbformat": 4,
 "nbformat_minor": 4
}
