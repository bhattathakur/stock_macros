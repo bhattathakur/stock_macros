{
 "cells": [
  {
   "cell_type": "code",
   "execution_count": null,
   "metadata": {},
   "outputs": [],
   "source": [
    "#libraries\n",
    "import numpy as np\n",
    "import matplotlib.pyplot as plt\n",
    "import pandas as pd\n",
    "\n",
    "#function to find the common between any two dataframe for number of ranks\n",
    "def common(df1,col1,df2,col2,rank=50):\n",
    "    return np.intersect1d(df1[col1][:rank],df2[col2][:rank],assume_unique=True,return_indices=False)\n",
    "\n",
    "#change two rows below\n",
    "date='05142021'\n",
    "dd=14\n",
    "\n",
    "diff1=1\n",
    "diff2=1\n",
    "data1=\"data/05\"+str(dd)+\"2021.csv\"\n",
    "data2=\"data/05\"+str(dd-diff1)+\"2021.csv\"\n",
    "data3=\"data/05\"+str(dd-diff2)+\"2021.csv\"\n",
    "print(\"data1: {} data2: {} data3: {}\".format(data1,data2,data3))\n",
    "df1=pd.read_csv(data1,skiprows=1)\n",
    "df2=pd.read_csv(data2,skiprows=1)\n",
    "df3=pd.read_csv(data3,skiprows=1)\n",
    "\n",
    "today=df1.copy(deep=False)\n",
    "yesterday=df2.copy(deep=False)\n",
    "ereyesterday=df3.copy(deep=False)"
   ]
  },
  {
   "cell_type": "code",
   "execution_count": null,
   "metadata": {},
   "outputs": [],
   "source": [
    "#libraries\n",
    "import numpy as np\n",
    "import matplotlib.pyplot as plt\n",
    "import pandas as pd\n",
    "\n",
    "#function to find the common between any two dataframe for number of ranks\n",
    "def common1(df1,col1,df2,col2,rank=50):\n",
    "    xy,x_ind,y_ind=np.intersect1d(df1[col1][:rank],df2[col2][:rank],return_indices=True)\n",
    "    #arr=np.column_stack((xy,x_ind,y_ind))\n",
    "    #print(arr)\n",
    "    #dataframe from dict\n",
    "    d={'ticker':xy,col1:x_ind,col2:y_ind}\n",
    "    df=pd.DataFrame(data=d)\n",
    "    #print(df)\n",
    "    return df\n",
    "    #arr=np.array([xy,x_ind,y_ind])\n",
    "    #col=[\"TICKER\",col1,col2]\n",
    "    #df=pd.DataFrame(xy)\n",
    "    #print(\"type-xy\",type(xy))\n",
    "    #print(\"pre day common\\n\",xy)\n",
    "    #print(\"pre-market indices\\n\",x_ind)\n",
    "    #print(\"day indices\\n\",y_ind)\n",
    "    #print(\"2d array\\n\",arr)\n",
    "    #print(\"Data Frame\\n\",df)\n",
    "    #return xy,x_ind,y_ind\n",
    "    #xy\n",
    "\n",
    "#change two rows below\n",
    "date='05142021'\n",
    "dd=14\n",
    "\n",
    "diff1=1\n",
    "diff2=1\n",
    "data1=\"data/05\"+str(dd)+\"2021.csv\"\n",
    "data2=\"data/05\"+str(dd-diff1)+\"2021.csv\"\n",
    "data3=\"data/05\"+str(dd-diff2)+\"2021.csv\"\n",
    "print(\"data1: {} data2: {} data3: {}\".format(data1,data2,data3))\n",
    "df1=pd.read_csv(data1,skiprows=1)\n",
    "df2=pd.read_csv(data2,skiprows=1)\n",
    "df3=pd.read_csv(data3,skiprows=1)\n",
    "\n",
    "today=df1.copy(deep=False)\n",
    "yesterday=df2.copy(deep=False)\n",
    "ereyesterday=df3.copy(deep=False)"
   ]
  },
  {
   "cell_type": "code",
   "execution_count": null,
   "metadata": {},
   "outputs": [],
   "source": [
    "# returns the data frame based on the common element in two columns\n",
    "def common2(df1,col1,df2,col2,basis=\"day\"):\n",
    "    com=common1(df1,col1,df2,col2)\n",
    "    sorted_com=com.sort_values(by=[basis])\n",
    "    return sorted_com\n",
    "#dff=comm(today,\"pre_market\",today,\"day\")    \n",
    "#dff\n",
    "# returns the data frame based on the common element in three columns\n",
    "def common3(df1,col1,df2,col2,df3,col3,basis=\"day\"):\n",
    "    com1=common1(df1,col1,df2,col2)\n",
    "    com2=common1(df2,col2,df3,col3)\n",
    "    sorted_com1=com1.sort_values(by=[basis])\n",
    "    sorted_com2=com2.sort_values(by=[basis])\n",
    "    return sorted_com1,sorted_com2\n",
    "\n",
    "#today's pre, day and after hours ranking\n",
    "def pre_day_after_today():\n",
    "    df1,df2=common3(today,\"pre_market\",today,\"day\",today,\"post_market\")\n",
    "    result=pd.merge(df1,df2,on=[\"ticker\",\"day\"],how=\"outer\")\n",
    "    result=result.fillna('-')\n",
    "    return result\n",
    "\n",
    "#yesterday's after,today's pre and day\n",
    "def post_yesterday_today():\n",
    "    df1,df2=common3(yesterday,\"post_market\",today,\"pre_market\",today,\"day\")\n",
    "    result=pd.merge(df1,df2,on=[\"ticker\",\"pre_market\"],how=\"outer\")\n",
    "    result=result.fillna('-')\n",
    "    return result\n",
    "dff1,dff2=common3(today,\"pre_market\",today,\"day\",yesterday,\"post_market\",\"day\")    \n",
    "#print(dff1)\n",
    "#print(dff2)\n",
    "#result=dff1.append(dff2,sort=False)\n",
    "#result=pd.merge(dff1,dff2,how=\"outer\",on=\"ticker\")\n",
    "result=pd.merge(dff1,dff2,on=[\"ticker\",\"day\"],how=\"outer\")\n",
    "#result.replace(np.NaN,-1)\n",
    "result=result.fillna('-')\n",
    "#result=result.drop(columns=['day_y'])\n",
    "post_yesterday_today()"
   ]
  },
  {
   "cell_type": "code",
   "execution_count": null,
   "metadata": {},
   "outputs": [],
   "source": [
    "pre_day_after_today()\n",
    "#df1=common3(today,\"pre_market\",today,\"day\",today,\"post_market\")\n",
    "#df1\n",
    "#post_yesterday_today()"
   ]
  },
  {
   "cell_type": "code",
   "execution_count": null,
   "metadata": {},
   "outputs": [],
   "source": [
    "#OUTPUT IN THIS TERMINAL\n",
    "#column names in the df\n",
    "col=[\"pre_market\",\"day\",\"post_market\",\"loser\",\"most_active\",\"volume\"]\n",
    "print(80*\"-\")\n",
    "com_pre_day_today=common(today,\"pre_market\",today,\"day\")                    #pre and day\n",
    "com_day_post_today=common(today,\"day\",today,\"post_market\")                  #day and post\n",
    "com_pre_day_post_today=np.intersect1d(com_pre_day_today,com_day_post_today) #pre, day, and post\n",
    "\n",
    "print(\"{:>40} ({})\\n\".format(\"TODAY\",date[:2]+\"/\"+date[2:4]+\"/\"+date[4:]))\n",
    "#print(\"{}\\n\".format(today))\n",
    "print(\"\\npre <=> day:\\n\\n{}\".format(com_pre_day_today))\n",
    "print(\"\\nday <=> post:\\n\\n{}\".format(com_day_post_today))\n",
    "print(\"\\npre <=> day <=>post:\\n\\n{}\".format(com_pre_day_post_today))\n",
    "print(80*\"-\")\n",
    "\n",
    "#today and yesterday\n",
    "com_pre_day_post_yesterday=common(today,\"pre_market\",yesterday,\"post_market\")       #pre-today, post yesterday\n",
    "#com_day_post_today=common(today,\"day\",today,\"post_market\")                          #day and post\n",
    "com_pre_day_today_yesterday_post=np.intersect1d(com_pre_day_post_yesterday,com_pre_day_today)         \n",
    "#pre, day, and post\n",
    "\n",
    "print(\"\\n{:>60}\\n\".format(\"TODAY'S PRE YESTERDAY'S AFTER HOUR\"))\n",
    "print(\"{}\".format(com_pre_day_post_yesterday))\n",
    "#print(\"\\nday <=> post:\\n\\n{}\".format(com_day_post_today))\n",
    "#print(\"\\npre <=> day <=>post:\\n\\n{}\".format(com_pre_day_post_today))\n",
    "print(80*\"-\")\n",
    "\n",
    "print(\"\\n{:>60}\\n\".format(\"TODAY'S PRE, DAY,  YESTERDAY'S AFTER HOUR\"))\n",
    "print(\"{}\\n\".format(com_pre_day_today_yesterday_post))\n",
    "print(80*\"-\")\n",
    "\n",
    "#yesterday's loser and today's day\n",
    "com_loser_yesterday_gainer_today=common(today,\"day\",yesterday,\"loser\")\n",
    "print(\"\\n{:>60}\\n\".format(\"TODAY'S GAINER YESTERDAY'S LOSER\"))\n",
    "print(\"{}\\n\".format(com_loser_yesterday_gainer_today))\n",
    "print(80*\"-\")\n",
    "\n",
    "#most active and gainers today\n",
    "com_active_gainer_today=common(today,\"day\",today,\"most_active\")\n",
    "print(\"\\n{:>60}\\n\".format(\"TODAY'S GAINER AND MOST-ACTIVE\"))\n",
    "print(\"{}\\n\".format(com_active_gainer_today))\n",
    "print(80*\"-\")\n",
    "\n",
    "#most active in 3 days\n",
    "com_active_day_yes=common(today,\"most_active\",yesterday,\"most_active\")\n",
    "com_active_yes_ereyes=common(yesterday,\"most_active\",ereyesterday,\"most_active\")\n",
    "comm_active=np.intersect1d(com_active_day_yes,com_active_yes_ereyes)\n",
    "\n",
    "print(\"\\n{:>60}\\n\".format(\"ACTIVE IN 2 DAYS\"))\n",
    "print(\"{}\\n\".format(com_active_day_yes))\n",
    "print(80*\"-\")\n",
    "\n",
    "print(\"\\n{:>60}\\n\".format(\"ACTIVE IN 3 DAYS\"))\n",
    "print(\"{}\\n\".format(comm_active))\n",
    "print(80*\"-\")\n",
    "\n",
    "\n",
    "#loser in 3 days\n",
    "com_loser_day_yes=common(today,\"loser\",yesterday,\"loser\")\n",
    "com_loser_yes_ereyes=common(yesterday,\"loser\",ereyesterday,\"loser\")\n",
    "comm_loser=np.intersect1d(com_loser_day_yes,com_loser_yes_ereyes)\n",
    "\n",
    "print(\"\\n{:>60}\\n\".format(\"LOSER IN 2 DAYS\"))\n",
    "print(\"{}\\n\".format(com_loser_day_yes))\n",
    "print(80*\"-\")\n",
    "\n",
    "print(\"\\n{:>60}\\n\".format(\"LOSER IN 3 DAYS\"))\n",
    "print(\"{}\\n\".format(comm_loser))\n",
    "print(80*\"-\")\n",
    "\n",
    "#volume in 3 days\n",
    "print(\"\\n{:>60}\\n\".format(\"VOLUME IN 3 DAYS\"))\n",
    "print(\"today's volume:{:>20}\".format(round(sum(today.volume),2)))\n",
    "print(\"yesterday's volume:{:>16}\".format(round(sum(yesterday.volume),2)))\n",
    "print(\"ereyesterday's volume:{:>13}\".format(round(sum(ereyesterday.volume),2)))\n"
   ]
  },
  {
   "cell_type": "code",
   "execution_count": null,
   "metadata": {},
   "outputs": [],
   "source": [
    "%%capture cap --no-stderr\n",
    "outputfile=\"data/output\"+date+\".txt\"\n",
    "with open(outputfile,'w') as out:\n",
    "    out.write(cap.stdout)\n",
    "#column names in the df\n",
    "col=[\"pre_market\",\"day\",\"post_market\",\"loser\",\"most_active\",\"volume\"]\n",
    "print(80*\"-\")\n",
    "com_pre_day_today=common(today,\"pre_market\",today,\"day\")                    #pre and day\n",
    "com_day_post_today=common(today,\"day\",today,\"post_market\")                  #day and post\n",
    "com_pre_day_post_today=np.intersect1d(com_pre_day_today,com_day_post_today) #pre, day, and post\n",
    "\n",
    "print(\"{:>40} ({})\\n\".format(\"DATE\",date[:2]+\"/\"+date[2:4]+\"/\"+date[4:]))\n",
    "print(\"{}\\n\".format(today))\n",
    "print(\"\\npre <=> day:\\n\\n{}\".format(com_pre_day_today))\n",
    "print(\"\\nday <=> post:\\n\\n{}\".format(com_day_post_today))\n",
    "print(\"\\npre <=> day <=>post:\\n\\n{}\".format(com_pre_day_post_today))\n",
    "print(80*\"-\")\n",
    "\n",
    "#today and yesterday\n",
    "com_pre_day_post_yesterday=common(today,\"pre_market\",yesterday,\"post_market\")       #pre-today, post yesterday\n",
    "#com_day_post_today=common(today,\"day\",today,\"post_market\")                          #day and post\n",
    "com_pre_day_today_yesterday_post=np.intersect1d(com_pre_day_post_yesterday,com_pre_day_today)         \n",
    "#pre, day, and post\n",
    "\n",
    "print(\"\\n{:>60}\\n\".format(\"TODAY'S PRE YESTERDAY'S AFTER HOUR\"))\n",
    "print(\"{}\".format(com_pre_day_post_yesterday))\n",
    "#print(\"\\nday <=> post:\\n\\n{}\".format(com_day_post_today))\n",
    "#print(\"\\npre <=> day <=>post:\\n\\n{}\".format(com_pre_day_post_today))\n",
    "print(80*\"-\")\n",
    "\n",
    "print(\"\\n{:>60}\\n\".format(\"TODAY'S PRE, DAY,  YESTERDAY'S AFTER HOUR\"))\n",
    "print(\"{}\\n\".format(com_pre_day_today_yesterday_post))\n",
    "print(80*\"-\")\n",
    "\n",
    "#yesterday's loser and today's day\n",
    "com_loser_yesterday_gainer_today=common(today,\"day\",yesterday,\"loser\")\n",
    "print(\"\\n{:>60}\\n\".format(\"TODAY'S GAINER YESTERDAY'S LOSER\"))\n",
    "print(\"{}\\n\".format(com_loser_yesterday_gainer_today))\n",
    "print(80*\"-\")\n",
    "\n",
    "#most active and gainers today\n",
    "com_active_gainer_today=common(today,\"day\",today,\"most_active\")\n",
    "print(\"\\n{:>60}\\n\".format(\"TODAY'S GAINER AND MOST-ACTIVE\"))\n",
    "print(\"{}\\n\".format(com_active_gainer_today))\n",
    "print(80*\"-\")\n",
    "\n",
    "#most active in 3 days\n",
    "com_active_day_yes=common(today,\"most_active\",yesterday,\"most_active\")\n",
    "com_active_yes_ereyes=common(yesterday,\"most_active\",ereyesterday,\"most_active\")\n",
    "comm_active=np.intersect1d(com_active_day_yes,com_active_yes_ereyes)\n",
    "\n",
    "print(\"\\n{:>60}\\n\".format(\"ACTIVE IN 2 DAYS\"))\n",
    "print(\"{}\\n\".format(com_active_day_yes))\n",
    "print(80*\"-\")\n",
    "\n",
    "print(\"\\n{:>60}\\n\".format(\"ACTIVE IN 3 DAYS\"))\n",
    "print(\"{}\\n\".format(comm_active))\n",
    "print(80*\"-\")\n",
    "\n",
    "\n",
    "#loser in 3 days\n",
    "com_loser_day_yes=common(today,\"loser\",yesterday,\"loser\")\n",
    "com_loser_yes_ereyes=common(yesterday,\"loser\",ereyesterday,\"loser\")\n",
    "comm_loser=np.intersect1d(com_loser_day_yes,com_loser_yes_ereyes)\n",
    "\n",
    "print(\"\\n{:>60}\\n\".format(\"LOSER IN 2 DAYS\"))\n",
    "print(\"{}\\n\".format(com_loser_day_yes))\n",
    "print(80*\"-\")\n",
    "\n",
    "print(\"\\n{:>60}\\n\".format(\"LOSER IN 3 DAYS\"))\n",
    "print(\"{}\\n\".format(comm_loser))\n",
    "print(80*\"-\")\n",
    "\n",
    "#volume in 3 days\n",
    "print(\"\\n{:>60}\\n\".format(\"VOLUME IN 3 DAYS\"))\n",
    "print(\"today's volume:{:>20}\".format(round(sum(today.volume),2)))\n",
    "print(\"yesterday's volume:{:>16}\".format(round(sum(yesterday.volume),2)))\n",
    "print(\"ereyesterday's volume:{:>13}\".format(round(sum(ereyesterday.volume),2)))\n"
   ]
  },
  {
   "cell_type": "code",
   "execution_count": null,
   "metadata": {},
   "outputs": [],
   "source": [
    "print(\"today's volume:\\t\\t\",round(sum(today.volume),2))\n",
    "print(\"yesterday's volume:\\t\",round(sum(yesterday.volume),2))\n",
    "print(\"ereyestarday's volume:\\t\",round(sum(ereyesterday.volume),2))"
   ]
  },
  {
   "cell_type": "code",
   "execution_count": null,
   "metadata": {},
   "outputs": [],
   "source": [
    "yesterday.head(10)"
   ]
  },
  {
   "cell_type": "code",
   "execution_count": null,
   "metadata": {},
   "outputs": [],
   "source": [
    "ereyesterday.head(10)"
   ]
  },
  {
   "cell_type": "code",
   "execution_count": null,
   "metadata": {},
   "outputs": [],
   "source": [
    "test='BLRX'\n",
    "print(\"today\\n\",today.where(today==test,'-'))\n",
    "print(\"yesterday\\n\",yesterday.where(yesterday==test,'-'))\n",
    "print(\"ere yesterday\\n\",ereyesterday.where(ereyesterday==test,'-'))"
   ]
  },
  {
   "cell_type": "code",
   "execution_count": null,
   "metadata": {},
   "outputs": [],
   "source": [
    "np.intersect1d(comm1,comm2)"
   ]
  },
  {
   "cell_type": "code",
   "execution_count": null,
   "metadata": {},
   "outputs": [],
   "source": [
    "#common between today's day and after hour\n",
    "print(common(today,\"day\",today,\"post_market\"))\n"
   ]
  },
  {
   "cell_type": "code",
   "execution_count": null,
   "metadata": {},
   "outputs": [],
   "source": [
    "#common between yestarday's after hour and today's day\n",
    "print(common(yesterday,\"post_market\",today,\"day\"))\n"
   ]
  },
  {
   "cell_type": "code",
   "execution_count": null,
   "metadata": {},
   "outputs": [],
   "source": [
    "print(\"Loser on: {} and Active on: {}\".format(lis[-1],lis[-2]))\n",
    "print(common(day[5],col[0],day[4],col[2]))"
   ]
  },
  {
   "cell_type": "code",
   "execution_count": null,
   "metadata": {},
   "outputs": [],
   "source": [
    "df_0426.head(10)\n"
   ]
  },
  {
   "cell_type": "code",
   "execution_count": null,
   "metadata": {},
   "outputs": [],
   "source": [
    "#intersection between actives in two days\n",
    "act_common=set.intersection(set(df_0423.most_active[:20]),set(df_0426.most_active[:20]))\n",
    "print(act_common)\n",
    "acti_common=np.intersect1d(df_0423.most_active,df_0426.most_active)\n",
    "print(acti_common)"
   ]
  },
  {
   "cell_type": "code",
   "execution_count": null,
   "metadata": {
    "colab": {
     "base_uri": "https://localhost:8080/"
    },
    "executionInfo": {
     "elapsed": 245,
     "status": "ok",
     "timestamp": 1619323195251,
     "user": {
      "displayName": "Thakur Bhatta",
      "photoUrl": "https://lh3.googleusercontent.com/a-/AOh14GjHDIxkiNQq_2uvaeXr4zZ9siMIFDOraw8ijDvOQQ=s64",
      "userId": "15273191648333853612"
     },
     "user_tz": 240
    },
    "id": "leOepKMzneZy",
    "outputId": "d79c11b7-35e3-4fb9-fb2f-a6a55c70c709"
   },
   "outputs": [],
   "source": [
    "top=50\n",
    "df_0423=df_0423[:top]\n",
    "df_0423\n",
    "df_0426=df_0426[:top]\n",
    "df_0426"
   ]
  },
  {
   "cell_type": "code",
   "execution_count": null,
   "metadata": {
    "id": "tttZGtH3BV_l"
   },
   "outputs": [],
   "source": [
    "pre=df_0423['pre_market']\n",
    "day=df_0423['day']\n",
    "post=df_0423['post_market']\n",
    "pre=list(pre)"
   ]
  },
  {
   "cell_type": "code",
   "execution_count": null,
   "metadata": {},
   "outputs": [],
   "source": [
    "df_0423.iloc[:,[4,5]]"
   ]
  },
  {
   "cell_type": "code",
   "execution_count": null,
   "metadata": {},
   "outputs": [],
   "source": [
    "#df_0423[df_0423=='SYPR']\n",
    "#df_0423.loc[lambda df:df[:,:]=='OCGN']\n",
    "#df_0423.where(df_0423=='OCGN','x')\n",
    "act=df_0423['most_active'][2]\n",
    "act\n",
    "df_0423.where(df_0423==act,'-')\n"
   ]
  },
  {
   "cell_type": "code",
   "execution_count": null,
   "metadata": {},
   "outputs": [],
   "source": [
    "total=50\n",
    "for i in range(1,total):\n",
    "    print(\"\\n\")\n",
    "    print(25*' '+str(i)+\" active\")\n",
    "    print(60*'-')\n",
    "    act=df_0423['most_active'][i]\n",
    "    show=df_0423.where(df_0423==act,'-')\n",
    "    print(show)\n",
    "    print(\"\\n\")"
   ]
  },
  {
   "cell_type": "code",
   "execution_count": null,
   "metadata": {
    "id": "DjBuqf3OI2zr"
   },
   "outputs": [],
   "source": [
    "pre=set(pre)\n",
    "day=set(day)\n",
    "post=set(post)"
   ]
  },
  {
   "cell_type": "code",
   "execution_count": null,
   "metadata": {
    "colab": {
     "base_uri": "https://localhost:8080/"
    },
    "executionInfo": {
     "elapsed": 313,
     "status": "ok",
     "timestamp": 1619323291757,
     "user": {
      "displayName": "Thakur Bhatta",
      "photoUrl": "https://lh3.googleusercontent.com/a-/AOh14GjHDIxkiNQq_2uvaeXr4zZ9siMIFDOraw8ijDvOQQ=s64",
      "userId": "15273191648333853612"
     },
     "user_tz": 240
    },
    "id": "If8wjOsBKqzB",
    "outputId": "69696027-c18a-475f-8ed6-7b49dc340bc9"
   },
   "outputs": [],
   "source": [
    "set.intersection(pre,day)"
   ]
  },
  {
   "cell_type": "code",
   "execution_count": null,
   "metadata": {
    "colab": {
     "base_uri": "https://localhost:8080/"
    },
    "executionInfo": {
     "elapsed": 285,
     "status": "ok",
     "timestamp": 1619323363369,
     "user": {
      "displayName": "Thakur Bhatta",
      "photoUrl": "https://lh3.googleusercontent.com/a-/AOh14GjHDIxkiNQq_2uvaeXr4zZ9siMIFDOraw8ijDvOQQ=s64",
      "userId": "15273191648333853612"
     },
     "user_tz": 240
    },
    "id": "4jmgJrg0LcfG",
    "outputId": "31fb76b4-377b-47fa-8786-48cea1891385"
   },
   "outputs": [],
   "source": [
    "set.intersection(day,post)"
   ]
  },
  {
   "cell_type": "code",
   "execution_count": null,
   "metadata": {
    "id": "eNo6v4jxMZ4l"
   },
   "outputs": [],
   "source": [
    "set.intersection(pre,post)"
   ]
  },
  {
   "cell_type": "code",
   "execution_count": null,
   "metadata": {},
   "outputs": [],
   "source": []
  }
 ],
 "metadata": {
  "colab": {
   "authorship_tag": "ABX9TyOZFe7olZx4zAJtwVc6It5Y",
   "name": "demo",
   "provenance": []
  },
  "kernelspec": {
   "display_name": "Python 3 (ipykernel)",
   "language": "python",
   "name": "python3"
  },
  "language_info": {
   "codemirror_mode": {
    "name": "ipython",
    "version": 3
   },
   "file_extension": ".py",
   "mimetype": "text/x-python",
   "name": "python",
   "nbconvert_exporter": "python",
   "pygments_lexer": "ipython3",
   "version": "3.10.6"
  }
 },
 "nbformat": 4,
 "nbformat_minor": 4
}
