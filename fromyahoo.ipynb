{
 "cells": [
  {
   "cell_type": "code",
   "execution_count": null,
   "metadata": {},
   "outputs": [],
   "source": [
    "import pandas as pd\n",
    "import numpy as np\n",
    "import matplotlib.pyplot as plt\n",
    "from functools import reduce\n",
    "#from IPython.core.interactiveshell import InteractiveShell #multiple outputs for a cell\n",
    "#InteractiveShell.ast_node_interactivity = \"all\"            #multiple outputs for a cell\n",
    "import os\n"
   ]
  },
  {
   "cell_type": "code",
   "execution_count": null,
   "metadata": {},
   "outputs": [],
   "source": [
    "#%%script false --no-raise-error\n",
    "weblink=\"https://query1.finance.yahoo.com/v7/finance/download/CHEK?period1=1590254589&period2=1621790589&interval=1d&events=history&includeAdjustedClose=true\"\n",
    "#path='temp/'\n",
    "#ticker='GHSI'\n",
    "#df=pd.read_csv(path+ticker+'.csv')\n",
    "df=pd.read_csv(weblink)\n",
    "\n",
    "#df[50:70]\n",
    "df=df[::-1]\n",
    "df['Volume']=df['Volume'].apply(lambda x:x/(10**6))\n",
    "df.head()\n",
    "#order=30\n",
    "#df['Volume']\n"
   ]
  },
  {
   "cell_type": "code",
   "execution_count": null,
   "metadata": {},
   "outputs": [],
   "source": [
    "#%%script false --no-raise-error\n",
    "plt.figure(figsize=(20,12))\n",
    "vol_mean=df['Volume'][:order].mean()\n",
    "plt.axhline(vol_mean,color='r',linestyle='--')\n",
    "plt.text(-3.5,vol_mean,str(round(vol_mean,1)),bbox=dict(facecolor='red', alpha=0.5))\n",
    "plt.bar(df.Date[:order],df.Volume[:order])\n",
    "plt.xticks(rotation=90)\n",
    "plt.ylabel('Volume (mln)')\n",
    "plt.xlabel('Date')\n",
    "plt.savefig('test_volume.pdf')\n",
    "plt.show()"
   ]
  },
  {
   "cell_type": "code",
   "execution_count": null,
   "metadata": {},
   "outputs": [],
   "source": [
    "#plotting the parameter againt the parameter\n",
    "def parameter_vs_date(parameter,df,days=30):\n",
    "    \"\"\"\n",
    "    returs the plot of parameter vs date in given datafile\n",
    "    \"\"\"\n",
    "    plt.figure(figsize=(10,8))\n",
    "    par_mean=df[parameter][-order:].mean()\n",
    "    plt.axhline(par_mean,color='r',linestyle='--')\n",
    "    plt.text(-3.5,par_mean,str(round(par_mean,1)),bbox=dict(facecolor='red', alpha=0.5),fontsize=12)\n",
    "    plt.bar(df[\"Date\"][-days:],df[parameter][-days:])\n",
    "    #plt.bar_label(df[\"Date\"][-days:],df[parameter][-days:])\n",
    "    plt.xticks(rotation=90)\n",
    "    plt.ylabel(parameter)\n",
    "    plt.xlabel('Date')\n",
    "    plt.title(ticker)\n",
    "    #plt.grid(True)\n",
    "    #plt.savefig(savefile+'.pdf')\n",
    "    plt.show()"
   ]
  },
  {
   "cell_type": "code",
   "execution_count": null,
   "metadata": {},
   "outputs": [],
   "source": [
    "\n",
    "#plotting the parameter againt the parameter\n",
    "def parameter_vs_date1(parameter,df,days=30):\n",
    "    \"\"\"\n",
    "    returs the plot of parameter vs date in given datafile\n",
    "    \"\"\"\n",
    "    fig,ax=plt.subplots(figsize=(20,16))\n",
    "    bars=ax.bar(df[\"Date\"][-days:],df[parameter][-days:],alpha=0.4)\n",
    "    print(bars)\n",
    "    for bar in bars:\n",
    "        #print(\"height\\n\",bar.get_height())\n",
    "        h=bar.get_height();w=bar.get_width();x=bar.get_x();hr=round(h,2)\n",
    "        ax.text(x+w/2-0.2,h+0.4,hr,rotation=90,color='darkviolet',fontsize=12)\n",
    "    #plt.figure(figsize=(10,8))\n",
    "    par_mean=df[parameter][-order:].mean()\n",
    "    ax.axhline(par_mean,color='r',linestyle='--',alpha=0.5)\n",
    "    ax.text(-3.5,par_mean,str(round(par_mean,1)),bbox=dict(facecolor='orange', alpha=0.5),fontsize=12)\n",
    "    \n",
    "    #plt.bar_label(df[\"Date\"][-days:],df[parameter][-days:])\n",
    "    #ax.set_xticks(rotation=90)\n",
    "    ax.patch.set_facecolor('snow')\n",
    "    ax.set_ylabel(parameter)\n",
    "    ax.set_xlabel('Date')\n",
    "    ax.tick_params('x',labelrotation=90)\n",
    "    ax.set_title(ticker)\n",
    "    #plt.grid(True)\n",
    "    plt.savefig(\"temp/\"+parameter+'.pdf')\n",
    "    \n",
    "    plt.show()"
   ]
  },
  {
   "cell_type": "code",
   "execution_count": null,
   "metadata": {},
   "outputs": [],
   "source": [
    "#plotting the parameter against the parameter\n",
    "def par_vs_date(df,par1=\"Volume\",par2=\"Close\",days=30):\n",
    "    \"\"\"\n",
    "    returs the plot of parameter vs date in given datafile\n",
    "    \"\"\"\n",
    "    fig,(ax1,ax2)=plt.subplots(2,figsize=(20,16),sharex=True)\n",
    "    \n",
    "    #first plot\n",
    "    bar1=ax1.bar(df[\"Date\"][-days:],df[par1][-days:],alpha=0.4)\n",
    "    #print(bars)\n",
    "    for bar in bar1:\n",
    "        #print(\"height\\n\",bar.get_height())\n",
    "        h=bar.get_height();w=bar.get_width();x=bar.get_x();hr=round(h,2)\n",
    "        ax1.text(x+w/2-0.2,h*1.01,hr,rotation=90,color='darkviolet',fontsize=12)\n",
    "    #plt.figure(figsize=(10,8))\n",
    "    par_mean=df[par1][-days:].mean()\n",
    "    ax1.axhline(par_mean,color='r',linestyle='--',alpha=0.5)\n",
    "    ax1.text(-1.5,par_mean,str(round(par_mean,1)),bbox=dict(facecolor='orange', alpha=0.5),fontsize=12)\n",
    "    \n",
    "    #plt.bar_label(df[\"Date\"][-days:],df[parameter][-days:])\n",
    "    #ax.set_xticks(rotation=90)\n",
    "    ax1.patch.set_facecolor('snow')\n",
    "    ax1.set_ylabel(par1)\n",
    "    #ax1.set_xlabel('Date')\n",
    "    #ax1.tick_params('x',labelrotation=90)\n",
    "    #ax1.set_title(ticker)\n",
    "    \n",
    "    #second plot\n",
    "    bar2=ax2.bar(df[\"Date\"][-days:],df[par2][-days:],alpha=0.4,color='salmon')\n",
    "    #print(bars)\n",
    "    for bar in bar2:\n",
    "        #print(\"height\\n\",bar.get_height())\n",
    "        h=bar.get_height();w=bar.get_width();x=bar.get_x();hr=round(h,2)\n",
    "        ax2.text(x+w/2-0.2,h*1.01,hr,rotation=90,color='blue',fontsize=12)\n",
    "    #plt.figure(figsize=(10,8))\n",
    "    par_mean2=df[par2][-days:].mean()\n",
    "    ax2.axhline(par_mean2,color='r',linestyle='--',alpha=0.5)\n",
    "    ax2.text(-1.5,par_mean2,str(round(par_mean2,1)),bbox=dict(facecolor='orange', alpha=0.5),fontsize=12)\n",
    "    \n",
    "    #plt.bar_label(df[\"Date\"][-days:],df[parameter][-days:])\n",
    "    #ax.set_xticks(rotation=90)\n",
    "    ax2.patch.set_facecolor('snow')\n",
    "    ax2.xaxis.set_label_position('top')\n",
    "    ax2.set_ylabel(par2)\n",
    "    ax2.set_xlabel('Date')\n",
    "    ax2.xaxis.tick_top()\n",
    "    #ax2.tick_params('x',labelrotation=90)\n",
    "    ax2.tick_params(axis='x',labelsize=12,labelbottom=False,labeltop=True,labelrotation=90,pad=15,colors='green',which='both')\n",
    "    #ax2.axis.xticks(fontsize=10)\n",
    "    \n",
    "    #ax2.set_title(ticker)\n",
    "    #plt.grid(True)\n",
    "    fig.suptitle(ticker)\n",
    "    plt.tight_layout()\n",
    "    #plt.savefig(\"temp/\"+ticker+'.pdf')\n",
    "    \n",
    "    plt.show()"
   ]
  },
  {
   "cell_type": "code",
   "execution_count": null,
   "metadata": {},
   "outputs": [],
   "source": [
    "import pandas_datareader as pdr\n",
    "import yfinance as yf\n",
    "yf.pdr_override()\n",
    "ticker='AAPL'\n",
    "start_date='2021-01-01'\n",
    "end_date='2021-07-23'\n",
    "df=pdr.get_data_yahoo(ticker,start_date,end_date)\n",
    "#df=df[::-1]\n",
    "df.reset_index(inplace=True)\n",
    "df['Date']=df['Date'].apply(lambda x:x.strftime('%d/%m/%y'))\n",
    "df['Volume']=df['Volume'].apply(lambda x:x/(10**6))\n",
    "df.tail(10)\n"
   ]
  },
  {
   "cell_type": "code",
   "execution_count": null,
   "metadata": {},
   "outputs": [],
   "source": [
    "#yfinance module\n",
    "from pandas_datareader import data\n",
    "data.DataReader('GOOG','google','2016-06-01','2016-06-13')"
   ]
  },
  {
   "cell_type": "code",
   "execution_count": null,
   "metadata": {},
   "outputs": [],
   "source": [
    "par_vs_date(df,days=100)"
   ]
  },
  {
   "cell_type": "code",
   "execution_count": null,
   "metadata": {},
   "outputs": [],
   "source": [
    "#features of data-frame\n",
    "df.head()\n",
    "df.describe()\n",
    "df.info()\n"
   ]
  },
  {
   "cell_type": "code",
   "execution_count": null,
   "metadata": {},
   "outputs": [],
   "source": [
    "df.describe()"
   ]
  },
  {
   "cell_type": "code",
   "execution_count": null,
   "metadata": {},
   "outputs": [],
   "source": [
    "df.info()"
   ]
  },
  {
   "cell_type": "code",
   "execution_count": null,
   "metadata": {},
   "outputs": [],
   "source": [
    "df['Adj Close'].plot(legend=True,figsize=(12,5))\n"
   ]
  },
  {
   "cell_type": "code",
   "execution_count": null,
   "metadata": {},
   "outputs": [],
   "source": [
    "df['Volume'].plot(legend=True,figsize=(12,5))"
   ]
  },
  {
   "cell_type": "markdown",
   "metadata": {},
   "source": [
    "# Add moving average column"
   ]
  },
  {
   "cell_type": "code",
   "execution_count": null,
   "metadata": {},
   "outputs": [],
   "source": [
    "ma_day = [10,20,50]\n",
    "\n",
    "for ma in ma_day:\n",
    "    column_name = \"MA for %s days\" %(str(ma))\n",
    "    \n",
    "    df[column_name] = df['Adj Close'].rolling(window=ma,center=False).mean()\n",
    "    \n",
    "df.tail()"
   ]
  },
  {
   "cell_type": "code",
   "execution_count": null,
   "metadata": {},
   "outputs": [],
   "source": [
    "#plot with moving averages\n",
    "df[['Adj Close','MA for 10 days','MA for 20 days','MA for 50 days']].plot(subplots=False,figsize=(12,5))"
   ]
  },
  {
   "cell_type": "markdown",
   "metadata": {},
   "source": [
    "# Daily return"
   ]
  },
  {
   "cell_type": "code",
   "execution_count": null,
   "metadata": {},
   "outputs": [],
   "source": [
    "df['Daily Return']=df['Adj Close'].pct_change()\n",
    "df['Daily Return'].tail()"
   ]
  },
  {
   "cell_type": "code",
   "execution_count": null,
   "metadata": {},
   "outputs": [],
   "source": [
    "#plotting the daily return\n",
    "df['Daily Return'].plot(figsize=(14,5),legend=True,linestyle='--',marker='o')"
   ]
  },
  {
   "cell_type": "code",
   "execution_count": null,
   "metadata": {},
   "outputs": [],
   "source": [
    "import seaborn as sns\n",
    "sns.distplot(df['Daily Return'].dropna(),bins=100,color='red')"
   ]
  },
  {
   "cell_type": "markdown",
   "metadata": {},
   "source": [
    "# Multiple data-sets"
   ]
  },
  {
   "cell_type": "code",
   "execution_count": null,
   "metadata": {},
   "outputs": [],
   "source": [
    "#tech list\n",
    "tech_list=['AAPL','AMZN','GOOG','MSFT']\n",
    "start='2021-01-01'\n",
    "close_df=pdr.DataReader(tech_list,'yahoo',start)['Adj Close']"
   ]
  },
  {
   "cell_type": "code",
   "execution_count": null,
   "metadata": {},
   "outputs": [],
   "source": [
    "close_df.tail()\n",
    "rets_df=close_df.pct_change()\n",
    "rets_df.tail()"
   ]
  },
  {
   "cell_type": "markdown",
   "metadata": {},
   "source": [
    "# Scatter Plot visualization first with daily return of a stock itself"
   ]
  },
  {
   "cell_type": "code",
   "execution_count": null,
   "metadata": {},
   "outputs": [],
   "source": [
    "sns.jointplot('GOOG','GOOG',rets_df,kind='scatter',color='green')"
   ]
  },
  {
   "cell_type": "code",
   "execution_count": null,
   "metadata": {},
   "outputs": [],
   "source": [
    "sns.jointplot('GOOG','AAPL',rets_df,kind='scatter')"
   ]
  },
  {
   "cell_type": "code",
   "execution_count": null,
   "metadata": {},
   "outputs": [],
   "source": [
    "sns.pairplot(rets_df.dropna())"
   ]
  },
  {
   "cell_type": "markdown",
   "metadata": {},
   "source": [
    "# Correlation Plot"
   ]
  },
  {
   "cell_type": "code",
   "execution_count": null,
   "metadata": {},
   "outputs": [],
   "source": [
    "#correlation matrix\n",
    "df.corr()"
   ]
  },
  {
   "cell_type": "code",
   "execution_count": null,
   "metadata": {},
   "outputs": [],
   "source": [
    "sns.heatmap(df.corr())"
   ]
  },
  {
   "cell_type": "code",
   "execution_count": null,
   "metadata": {},
   "outputs": [],
   "source": []
  },
  {
   "cell_type": "code",
   "execution_count": null,
   "metadata": {},
   "outputs": [],
   "source": [
    "sns.corrplot(rets_df.dropna(),annot=True)"
   ]
  },
  {
   "cell_type": "code",
   "execution_count": null,
   "metadata": {},
   "outputs": [],
   "source": []
  },
  {
   "cell_type": "code",
   "execution_count": null,
   "metadata": {},
   "outputs": [],
   "source": [
    "\n",
    "\n",
    "%matplotlib inline\n",
    "days=60\n",
    "parameter_vs_date1(\"Volume\",df,days=days)\n",
    "parameter_vs_date1(\"Close\",df,days=days)\n"
   ]
  },
  {
   "cell_type": "code",
   "execution_count": null,
   "metadata": {},
   "outputs": [],
   "source": [
    "#parameter_vs_date(\"Volume\",df)\n",
    "days=30\n",
    "parameter_vs_date(\"Close\",df,days)\n",
    "#parameter_vs_date(\"Low\",df)\n",
    "parameter_vs_date(\"Volume\",df,days)\n"
   ]
  },
  {
   "cell_type": "code",
   "execution_count": null,
   "metadata": {},
   "outputs": [],
   "source": [
    "import datetime\n",
    "\n",
    "plt.bar(df['Date'][:20],df['High'][:20])\n",
    "plt.xticks(rotation=90)"
   ]
  },
  {
   "cell_type": "code",
   "execution_count": null,
   "metadata": {},
   "outputs": [],
   "source": []
  }
 ],
 "metadata": {
  "kernelspec": {
   "display_name": "Python 3",
   "language": "python",
   "name": "python3"
  },
  "language_info": {
   "codemirror_mode": {
    "name": "ipython",
    "version": 3
   },
   "file_extension": ".py",
   "mimetype": "text/x-python",
   "name": "python",
   "nbconvert_exporter": "python",
   "pygments_lexer": "ipython3",
   "version": "3.8.10"
  }
 },
 "nbformat": 4,
 "nbformat_minor": 4
}
