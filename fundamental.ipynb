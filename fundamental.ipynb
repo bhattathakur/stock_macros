{
 "cells": [
  {
   "cell_type": "code",
   "execution_count": null,
   "id": "57920dcb-e9e0-44d0-8c44-3b55c81b25c8",
   "metadata": {},
   "outputs": [],
   "source": [
    "import pandas as pd\n",
    "import numpy as np\n",
    "import mplfinance as mpf\n",
    "import os\n",
    "import pandas_ta as ta\n",
    "\n",
    "import yfinance as yf\n",
    "import matplotlib.pyplot as plt"
   ]
  },
  {
   "cell_type": "code",
   "execution_count": null,
   "id": "15188556-c7c6-488f-8d77-227fbb52a207",
   "metadata": {},
   "outputs": [],
   "source": [
    "ticker='aapl'\n",
    "df= yf.Ticker(ticker)\n"
   ]
  },
  {
   "cell_type": "code",
   "execution_count": null,
   "id": "59aebf0b-4f65-4883-9de9-764a1946d459",
   "metadata": {},
   "outputs": [],
   "source": [
    "df.info"
   ]
  },
  {
   "cell_type": "code",
   "execution_count": null,
   "id": "fb9a259f-2350-4215-91ab-fab03c282e27",
   "metadata": {},
   "outputs": [],
   "source": [
    "#quaterly earnings\n",
    "ticker='aapl'\n",
    "df= yf.Ticker(ticker)\n",
    "df.quarterly_earnings"
   ]
  },
  {
   "cell_type": "code",
   "execution_count": null,
   "id": "d993407f-635f-4a96-ab21-abbaeb010eea",
   "metadata": {},
   "outputs": [],
   "source": [
    "df.quarterly_balancesheet"
   ]
  },
  {
   "cell_type": "code",
   "execution_count": null,
   "id": "b1b93b2e-6382-4ac6-8883-c04dad554454",
   "metadata": {},
   "outputs": [],
   "source": [
    "fin=df.quarterly_financials\n",
    "fin"
   ]
  },
  {
   "cell_type": "code",
   "execution_count": null,
   "id": "ff30f8bf-e90e-4513-84b8-a48c629deff1",
   "metadata": {},
   "outputs": [],
   "source": [
    "sel=['Net Income','Gross Profit','Total Revenue']\n",
    "fin_sel=fin.loc[sel,:]\n",
    "fin_sel=fin_sel.T.head(3)\n",
    "fin_sel['Profit%']=100*fin_sel['Gross Profit']/fin_sel['Total Revenue']\n",
    "fin_sel"
   ]
  },
  {
   "cell_type": "code",
   "execution_count": null,
   "id": "78079086-e77b-4cea-be9b-9be0cacf6d91",
   "metadata": {},
   "outputs": [],
   "source": [
    "fin_sel.plot(kind='bar')"
   ]
  },
  {
   "cell_type": "code",
   "execution_count": null,
   "id": "7e2f6f8c-4b86-4cf9-9876-e7718d79c288",
   "metadata": {},
   "outputs": [],
   "source": [
    "d='2022-09-24'\n",
    "income=fin.loc[\"Net Income\",d];revenue=fin.loc[\"Total Revenue\",d];profit=fin.loc[\"Gross Profit\",d]\n",
    "income,revenue,profit"
   ]
  },
  {
   "cell_type": "code",
   "execution_count": null,
   "id": "dc11c460-d0d6-4567-9255-3811ce75fa0d",
   "metadata": {},
   "outputs": [],
   "source": [
    "df.quarterly_cashflow"
   ]
  },
  {
   "cell_type": "markdown",
   "id": "9de2238a-7f11-4c36-87f7-4316c30b2a58",
   "metadata": {},
   "source": [
    "- Accelerating revenue or sales 3 or more quarters\n",
    "- Accelerating income/earning  for 3 or more quarters\n",
    "- Accelerating gross margin (\\%  profit the company is making)\n"
   ]
  },
  {
   "cell_type": "code",
   "execution_count": null,
   "id": "abca1e50-5754-4db8-b183-67ff43d6d06a",
   "metadata": {},
   "outputs": [],
   "source": [
    "#The gross profit margin formula, Gross Profit Margin = (Revenue – Cost of Goods Sold) / Revenue x 100, \n",
    "#shows the percentage ratio of revenue you keep for each sale after all costs are deducted. \n"
   ]
  },
  {
   "cell_type": "code",
   "execution_count": null,
   "id": "3021db11-ca5b-4286-808e-276ec8bb2f4a",
   "metadata": {},
   "outputs": [],
   "source": [
    "import pandas as pd\n",
    "import numpy as np\n",
    "from bs4 import BeautifulSoup\n",
    "import requests\n",
    "import re\n",
    "import csv\n",
    "from io import StringIO\n",
    "import json\n"
   ]
  },
  {
   "cell_type": "code",
   "execution_count": null,
   "id": "3da1423d-26ad-4802-a0ce-ceb0283d6fb8",
   "metadata": {},
   "outputs": [],
   "source": [
    "# url_stats='https://finance.yahoo.com/quote/{}/key-statistics?p={}'\n",
    "# url_profile='https://finance.yahoo.com/quote/{}/profile?p={}'\n",
    "# url_financials='https://finance.yahoo.com/quote/{}/financials?p={}'\n",
    "#url='https://finance.yahoo.com/{}'+'?count=100&offset=0'\n",
    "ticker='AAPL'\n",
    "url='https://finance.yahoo.com/quote/{}/balance-sheet?p={}'\n",
    "headers = {'User-Agent': 'Mozilla/5.0'}\n",
    "#https://finance.yahoo.com/most-active?count=100&offset=0\n",
    "response=requests.get(url.format(ticker,ticker),headers=headers)   \n",
    "print(\"response.ok : {} , response.status_code : {}\".format(response.ok , response.status_code))\n",
    "#soup=BeautifulSoup(response.text,'html.parser')  "
   ]
  },
  {
   "cell_type": "code",
   "execution_count": null,
   "id": "7b037268-c1d6-4935-925a-10c4890ae20f",
   "metadata": {},
   "outputs": [],
   "source": [
    "soup=BeautifulSoup(response.text,'html.parser')  "
   ]
  },
  {
   "cell_type": "code",
   "execution_count": null,
   "id": "8b0b5d79-1677-4c5f-b84b-aa67f9a22178",
   "metadata": {},
   "outputs": [],
   "source": [
    "soup"
   ]
  },
  {
   "cell_type": "code",
   "execution_count": null,
   "id": "ccfd3cd2-987a-4b8e-8f59-376ad3af1e6a",
   "metadata": {},
   "outputs": [],
   "source": [
    "from datetime import datetime\n",
    "import lxml\n",
    "from lxml import html\n",
    "import requests\n",
    "import numpy as np\n",
    "import pandas as pd\n",
    "\n",
    "symbol = 'AAPL'\n",
    "\n",
    "url = 'https://finance.yahoo.com/quote/' + symbol + '/balance-sheet?p=' + symbol\n",
    "\n",
    "# Set up the request headers that we're going to use, to simulate\n",
    "# a request by the Chrome browser. Simulating a request from a browser\n",
    "# is generally good practice when building a scraper\n",
    "headers = {\n",
    "    'Accept': 'text/html,application/xhtml+xml,application/xml;q=0.9,image/webp,image/apng,*/*;q=0.8,application/signed-exchange;v=b3',\n",
    "    'Accept-Encoding': 'gzip, deflate, br',\n",
    "    'Accept-Language': 'en-US,en;q=0.9',\n",
    "    'Cache-Control': 'max-age=0',\n",
    "    'Connection': 'close',\n",
    "    'DNT': '1', # Do Not Track Request Header \n",
    "    'Pragma': 'no-cache',\n",
    "    'Referrer': 'https://google.com',\n",
    "    'User-Agent': 'Mozilla/5.0 (Windows NT 10.0; Win64; x64) AppleWebKit/537.36 (KHTML, like Gecko) Chrome/92.0.4515.107 Safari/537.36'\n",
    "}\n",
    "\n",
    "# Fetch the page that we're going to parse, using the request headers\n",
    "# defined above\n",
    "page = requests.get(url, headers=headers)\n",
    "\n",
    "# Parse the page with LXML, so that we can start doing some XPATH queries\n",
    "# to extract the data that we want\n",
    "tree = html.fromstring(page.content)\n",
    "\n",
    "# Smoke test that we fetched the page by fetching and displaying the H1 element\n",
    "tree.xpath(\"//h1/text()\")"
   ]
  },
  {
   "cell_type": "code",
   "execution_count": null,
   "id": "e14ac9cd-065f-4da9-b28b-1166d65dfb7f",
   "metadata": {},
   "outputs": [],
   "source": [
    "table_rows = tree.xpath(\"//div[contains(@class, 'D(tbr)')]\")\n",
    "\n",
    "# Ensure that some table rows are found; if none are found, then it's possible\n",
    "# that Yahoo Finance has changed their page layout, or have detected\n",
    "# that you're scraping the page.\n",
    "assert len(table_rows) > 0\n",
    "\n",
    "parsed_rows = []\n",
    "\n",
    "for table_row in table_rows:\n",
    "    parsed_row = []\n",
    "    el = table_row.xpath(\"./div\")\n",
    "    \n",
    "    none_count = 0\n",
    "    \n",
    "    for rs in el:\n",
    "        try:\n",
    "            (text,) = rs.xpath('.//span/text()[1]')\n",
    "            parsed_row.append(text)\n",
    "        except ValueError:\n",
    "            parsed_row.append(np.NaN)\n",
    "            none_count += 1\n",
    "\n",
    "    if (none_count < 4):\n",
    "        parsed_rows.append(parsed_row)\n",
    "\n",
    "df = pd.DataFrame(parsed_rows)\n",
    "df"
   ]
  },
  {
   "cell_type": "code",
   "execution_count": null,
   "id": "3f886746-8093-4519-89d6-5d782328f6c7",
   "metadata": {},
   "outputs": [],
   "source": [
    "from datetime import datetime\n",
    "import lxml\n",
    "from lxml import html\n",
    "import requests\n",
    "import numpy as np\n",
    "import pandas as pd\n",
    "\n",
    "def get_page(url):\n",
    "    # Set up the request headers that we're going to use, to simulate\n",
    "    # a request by the Chrome browser. Simulating a request from a browser\n",
    "    # is generally good practice when building a scraper\n",
    "    headers = {\n",
    "        'Accept': 'text/html,application/xhtml+xml,application/xml;q=0.9,image/webp,image/apng,*/*;q=0.8,application/signed-exchange;v=b3',\n",
    "        'Accept-Encoding': 'gzip, deflate, br',\n",
    "        'Accept-Language': 'en-US,en;q=0.9',\n",
    "        'Cache-Control': 'max-age=0',\n",
    "        'Connection': 'close',\n",
    "        'DNT': '1', # Do Not Track Request Header \n",
    "        'Pragma': 'no-cache',\n",
    "        'Referrer': 'https://google.com',\n",
    "        'User-Agent': 'Mozilla/5.0 (Windows NT 10.0; Win64; x64) AppleWebKit/537.36 (KHTML, like Gecko) Chrome/92.0.4515.107 Safari/537.36'\n",
    "    }\n",
    "\n",
    "    return requests.get(url, headers=headers)\n",
    "\n",
    "def parse_rows(table_rows):\n",
    "    parsed_rows = []\n",
    "\n",
    "    for table_row in table_rows:\n",
    "        parsed_row = []\n",
    "        el = table_row.xpath(\"./div\")\n",
    "\n",
    "        none_count = 0\n",
    "\n",
    "        for rs in el:\n",
    "            try:\n",
    "                (text,) = rs.xpath('.//span/text()[1]')\n",
    "                parsed_row.append(text)\n",
    "            except ValueError:\n",
    "                parsed_row.append(np.NaN)\n",
    "                none_count += 1\n",
    "\n",
    "        if (none_count < 4):\n",
    "            parsed_rows.append(parsed_row)\n",
    "            \n",
    "    return pd.DataFrame(parsed_rows)\n",
    "\n",
    "def clean_data(df):\n",
    "    df = df.set_index(0) # Set the index to the first column: 'Period Ending'.\n",
    "    df = df.transpose() # Transpose the DataFrame, so that our header contains the account names\n",
    "    \n",
    "    # Rename the \"Breakdown\" column to \"Date\"\n",
    "    cols = list(df.columns)\n",
    "    cols[0] = 'Date'\n",
    "    df = df.set_axis(cols, axis='columns', inplace=False)\n",
    "    \n",
    "    numeric_columns = list(df.columns)[1::] # Take all columns, except the first (which is the 'Date' column)\n",
    "\n",
    "    for column_index in range(1, len(df.columns)): # Take all columns, except the first (which is the 'Date' column)\n",
    "        df.iloc[:,column_index] = df.iloc[:,column_index].str.replace(',', '') # Remove the thousands separator\n",
    "        df.iloc[:,column_index] = df.iloc[:,column_index].astype(np.float64) # Convert the column to float64\n",
    "        \n",
    "    return df\n",
    "\n",
    "def scrape_table(url):\n",
    "    # Fetch the page that we're going to parse\n",
    "    page = get_page(url);\n",
    "\n",
    "    # Parse the page with LXML, so that we can start doing some XPATH queries\n",
    "    # to extract the data that we want\n",
    "    tree = html.fromstring(page.content)\n",
    "\n",
    "    # Fetch all div elements which have class 'D(tbr)'\n",
    "    table_rows = tree.xpath(\"//div[contains(@class, 'D(tbr)')]\")\n",
    "    \n",
    "    # Ensure that some table rows are found; if none are found, then it's possible\n",
    "    # that Yahoo Finance has changed their page layout, or have detected\n",
    "    # that you're scraping the page.\n",
    "    assert len(table_rows) > 0\n",
    "    \n",
    "    df = parse_rows(table_rows)\n",
    "    df = clean_data(df)\n",
    "        \n",
    "    return df"
   ]
  },
  {
   "cell_type": "code",
   "execution_count": null,
   "id": "07358663-4721-42af-9ae7-afddcd887f77",
   "metadata": {},
   "outputs": [],
   "source": [
    "symbol = 'AMD'\n",
    "df_balance_sheet = scrape_table('https://finance.yahoo.com/quote/' + symbol + '/balance-sheet?p=' + symbol)"
   ]
  },
  {
   "cell_type": "code",
   "execution_count": null,
   "id": "bb20788f-9a38-41e6-a384-fdce399204f2",
   "metadata": {},
   "outputs": [],
   "source": [
    "df_balance_sheet"
   ]
  },
  {
   "cell_type": "code",
   "execution_count": null,
   "id": "2e0da630-5c0b-417e-82f0-ab52bc208a64",
   "metadata": {},
   "outputs": [],
   "source": [
    "financial_statements=scrape_table('https://finance.yahoo.com/quote/' + symbol + '/financials?p=' + symbol)\n",
    "financial_statements\n"
   ]
  },
  {
   "cell_type": "code",
   "execution_count": null,
   "id": "6cc770ae-d204-4418-b120-a08b27347a1f",
   "metadata": {},
   "outputs": [],
   "source": [
    "cash_flow=scrape_table('https://finance.yahoo.com/quote/' + symbol + '/cash-flow?p=' + symbol)\n",
    "cash_flow\n"
   ]
  },
  {
   "cell_type": "code",
   "execution_count": null,
   "id": "43af9e27-cac4-4b92-8309-31422007439e",
   "metadata": {},
   "outputs": [],
   "source": [
    "# from selenium import webdriver\n",
    "# import pandas as pd\n",
    "\n",
    "# symbol = 'AAPL'\n",
    "# url = 'https://finance.yahoo.com/quote/%s/financials?p=%s' %(symbol, symbol)\n",
    "\n",
    "# driver = webdriver.Chrome('C:/chromedriver_win32/chromedriver.exe')\n",
    "# driver.get(url)\n",
    "\n",
    "# # Get Table shown in browser\n",
    "# dfs_annual = pd.read_html(driver.page_source)   \n",
    "# print(dfs_annual[0])\n",
    "\n",
    "# # Click \"Quarterly\"\n",
    "# driver.find_element_by_xpath(\"//span[text()='Quarterly']\").click()\n",
    "\n",
    "# # Get Table shown in browser\n",
    "# dfs_quarter = pd.read_html(driver.page_source)   \n",
    "# print(dfs_quarter[0])\n",
    "\n",
    "# driver.close()"
   ]
  },
  {
   "cell_type": "code",
   "execution_count": null,
   "id": "6d5ff3be-2b1b-4188-85a4-5af02f59094b",
   "metadata": {},
   "outputs": [],
   "source": [
    "! pip install selenium"
   ]
  },
  {
   "cell_type": "code",
   "execution_count": null,
   "id": "f4ea14d5-0f4a-4cb3-8bf2-9d14f2d6c174",
   "metadata": {},
   "outputs": [],
   "source": [
    "import pandas as pd\n",
    "\n",
    "symbol = 'AAPL'\n",
    "url = 'https://finance.yahoo.com/quote/%s/financials?p=%s' %(symbol, symbol)\n",
    "\n",
    "dfs = pd.read_html(url)   \n",
    "print(dfs[0])"
   ]
  },
  {
   "cell_type": "code",
   "execution_count": null,
   "id": "3416af9d-e753-4968-ba85-36bf5eaab6ac",
   "metadata": {},
   "outputs": [],
   "source": []
  }
 ],
 "metadata": {
  "kernelspec": {
   "display_name": "Python 3 (ipykernel)",
   "language": "python",
   "name": "python3"
  },
  "language_info": {
   "codemirror_mode": {
    "name": "ipython",
    "version": 3
   },
   "file_extension": ".py",
   "mimetype": "text/x-python",
   "name": "python",
   "nbconvert_exporter": "python",
   "pygments_lexer": "ipython3",
   "version": "3.10.6"
  }
 },
 "nbformat": 4,
 "nbformat_minor": 5
}
