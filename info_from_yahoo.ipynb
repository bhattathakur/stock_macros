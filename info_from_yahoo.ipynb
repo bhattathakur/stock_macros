{
 "cells": [
  {
   "cell_type": "code",
   "execution_count": null,
   "metadata": {},
   "outputs": [],
   "source": [
    "import pandas as pd\n",
    "import numpy as np\n",
    "from bs4 import BeautifulSoup\n",
    "import requests\n",
    "import re\n",
    "import csv\n",
    "from io import StringIO\n",
    "import json\n",
    "\n"
   ]
  },
  {
   "cell_type": "code",
   "execution_count": null,
   "metadata": {},
   "outputs": [],
   "source": [
    "#url to reqest the information\n",
    "url='https://finance.yahoo.com/quote/{}?p={}&.tsrc=fin-srch'"
   ]
  },
  {
   "cell_type": "code",
   "execution_count": null,
   "metadata": {},
   "outputs": [],
   "source": [
    "#make request for the given webpage\n",
    "tick='EDU'\n",
    "response=requests.get(url.format(tick,tick))\n",
    "soup=BeautifulSoup(response.text,'html.parser')         #creating the soup object with given page\n",
    "print(soup)\n",
    "#print(response)\n",
    "\n",
    "categories=['most-active','gainers','losers'] #based on yahoo page\n",
    "#categories[0]"
   ]
  },
  {
   "cell_type": "code",
   "execution_count": null,
   "metadata": {},
   "outputs": [],
   "source": [
    "response=requests.get(url.format(categories[1]))        #request for a web page\n",
    "soup=BeautifulSoup(response.text,'html.parser')         #creating the soup object with given page\n",
    "print(soup)"
   ]
  },
  {
   "cell_type": "code",
   "execution_count": null,
   "metadata": {},
   "outputs": [],
   "source": [
    "soup=BeautifulSoup(response.text,'html.parser')         #creating the soup object with given page"
   ]
  },
  {
   "cell_type": "code",
   "execution_count": null,
   "metadata": {},
   "outputs": [],
   "source": [
    "#soup.prettify() #creates the nice print\n",
    "soup.title.string"
   ]
  },
  {
   "cell_type": "code",
   "execution_count": null,
   "metadata": {},
   "outputs": [],
   "source": [
    "#find the ticker block\n",
    "table=soup.find('table',class_=\"W(100%)\")\n",
    "table_body=table.find('tbody')\n",
    "table_data_row=table_body.find('tr')\n",
    "table_data=table_data_row.find_all('td') #find all returns the list\n",
    "\n",
    "#link=\"https://finance.yahoo.com\"+href\n",
    "#print(link)\n",
    "tick_info=[]\n",
    "for data in table_data[:-1]:\n",
    "    #print(\"data\\t\",data)\n",
    "    \n",
    "    #print(\"data text\\t\",data.text)\n",
    "    \n",
    "    tick_info.append(data.text)\n",
    "    #tikc_info.append(link)\n",
    "href=table_data[0].find('a').get('href')\n",
    "#href=data.find('a').get('href')\n",
    "link=\"https://finance.yahoo.com\"+href\n",
    "tick_info.append(link)\n",
    "print(\"link\\t\",link)\n",
    "tick_info"
   ]
  },
  {
   "cell_type": "code",
   "execution_count": null,
   "metadata": {},
   "outputs": [],
   "source": [
    "%%script false --no-raise-error #skip this cell and no error output\n",
    "#csv file to save the data\n",
    "csv_file=open(\"actives.csv\",\"w\")\n",
    "header=['Symbol','Name','Price','Change','%Change','Volume','Avg Vol(3 mo)','Market Cap','PE (TTM)'] #columns name\n",
    "csv_writer=csv.writer(csv_file)\n",
    "csv_writer.writerow(header)\n",
    "#find the ticker block\n",
    "table=soup.find('table',class_=\"W(100%)\")\n",
    "table_body=table.find('tbody')\n",
    "table_data_rows=table_body.find_all('tr')    #get all the rows\n",
    "all_data=[]\n",
    "for row in table_data_rows:\n",
    "    table_data=row.find_all('td')[:-1] #find all returns the list\n",
    "    tick_info=[]\n",
    "    for data in table_data:\n",
    "        tick_info.append(data.text)\n",
    "    all_data.append(tick_info)\n",
    "#tick_info\n",
    "#all_data\n",
    "#len(all_data)\n",
    "#print(all_data[0])\n",
    "for i in range(len(all_data)):\n",
    "    print(all_data[i])\n",
    "    csv_writer.writerow(all_data[i])\n",
    "csv_file.close()"
   ]
  },
  {
   "cell_type": "code",
   "execution_count": null,
   "metadata": {},
   "outputs": [],
   "source": [
    "%%script false --no-raise-error #skip this cell and no error output\n",
    "#most active data\n",
    "#csv file to save the data\n",
    "csv_file=open(\"actives.csv\",\"w\")\n",
    "header=['Symbol','Name','Price','Change','%Change','Volume','Avg Vol(3 mo)','Market Cap','PE (TTM)','Link'] #columns name\n",
    "csv_writer=csv.writer(csv_file)\n",
    "csv_writer.writerow(header)\n",
    "#find the ticker block\n",
    "table=soup.find('table',class_=\"W(100%)\")\n",
    "table_body=table.find('tbody')\n",
    "table_data_rows=table_body.find_all('tr')    #get all the rows\n",
    "all_data=[]\n",
    "for row in table_data_rows:\n",
    "    table_data=row.find_all('td')[:-1] #find all returns the list\n",
    "    tick_info=[]\n",
    "    for data in table_data:\n",
    "        tick_info.append(data.text)\n",
    "    href=table_data[0].find('a').get('href')\n",
    "    link=\"https://finance.yahoo.com\"+href\n",
    "    tick_info.append(link)\n",
    "    all_data.append(tick_info)\n",
    "#tick_info\n",
    "#all_data\n",
    "#len(all_data)\n",
    "#print(all_data[0])\n",
    "for i in range(len(all_data)):\n",
    "    print(all_data[i])\n",
    "    csv_writer.writerow(all_data[i])\n",
    "csv_file.close()"
   ]
  },
  {
   "cell_type": "code",
   "execution_count": null,
   "metadata": {},
   "outputs": [],
   "source": [
    "#csv file to save the data\n",
    "csv_file=open(\"temp/gainers.csv\",\"w\")\n",
    "header=['Symbol','Name','Price','Change','%Change','Volume','Avg Vol(3 mo)','Market Cap','PE (TTM)','Link'] #columns name\n",
    "csv_writer=csv.writer(csv_file)\n",
    "csv_writer.writerow(header)\n",
    "#find the ticker block\n",
    "table=soup.find('table',class_=\"W(100%)\")\n",
    "table_body=table.find('tbody')\n",
    "table_data_rows=table_body.find_all('tr')    #get all the rows\n",
    "all_data=[]\n",
    "for row in table_data_rows:\n",
    "    table_data=row.find_all('td')[:-1] #find all returns the list\n",
    "    tick_info=[]\n",
    "    for data in table_data:\n",
    "        tick_info.append(data.text)\n",
    "    href=table_data[0].find('a').get('href')\n",
    "    link=\"https://finance.yahoo.com\"+href\n",
    "    tick_info.append(link)\n",
    "    all_data.append(tick_info)\n",
    "#tick_info\n",
    "#all_data\n",
    "#len(all_data)\n",
    "#print(all_data[0])\n",
    "for i in range(len(all_data)):\n",
    "    print(all_data[i])\n",
    "    csv_writer.writerow(all_data[i])\n",
    "csv_file.close()"
   ]
  },
  {
   "cell_type": "code",
   "execution_count": null,
   "metadata": {},
   "outputs": [],
   "source": [
    "import pandas as pd\n",
    "import numpy as np\n",
    "import matplotlib.pyplot as plt"
   ]
  },
  {
   "cell_type": "code",
   "execution_count": null,
   "metadata": {},
   "outputs": [],
   "source": [
    "#make clickable link for the column\n",
    "\n",
    "def make_clickable(val):\n",
    "    return '<a target =\"_blank\" href=\"{}\">{}</a>'.format(val,\"link\")\n",
    "    #target=\"_blank\" opens the window to new window\n",
    "    #can use val inplace to \"link\" to print the exact link\n",
    "\n"
   ]
  },
  {
   "cell_type": "code",
   "execution_count": null,
   "metadata": {},
   "outputs": [],
   "source": [
    "def color_negative_red(val):\n",
    "    \"\"\"\n",
    "    Takes a scalar and returns a string with\n",
    "    the css property `'color: red'` for negative\n",
    "    strings, black otherwise.\n",
    "    \"\"\"\n",
    "    color = 'red' if val < 0 else 'green'\n",
    "    return 'color: %s' % color"
   ]
  },
  {
   "cell_type": "code",
   "execution_count": null,
   "metadata": {},
   "outputs": [],
   "source": [
    "def change_volume(v):\n",
    "    '''\n",
    "    Changes the volume into million if not already so.\n",
    "    '''\n",
    "    if v[-1] not in ['M','B']:\n",
    "        if ',' in v:\n",
    "            idx=v.find(',') \n",
    "            v=v[:idx]+v[idx+1:]\n",
    "        sub=v[:-1]\n",
    "        sub=float(sub)/10**6\n",
    "        sub=str(sub)+'M'\n",
    "    else:sub=v\n",
    "    return sub"
   ]
  },
  {
   "cell_type": "code",
   "execution_count": null,
   "metadata": {},
   "outputs": [],
   "source": [
    "test='100,01'\n",
    "change_volume(test)"
   ]
  },
  {
   "cell_type": "code",
   "execution_count": null,
   "metadata": {},
   "outputs": [],
   "source": [
    "#df_actives=pd.read_csv('actives.csv')\n",
    "df_losers=pd.read_csv('temp/gainers.csv')\n",
    "df_losers.head()\n",
    "#df_losers.style.format({'Link':make_clickable},{'Change':color_negative_red})#column names and formatting as the dictonary\n",
    "#df_losers\n",
    "df_losers['Volume']=df_losers['Volume'].apply(change_volume)\n",
    "df_losers['Avg Vol(3 mo)']=df_losers['Avg Vol(3 mo)'].apply(change_volume)\n",
    "df_losers=df_losers.style.\\\n",
    "applymap(color_negative_red,subset=['Change']).\\\n",
    "format({'Link':make_clickable}).\\\n",
    "format({'Price':\"{:.2f}\"}).\\\n",
    "format({'Change':\"{:.2f}\"})\n",
    "\n"
   ]
  },
  {
   "cell_type": "code",
   "execution_count": null,
   "metadata": {},
   "outputs": [],
   "source": [
    "df_losers.columns"
   ]
  },
  {
   "cell_type": "code",
   "execution_count": null,
   "metadata": {},
   "outputs": [],
   "source": [
    "df_losers"
   ]
  },
  {
   "cell_type": "code",
   "execution_count": null,
   "metadata": {},
   "outputs": [],
   "source": [
    "#data types of the data-frame\n",
    "#df_losers.dtypes\n",
    "#df_losers.style.applymap(color_negative_red,subset=['Change'])\n",
    "#builtin method to give color to the null values\n",
    "#https://mode.com/example-gallery/python_dataframe_styling/ example\n",
    "#df_losers.style.highlight_null(null_color='re')"
   ]
  },
  {
   "cell_type": "code",
   "execution_count": null,
   "metadata": {},
   "outputs": [],
   "source": [
    "df_gainers=df_gainers.style.format({'Link':make_clickable})#column names and formatting as the dictonary\n",
    "df_gainers"
   ]
  },
  {
   "cell_type": "code",
   "execution_count": null,
   "metadata": {},
   "outputs": [],
   "source": []
  },
  {
   "cell_type": "code",
   "execution_count": null,
   "metadata": {},
   "outputs": [],
   "source": [
    "#df_actives=df_actives.style.format({'Link':make_clickable})#column names and formatting as the dictonary\n",
    "#df_actives=df_actives.style.format({'Change':color_tick_red})\n",
    "#df_actives"
   ]
  },
  {
   "cell_type": "code",
   "execution_count": null,
   "metadata": {},
   "outputs": [],
   "source": [
    "df_actives.format(\"{:.2f}\")"
   ]
  },
  {
   "cell_type": "code",
   "execution_count": null,
   "metadata": {},
   "outputs": [],
   "source": [
    "#%%script false --no-raise-error #skip this cell and no error output\n",
    "#ticker='NIO'\n",
    "def color_tick_red(val):\n",
    "    \"\"\"\n",
    "    Takes a scalar and returns a string with\n",
    "    the css property `'color: red'` for given value\n",
    "    strings, black otherwise.\n",
    "    \"\"\"\n",
    "    color = 'red' if val <0 else 'black'\n",
    "    return 'color: %s' % color\n",
    "\n",
    "#s = df_most_active.style.applymap(color_tick_red)\n",
    "#s"
   ]
  },
  {
   "cell_type": "code",
   "execution_count": null,
   "metadata": {},
   "outputs": [],
   "source": [
    "df_actives.style#.apply(color_tick_red,subset=['Change'])"
   ]
  },
  {
   "cell_type": "markdown",
   "metadata": {},
   "source": [
    "# Use Line wrap to see all the lines\n",
    "# /* -- Data -- */ includes the data"
   ]
  },
  {
   "cell_type": "code",
   "execution_count": null,
   "metadata": {},
   "outputs": [],
   "source": [
    "#getting the pattern with regular expression\n",
    "pattern=re.compile(r'\\s--\\sData\\s--\\s') #\\s->space\n",
    "script_data=soup.find('script',text=pattern).contents[0]"
   ]
  },
  {
   "cell_type": "code",
   "execution_count": null,
   "metadata": {},
   "outputs": [],
   "source": [
    "script_data[:500]"
   ]
  },
  {
   "cell_type": "code",
   "execution_count": null,
   "metadata": {},
   "outputs": [],
   "source": [
    "script_data[-500:]"
   ]
  },
  {
   "cell_type": "code",
   "execution_count": null,
   "metadata": {},
   "outputs": [],
   "source": [
    "#Extracting the json data from the text \n",
    "start=script_data.find(\"context\")-2 # first { positon\n",
    "json_data=json.loads(script_data[start:-12]) # {  is last 12 characters from the back\n",
    "#json loads gives python dictionary"
   ]
  },
  {
   "cell_type": "code",
   "execution_count": null,
   "metadata": {},
   "outputs": [],
   "source": [
    "json_data['context'].keys()"
   ]
  },
  {
   "cell_type": "code",
   "execution_count": null,
   "metadata": {},
   "outputs": [],
   "source": [
    "link='https://www.timesjobs.com/candidate/job-search.html?searchType=personalizedSearch&from=submit&txtKeywords=python&txtLocation='\n",
    "html_text=requests.get(link).text\n",
    "soup=BeautifulSoup(html_text,'lxml')\n",
    "jobs=soup.find_all('li',class_='clearfix job-bx wht-shd-bx') #find first occurance\n"
   ]
  },
  {
   "cell_type": "code",
   "execution_count": null,
   "metadata": {},
   "outputs": [],
   "source": [
    "for job in jobs:\n",
    "    date_published=job.find('span',class_=\"sim-posted\").span.text\n",
    "    #print(date_published)\n",
    "    if 'few' in date_published:\n",
    "        company_name=job.find('h3',class_=\"joblist-comp-name\").text.replace(\" \",\"\")\n",
    "        #print(jobs)<span class=\"srp-skills\">\n",
    "        #skills=job.find('span', class_=\"srp-skills\")\n",
    "        #print(skills)\n",
    "        #print(company_name)\n",
    "        skills=job.find('span', class_=\"srp-skills\").text.replace(\" \",\"\")\n",
    "        more_info=job.header.h2.a['href']\n",
    "\n",
    "\n",
    "        #print(skills)\n",
    "        #print(company_name)\n",
    "        print(f'''\n",
    "        Company Name: {company_name.strip()}\n",
    "        Required Skills:{skills.strip()}\n",
    "        More_Information:{more_info}\n",
    "          '''\n",
    "        )\n",
    "        print()"
   ]
  },
  {
   "cell_type": "code",
   "execution_count": null,
   "metadata": {},
   "outputs": [],
   "source": [
    "print(html_text)"
   ]
  },
  {
   "cell_type": "code",
   "execution_count": null,
   "metadata": {},
   "outputs": [],
   "source": []
  }
 ],
 "metadata": {
  "kernelspec": {
   "display_name": "Python 3",
   "language": "python",
   "name": "python3"
  },
  "language_info": {
   "codemirror_mode": {
    "name": "ipython",
    "version": 3
   },
   "file_extension": ".py",
   "mimetype": "text/x-python",
   "name": "python",
   "nbconvert_exporter": "python",
   "pygments_lexer": "ipython3",
   "version": "3.8.10"
  }
 },
 "nbformat": 4,
 "nbformat_minor": 4
}
