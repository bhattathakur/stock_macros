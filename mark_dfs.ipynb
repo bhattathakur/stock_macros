{
 "cells": [
  {
   "cell_type": "code",
   "execution_count": null,
   "metadata": {},
   "outputs": [],
   "source": [
    "import pandas as pd\n",
    "import yfinance as yf\n",
    "from datetime import date\n",
    "import plotly.graph_objects as go\n",
    "import mplfinance as mpf\n",
    "\n",
    "import numpy as np\n",
    "pd.set_option(\"display.max_rows\", None, \"display.max_columns\", None)"
   ]
  },
  {
   "cell_type": "code",
   "execution_count": null,
   "metadata": {},
   "outputs": [],
   "source": [
    "def get_all_info(st):\n",
    "    \"returns all the information of the given ticker\"\n",
    "    t=yf.Ticker(st)\n",
    "    info=t.info\n",
    "    info_df=pd.DataFrame.from_dict(info,orient='index',columns=['VALUE'])\n",
    "    info_df.index.name='INFO'\n",
    "    return info_df"
   ]
  },
  {
   "cell_type": "code",
   "execution_count": null,
   "metadata": {},
   "outputs": [],
   "source": [
    "#read the file\n",
    "\n",
    "output_files=[\"nasdaq_mega\", \"nasdaq_large\",\"nasdaq_medium\",\"nasdaq_small\",\"nasdaq_micro\",\"nasdaq_nano\"]\n",
    "save_dir=\"/home/thakur/test/combined/\"\n",
    "today=date.today()\n",
    "today=today.strftime(\"%m%d%y\")\n",
    "#overide due to delay analysis\n",
    "\n",
    "\n",
    "today='080122'\n",
    "\n",
    "print(f\"Today: {today}\\n\")\n"
   ]
  },
  {
   "cell_type": "markdown",
   "metadata": {},
   "source": [
    "# Check the latest files\n"
   ]
  },
  {
   "cell_type": "code",
   "execution_count": null,
   "metadata": {},
   "outputs": [],
   "source": [
    "! bash check_download.sh"
   ]
  },
  {
   "cell_type": "code",
   "execution_count": null,
   "metadata": {},
   "outputs": [],
   "source": [
    "print(f\"Working on the data on {today}\")\n",
    "df_mega=pd.read_csv(save_dir+\"mark\"+output_files[0]+today+\".csv\")\n",
    "df_large=pd.read_csv(save_dir+\"mark\"+output_files[1]+today+\".csv\")\n",
    "df_medium=pd.read_csv(save_dir+\"mark\"+output_files[2]+today+\".csv\")\n",
    "df_small=pd.read_csv(save_dir+\"mark\"+output_files[3]+today+\".csv\")\n",
    "df_micro=pd.read_csv(save_dir+\"mark\"+output_files[4]+today+\".csv\")\n",
    "df_nano=pd.read_csv(save_dir+\"mark\"+output_files[5]+today+\".csv\")\n"
   ]
  },
  {
   "cell_type": "code",
   "execution_count": null,
   "metadata": {},
   "outputs": [],
   "source": [
    "def change_index(df):\n",
    "    df.index=np.arange(1,len(df.index)+1)\n",
    "    return df\n",
    "\n",
    "#create yfinance portfolio sample\n",
    "def yahoo_portfolio(df,save_name):\n",
    "    \"\"\"\n",
    "    returns the yfinance compatable portfolio template for given df name of save file\n",
    "    \"\"\"\n",
    "    cols=['Symbol','Current Price','Date', 'Time', 'Change', 'Open', 'High', 'Low', 'Volume', 'Trade Date',\n",
    "          'Purchase Price','Quantity','Commission','High Limit','Low Limit','Comment']\n",
    "\n",
    "    sym=list(df.TICK)\n",
    "    dic_val=[sym]+14*[None] #14 None\n",
    "    my_dict=dict(zip(cols,dic_val)) #dictionary\n",
    "    my_df=pd.DataFrame.from_dict(my_dict)\n",
    "    my_df.to_csv(save_name+\".csv\")\n",
    "    print(f\"Created the yahoo template: {save_name}.csv from data frame !\")\n",
    "    \n",
    "    \n",
    "def get_candle(tick,root,day=20):\n",
    "    \"returns the candle stick of a stock tick for the given root file.\"\n",
    "#     f=root+tick+\".csv\"\n",
    "#     print(f\"file: {f}\")\n",
    "    df=pd.read_csv(root+tick+\".csv\").tail(day)\n",
    "    #df['Date'] = df['Date'].strftime(\"%d-%m-%Y %H:%M:%S\")\n",
    "\n",
    "    \n",
    "    fig = go.Figure(data=[go.Candlestick(x=df['Date'],\n",
    "                open=df['Open'], high=df['High'],\n",
    "                low=df['Low'], close=df['Close'],increasing_line_color='green',decreasing_line_color='black')\n",
    "                     ])\n",
    "\n",
    "    fig.update_layout(xaxis_rangeslider_visible=False,title=tick,xaxis=dict(type = \"category\"),autosize=False,\n",
    "    width=1000,\n",
    "    height=400)\n",
    "    #fig.title(tick)\n",
    "    fig.show()\n",
    "\n",
    "def plot_with_mpl(tick,root,day=60,sty='yahoo',typ='candle'):\n",
    "    \"returns the candle stick of a stock tick for the given root file.\"\n",
    "\n",
    "    df=pd.read_csv(root+tick+\".csv\").tail(day)\n",
    "    df.Volume=df.Volume/10**5              #100k volume\n",
    "    df.Date=pd.to_datetime(df.Date)\n",
    "    df.set_index('Date',inplace=True)\n",
    "    fig,axes=mpf.plot(df,type=typ,mav=(5,21),volume=True,tight_layout=False,figratio=(24,12),figscale=1,\n",
    "                    returnfig=True,style=sty)\n",
    "    axes[0].legend([\"5-SMA\",\"21-SMA\"],loc='upper center')\n",
    "    #axes[0].legend(loc='upper left')\n",
    "    axes[0].set_title(tick)\n",
    "    mpf.show()\n",
    "\n",
    "    \n",
    "def print_info(c,sector,industry,name,symbol,cp,cng):\n",
    "    print(f\"\\n\\n\\nCOUNT   : {c+1}\")\n",
    "    print(f\"SECTOR  : {sector}\\nINDUSTRY: {industry}\\nNAME    : {name}\\nSYMBOL  : {symbol}\\nPRICE   : $ {cp}\\nCHNG%   : {cng}%\\n\\n\")"
   ]
  },
  {
   "cell_type": "code",
   "execution_count": null,
   "metadata": {},
   "outputs": [],
   "source": [
    "\n",
    "df_mega=df_mega.sort_values(by=['CP'])\n",
    "df_mega=change_index(df_mega)\n",
    "df_mega\n"
   ]
  },
  {
   "cell_type": "code",
   "execution_count": null,
   "metadata": {},
   "outputs": [],
   "source": [
    "#draw the chart\n",
    "base=\"/home/thakur/test/\"\n",
    "root=base+\"mega/\"\n",
    "\n",
    "#for i in list(df_mega['TICK']):get_candle(i,root,50)\n",
    "for c,i in enumerate(df_mega['TICK'].tolist()):\n",
    "    sector=df_mega.loc[c+1,\"SECTOR\"];industry=df_mega.loc[c+1,\"INDUSTRY\"];cp=df_mega.loc[c+1,\"CP\"];name=df_mega.loc[c+1,\"NAME\"];cng=df_mega.loc[c+1,\"CHG%\"]\n",
    "\n",
    "    print_info(c,sector,industry,name,i,cp,cng)\n",
    "    plot_with_mpl(i,root,50)"
   ]
  },
  {
   "cell_type": "code",
   "execution_count": null,
   "metadata": {},
   "outputs": [],
   "source": [
    "\n",
    "df_large=df_large.sort_values(by=['CP'])\n",
    "\n",
    "df_large=change_index(df_large)\n",
    "print(f\"Total Length: {len(df_large.index)}\")\n",
    "df_large\n"
   ]
  },
  {
   "cell_type": "code",
   "execution_count": null,
   "metadata": {},
   "outputs": [],
   "source": [
    "#draw the chart\n",
    "#%matplotlib inline\n",
    "base=\"/home/thakur/test/\"\n",
    "root=base+\"large/\"\n",
    "\n",
    "#for i in list(df_large['TICK']):get_candle(i,root,50)\n",
    "for c,i in enumerate(df_large['TICK'].tolist()):\n",
    "    #print(f\"\\nCOUNT: {c+1}\\n\")\n",
    "    sector=df_large.loc[c+1,\"SECTOR\"];industry=df_large.loc[c+1,\"INDUSTRY\"];cp=df_large.loc[c+1,\"CP\"];name=df_large.loc[c+1,\"NAME\"];cng=df_large.loc[c+1,\"CHG%\"]\n",
    "    print_info(c,sector,industry,name,i,cp,cng)\n",
    "    plot_with_mpl(i,root,50)"
   ]
  },
  {
   "cell_type": "code",
   "execution_count": null,
   "metadata": {},
   "outputs": [],
   "source": [
    "df_medium\n",
    "df_medium=df_medium.sort_values(by=['CP'])\n",
    "df_medium=change_index(df_medium)\n",
    "print(f\"Total: {len(df_medium.index)}\")\n",
    "df_medium=df_medium.head(10)"
   ]
  },
  {
   "cell_type": "code",
   "execution_count": null,
   "metadata": {},
   "outputs": [],
   "source": [
    "#draw the chart\n",
    "%matplotlib inline\n",
    "base=\"/home/thakur/test/\"\n",
    "root=base+\"medium/\"\n",
    "\n",
    "#for i in list(df_medium['TICK']):get_candle(i,root,50)\n",
    "for c,i in enumerate(df_medium['TICK'].tolist()):\n",
    "    sector=df_medium.loc[c+1,\"SECTOR\"];industry=df_medium.loc[c+1,\"INDUSTRY\"];cp=df_medium.loc[c+1,\"CP\"];name=df_medium.loc[c+1,\"NAME\"];cng=df_medium.loc[c+1,\"CHG%\"]\n",
    "    print_info(c,sector,industry,name,i,cp,cng)\n",
    "    #print(f\"\\nCOUNT: {c+1}\\n\")\n",
    "    plot_with_mpl(i,root,50,sty='default')"
   ]
  },
  {
   "cell_type": "code",
   "execution_count": null,
   "metadata": {},
   "outputs": [],
   "source": [
    "df_small=df_small.sort_values(by=['CP'])\n",
    "df_small=df_small[(df_small['RS']>0) & (df_small['INDUSTRY']!='Shell Companies')] #exclude shell companies\n",
    "df_small=change_index(df_small)\n",
    "print(f\"Total Length: {len(df_small.index)}\")\n",
    "df_small"
   ]
  },
  {
   "cell_type": "code",
   "execution_count": null,
   "metadata": {},
   "outputs": [],
   "source": [
    "#draw the chart\n",
    "#%matplotlib inline\n",
    "base=\"/home/thakur/test/\"\n",
    "root=base+\"small/\"\n",
    "\n",
    "#for i in list(df_medium['TICK']):get_candle(i,root,50)\n",
    "for c,i in enumerate(df_small['TICK'].tolist()):\n",
    "    sector=df_small.loc[c+1,\"SECTOR\"];industry=df_small.loc[c+1,\"INDUSTRY\"];cp=df_small.loc[c+1,\"CP\"];name=df_small.loc[c+1,\"NAME\"];cng=df_small.loc[c+1,\"CHG%\"]\n",
    "    print_info(c,sector,industry,name,i,cp,cng)\n",
    "    plot_with_mpl(i,root,50,sty='yahoo')"
   ]
  },
  {
   "cell_type": "code",
   "execution_count": null,
   "metadata": {},
   "outputs": [],
   "source": [
    "df_micro=df_micro.sort_values(by=['CP'])\n",
    "df_micro=df_micro[(df_micro['RS']>0) & (df_micro['INDUSTRY']!='Shell Companies')]\n",
    "df_micro=change_index(df_micro)\n",
    "print(\"Total: {} \".format(df_micro.shape[0]))\n",
    "df_micro"
   ]
  },
  {
   "cell_type": "markdown",
   "metadata": {},
   "source": [
    "# Medium and small and Price > $10 (MARK'S SUGGESTION)"
   ]
  },
  {
   "cell_type": "code",
   "execution_count": null,
   "metadata": {},
   "outputs": [],
   "source": []
  },
  {
   "cell_type": "code",
   "execution_count": null,
   "metadata": {},
   "outputs": [],
   "source": [
    "#draw the chart\n",
    "#%matplotlib inline\n",
    "base=\"/home/thakur/test/\"\n",
    "root=base+\"micro/\"\n",
    "\n",
    "#for i in list(df_medium['TICK']):get_candle(i,root,50)\n",
    "for c,i in enumerate(df_micro['TICK'].tolist()):\n",
    "    sector=df_micro.loc[c+1,\"SECTOR\"];industry=df_micro.loc[c+1,\"INDUSTRY\"];cp=df_micro.loc[c+1,\"CP\"];name=df_micro.loc[c+1,\"NAME\"];cng=df_micro.loc[c+1,\"CHG%\"]\n",
    "    print_info(c,sector,industry,name,i,cp,cng)\n",
    "    plot_with_mpl(i,root,50,sty='yahoo')"
   ]
  },
  {
   "cell_type": "code",
   "execution_count": null,
   "metadata": {},
   "outputs": [],
   "source": []
  },
  {
   "cell_type": "code",
   "execution_count": null,
   "metadata": {},
   "outputs": [],
   "source": [
    "df_nano=df_nano.sort_values(by=['CP'])\n",
    "df_nano=df_nano[(df_nano['RS']>0) & (df_nano['INDUSTRY']!='Shell Companies')]\n",
    "df_nano=change_index(df_nano)\n",
    "df_nano"
   ]
  },
  {
   "cell_type": "code",
   "execution_count": null,
   "metadata": {},
   "outputs": [],
   "source": [
    "#draw the chart\n",
    "#%matplotlib inline\n",
    "base=\"/home/thakur/test/\"\n",
    "root=base+\"nano/\"\n",
    "\n",
    "#for i in list(df_medium['TICK']):get_candle(i,root,50)\n",
    "for c,i in enumerate(df_nano['TICK'].tolist()):\n",
    "    sector=df_nano.loc[c+1,\"SECTOR\"];industry=df_nano.loc[c+1,\"INDUSTRY\"];cp=df_nano.loc[c+1,\"CP\"];name=df_nano.loc[c+1,\"NAME\"];cng=df_nano.loc[c+1,\"CHG%\"]\n",
    "    print_info(c,sector,industry,name,i,cp,cng)\n",
    "    plot_with_mpl(i,root,50)"
   ]
  },
  {
   "cell_type": "markdown",
   "metadata": {},
   "source": [
    "# Fundamental INFO"
   ]
  },
  {
   "cell_type": "code",
   "execution_count": null,
   "metadata": {},
   "outputs": [],
   "source": [
    "pars=['profitMargins', \n",
    "      'revenueGrowth', \n",
    "      'operatingMargins', \n",
    "      'earningsGrowth',\n",
    "      'returnOnAssets', \n",
    "      #'numberOfAnalystOpinions', \n",
    "      #'targetMeanPrice',\n",
    "      'debtToEquity', \n",
    "      'returnOnEquity',\n",
    "      #'targetHighPrice',\n",
    "      #'totalCash', \n",
    "      #'totalDebt', \n",
    "      #'totalRevenue', \n",
    "      'totalCashPerShare', \n",
    "      'revenuePerShare', \n",
    "      # 'morningStarRiskRating', \n",
    "      'forwardEps', \n",
    "      #'revenueQuarterlyGrowth', \n",
    "      #'sharesOutstanding',  \n",
    "      'bookValue', \n",
    "      #'sharesShort', \n",
    "      #'sharesPercentSharesOut',\n",
    "      'heldPercentInstitutions',\n",
    "      #'netIncomeToCommon', \n",
    "      'trailingEps',\n",
    "      'priceToBook', \n",
    "      #'heldPercentInsiders', \n",
    "      #'yield', \n",
    "      'shortRatio', \n",
    "     # 'sharesShortPreviousMonthDate', \n",
    "     # 'floatShares', \n",
    "      'beta', \n",
    "      #'morningStarOverallRating', \n",
    "      'earningsQuarterlyGrowth', \n",
    "      'priceToSalesTrailing12Months',\n",
    "      #'dateShortInterest', \n",
    "      'pegRatio', \n",
    "      #'ytdReturn', \n",
    "      'forwardPE', \n",
    "      #'lastCapGain', \n",
    "      'shortPercentOfFloat', \n",
    "      #'sharesShortPriorMonth', \n",
    "      #'impliedSharesOutstanding',\n",
    "      'trailingPE', \n",
    "      'marketCap']\n",
    "col_names=[\"TICK\"]+pars\n",
    "col_names"
   ]
  },
  {
   "cell_type": "code",
   "execution_count": null,
   "metadata": {},
   "outputs": [],
   "source": [
    "#get the information for all the dataframes\n",
    "all_mark=pd.concat([df_medium,df_small]) #,df_micro,df_nano])\n",
    "all_mark=all_mark.sort_values(by=['CP'])\n",
    "all_mark=all_mark[all_mark['CP']<50]\n",
    "all_mark=change_index(all_mark)\n",
    "print(f\"Total {len(all_mark.index)}\")\n",
    "all_mark.head(50)"
   ]
  },
  {
   "cell_type": "code",
   "execution_count": null,
   "metadata": {},
   "outputs": [],
   "source": [
    "#mark df\n",
    "combined_mark=pd.concat([df_medium,df_small])#,df_micro,df_nano])\n",
    "#combined_mark=combined_mark[combined_mark['CP']<100]\n",
    "combined_mark=combined_mark[combined_mark['CP']<50]\n",
    "combined_mark=combined_mark.sort_values(by=['CP'])\n",
    "print(f\"Total Length {len(combined_mark.index)}\")\n",
    "change_index(combined_mark)\n",
    "#save to yahoo\n",
    "yahoo_portfolio(combined_mark,'/home/thakur/test/temp/mark')\n",
    "combined_mark.head()"
   ]
  },
  {
   "cell_type": "code",
   "execution_count": null,
   "metadata": {},
   "outputs": [],
   "source": [
    "def get_information(stock_list,par):\n",
    "    \"\"\"returns information dataframe\"\"\"\n",
    "    \n",
    "    \n",
    "    all_list=[]\n",
    "    \n",
    "    \n",
    "    for c,stock in enumerate(stock_list):\n",
    "        print(f\"Working for {c+1}/{len(stock_list)} => {stock}\\n\")\n",
    "        ticker=yf.Ticker(stock)\n",
    "        one_list=[]\n",
    "        one_list.append(stock)\n",
    "        inform=ticker.info\n",
    "        #print(\"keys: {}:{}values\".format(inform.keys(),inform.values()))\n",
    "\n",
    "        for i in par:\n",
    "            #if i in inform.keys():\n",
    "            info=ticker.info[i] if i in inform.keys() else np.nan\n",
    "            #else:info=\"None\"\n",
    "            #print(\"{:30}  :  {:}\".format(i,info))\n",
    "            one_list.append(info)\n",
    "        #print(\"one_list {}\".format(one_list))\n",
    "        \n",
    "        all_list.append(one_list)\n",
    "    \n",
    "    #print(\"all_list {}\".format(all_list))\n",
    "    #temp df\n",
    "    df=pd.DataFrame(all_list,columns=col_names)\n",
    "    print(f\"DONE !!!\")\n",
    "    return df\n",
    "    #print(\"df: {}\".format(df))\n",
    "    \n",
    "# df=get_information(['ARGX'],pars)\n",
    "# df"
   ]
  },
  {
   "cell_type": "code",
   "execution_count": null,
   "metadata": {},
   "outputs": [],
   "source": [
    "df.fillna(0,inplace=True)\n",
    "# df.replace('None',0,inplace=True)\n",
    "# df['trailingPE']\n",
    "# df['forwardEps'] > df['trailingEps']\n",
    "# df['forwardPE']<df['trailingPE']\n",
    "df=change_index(df)\n",
    "df.head()\n"
   ]
  },
  {
   "cell_type": "markdown",
   "metadata": {},
   "source": [
    "# Write in a file"
   ]
  },
  {
   "cell_type": "code",
   "execution_count": null,
   "metadata": {},
   "outputs": [],
   "source": [
    "%%sript False --no-raise-error\n",
    "df=get_information(all_mark['TICK'].to_list(),pars)\n",
    "df.head()"
   ]
  },
  {
   "cell_type": "code",
   "execution_count": null,
   "metadata": {},
   "outputs": [],
   "source": [
    "#information df\n",
    "%%script False --no-raise-error\n",
    "eps_filter=(df['forwardEps']>df['trailingEps'])\n",
    "pe_filter=(df['forwardPE']<df['trailingPE'])\n",
    "df_pe=df[(eps_filter) & (pe_filter)]\n",
    "df_pe\n"
   ]
  },
  {
   "cell_type": "code",
   "execution_count": null,
   "metadata": {},
   "outputs": [],
   "source": [
    "#combine two df\n",
    "%%script False --no-raise-error\n",
    "result = pd.concat([all_mark, df], axis=1, join=\"inner\")\n",
    "result.head(20)"
   ]
  },
  {
   "cell_type": "code",
   "execution_count": null,
   "metadata": {},
   "outputs": [],
   "source": [
    "# mark_list=list(combined_mark['TICK'])\n",
    "# mark_list"
   ]
  },
  {
   "cell_type": "code",
   "execution_count": null,
   "metadata": {},
   "outputs": [],
   "source": [
    "# #consolidation file\n",
    "# save_dir=\"/home/thakur/test/combined/\"\n",
    "\n",
    "# cons_df=pd.read_csv(save_dir+\"consolidation\"+today+\".csv\",names=['TICKER'])\n",
    "# #cons_df"
   ]
  },
  {
   "cell_type": "code",
   "execution_count": null,
   "metadata": {},
   "outputs": [],
   "source": [
    "# cons_list=list(cons_df['TICKER'])\n",
    "# #cons_list"
   ]
  },
  {
   "cell_type": "code",
   "execution_count": null,
   "metadata": {},
   "outputs": [],
   "source": [
    "# for i in mark_list:\n",
    "#     if i in cons_list:\n",
    "#         print(f\"{i} is consilidating!\")"
   ]
  },
  {
   "cell_type": "code",
   "execution_count": null,
   "metadata": {},
   "outputs": [],
   "source": [
    "# yimp=pd.read_csv('/home/thakur/Desktop/quotes.csv')"
   ]
  },
  {
   "cell_type": "code",
   "execution_count": null,
   "metadata": {},
   "outputs": [],
   "source": [
    "# yimp.head()"
   ]
  },
  {
   "cell_type": "code",
   "execution_count": null,
   "metadata": {},
   "outputs": [],
   "source": [
    "#tables=pd.read_html(\"https://finance.yahoo.com/portfolio/p_31/view\")"
   ]
  },
  {
   "cell_type": "code",
   "execution_count": null,
   "metadata": {},
   "outputs": [],
   "source": []
  },
  {
   "cell_type": "code",
   "execution_count": null,
   "metadata": {},
   "outputs": [],
   "source": []
  }
 ],
 "metadata": {
  "kernelspec": {
   "display_name": "Python 3",
   "language": "python",
   "name": "python3"
  },
  "language_info": {
   "codemirror_mode": {
    "name": "ipython",
    "version": 3
   },
   "file_extension": ".py",
   "mimetype": "text/x-python",
   "name": "python",
   "nbconvert_exporter": "python",
   "pygments_lexer": "ipython3",
   "version": "3.8.10"
  }
 },
 "nbformat": 4,
 "nbformat_minor": 4
}
