{
 "cells": [
  {
   "cell_type": "markdown",
   "metadata": {},
   "source": [
    "# Attempt to gather the information from NASDAQ\n",
    "https://www.nasdaq.com/market-activity\n"
   ]
  },
  {
   "cell_type": "code",
   "execution_count": null,
   "metadata": {},
   "outputs": [],
   "source": [
    "import pandas as pd\n",
    "\n",
    "\n",
    "\n",
    "root='/home/thakur/stock_information/'\n",
    "files=['mega','large','medium','small','micro','nano']\n",
    "\n",
    "\n",
    "for i in files:\n",
    "    print(f\"Filtering {i}...\")\n",
    "    file=root+\"nasdaq_\"+i+\".csv\"\n",
    "    df=pd.read_csv(file,keep_default_na=False)  print(\"df-head\\n\",df.head(3))\n",
    "    df.Symbol=df.Symbol.apply(lambda x:x.strip() if type(x) is str else x)\n",
    "    df.Symbol=df.Symbol.apply(lambda x:x.replace('.','-') if type(x) is str else x)\n",
    "    df.to_csv(file,index=False)\n",
    "Print(\"\\nDONE\\n\")"
   ]
  },
  {
   "cell_type": "code",
   "execution_count": null,
   "metadata": {},
   "outputs": [],
   "source": [
    "\"\"\"\n",
    "This program checks if any of ticker data is missing in yfinance download w.r.t. the nasdaq list\n",
    "\"\"\"\n",
    "import os\n",
    "import pandas as pd\n",
    "\n",
    "\n",
    "root='/home/thakur/stock_information/'\n",
    "dirs=['mega','large','medium','small','micro','nano']\n",
    "\n",
    "for j,k in enumerate(dirs):\n",
    "    print(35*'=')\n",
    "    print(f\"\\n{j+1}/{len(dirs)}. Checking download status of {k} \\n\")\n",
    "    #path to the dirs\n",
    "    path='./'+dirs[j]+\"/\"\n",
    "    #path\n",
    "    s_down=os.listdir(path)\n",
    "    s_down=[i.split('.')[0] for i in s]\n",
    "\n",
    "\n",
    "    file=root+'nasdaq_'+dirs[0]+'.csv'\n",
    "    s_file=pd.read_csv(file)['Symbol'].to_list()\n",
    "\n",
    "    not_found=[i for i in s_file if i not in s_down]\n",
    "\n",
    "    print(f\"Not found in {k} downlaod: {not_found}\\n\")"
   ]
  },
  {
   "cell_type": "code",
   "execution_count": null,
   "metadata": {},
   "outputs": [],
   "source": [
    "import subprocess,shlex"
   ]
  },
  {
   "cell_type": "code",
   "execution_count": null,
   "metadata": {},
   "outputs": [],
   "source": [
    "command = \"ls -lt mega/ | awk '{print $6,$7,$8,$9}>test1.txt'\"\n",
    "sp=shlex.split(command)\n",
    "sp"
   ]
  },
  {
   "cell_type": "code",
   "execution_count": null,
   "metadata": {},
   "outputs": [],
   "source": [
    "com=subprocess.run(sp,shell=True,capture_output=False,universal_newlines='\\n')"
   ]
  },
  {
   "cell_type": "code",
   "execution_count": null,
   "metadata": {},
   "outputs": [],
   "source": [
    "com"
   ]
  },
  {
   "cell_type": "code",
   "execution_count": null,
   "metadata": {},
   "outputs": [],
   "source": [
    "with open('text1.txt') as f:\n",
    "    ff=f.readline()\n",
    "    ff"
   ]
  },
  {
   "cell_type": "code",
   "execution_count": null,
   "metadata": {},
   "outputs": [],
   "source": []
  },
  {
   "cell_type": "code",
   "execution_count": null,
   "metadata": {},
   "outputs": [],
   "source": []
  }
 ],
 "metadata": {
  "kernelspec": {
   "display_name": "Python 3 (ipykernel)",
   "language": "python",
   "name": "python3"
  },
  "language_info": {
   "codemirror_mode": {
    "name": "ipython",
    "version": 3
   },
   "file_extension": ".py",
   "mimetype": "text/x-python",
   "name": "python",
   "nbconvert_exporter": "python",
   "pygments_lexer": "ipython3",
   "version": "3.10.6"
  }
 },
 "nbformat": 4,
 "nbformat_minor": 4
}
