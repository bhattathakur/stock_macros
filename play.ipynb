{
 "cells": [
  {
   "cell_type": "code",
   "execution_count": null,
   "metadata": {},
   "outputs": [],
   "source": [
    "import numpy as np\n",
    "import pandas as pd\n",
    "import matplotlib.pyplot as plt"
   ]
  },
  {
   "cell_type": "code",
   "execution_count": null,
   "metadata": {},
   "outputs": [],
   "source": [
    "from tabula import read_pdf\n",
    "tables=read_pdf(\"/home/thakur/stock_information/ru2000_membershiplist_20200629.pdf\",pages=\"all\")\n",
    "#table"
   ]
  },
  {
   "cell_type": "code",
   "execution_count": null,
   "metadata": {},
   "outputs": [],
   "source": [
    "#len(tables)\n",
    "#web=\"https://bullishbears.com/russell-2000-stocks-list/\"\n",
    "# pd.read_html(web)\n",
    "# web\n",
    "company=[]\n",
    "symbol=[]\n",
    "df=tables[0]\n",
    "\n",
    "list_of_columns=list(df.columns)\n",
    "df.head()"
   ]
  },
  {
   "cell_type": "code",
   "execution_count": null,
   "metadata": {},
   "outputs": [],
   "source": [
    "#company.append(list(df[list_of_columns[0]]))\n",
    "#company\n",
    "list_of_columns"
   ]
  },
  {
   "cell_type": "code",
   "execution_count": null,
   "metadata": {},
   "outputs": [],
   "source": [
    "#for i in tables:\n",
    "#    print(f\"table\\n {i}\")\n",
    "all_ticks=[]\n",
    "reult=pd.concat(tables)\n",
    "for i in reult['Ticker']:\n",
    "    all_ticks.append(i)\n",
    "    print(i)\n",
    "for i in reult['Unnamed: 0']:\n",
    "    all_ticks.append(i)\n",
    "    print(i)"
   ]
  },
  {
   "cell_type": "code",
   "execution_count": null,
   "metadata": {},
   "outputs": [],
   "source": [
    "len(all_ticks)\n",
    "russel=pd.DataFrame({\"Tickers\":all_ticks})\n",
    "russel.dropna(inplace=True)\n",
    "russel.to_csv(\"/home/thakur/stock_information/russel200.csv\",index=False)"
   ]
  },
  {
   "cell_type": "code",
   "execution_count": null,
   "metadata": {},
   "outputs": [],
   "source": [
    "rus=pd.read_csv(\"russel200.csv\")\n",
    "rus.tail()"
   ]
  },
  {
   "cell_type": "code",
   "execution_count": null,
   "metadata": {},
   "outputs": [],
   "source": [
    "x_pos=np.arange(len(df['Date']))\n",
    "plt.bar(x_pos,df['Volume'])\n",
    "plt.xticks(x_pos,df['Date'])"
   ]
  },
  {
   "cell_type": "code",
   "execution_count": null,
   "metadata": {},
   "outputs": [],
   "source": [
    "df=pd.read_csv(\"/home/thakur/stock_information/nasdaq_large.csv\")\n",
    "\n",
    "df.head()"
   ]
  },
  {
   "cell_type": "code",
   "execution_count": null,
   "metadata": {},
   "outputs": [],
   "source": [
    "s=df['Symbol'].to_list()\n",
    "s"
   ]
  },
  {
   "cell_type": "code",
   "execution_count": null,
   "metadata": {},
   "outputs": [],
   "source": [
    "m=(df.loc[df.Symbol=='A']['Name'].values[0])\n",
    "        "
   ]
  },
  {
   "cell_type": "code",
   "execution_count": null,
   "metadata": {},
   "outputs": [],
   "source": [
    "m.strip(\"Common Stock Inc.\")"
   ]
  },
  {
   "cell_type": "code",
   "execution_count": null,
   "metadata": {},
   "outputs": [],
   "source": [
    "for i in s:\n",
    "    m=(df.loc[df.Symbol==i]['Name'].values[0])\n",
    "    st=m.strip(\"Common Stock Inc.\")\n",
    "    print(f\"Name: {st}\")"
   ]
  },
  {
   "cell_type": "code",
   "execution_count": null,
   "metadata": {},
   "outputs": [],
   "source": []
  }
 ],
 "metadata": {
  "kernelspec": {
   "display_name": "Python 3 (ipykernel)",
   "language": "python",
   "name": "python3"
  },
  "language_info": {
   "codemirror_mode": {
    "name": "ipython",
    "version": 3
   },
   "file_extension": ".py",
   "mimetype": "text/x-python",
   "name": "python",
   "nbconvert_exporter": "python",
   "pygments_lexer": "ipython3",
   "version": "3.10.6"
  }
 },
 "nbformat": 4,
 "nbformat_minor": 4
}
