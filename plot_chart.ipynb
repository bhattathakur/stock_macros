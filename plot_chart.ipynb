{
 "cells": [
  {
   "cell_type": "code",
   "execution_count": null,
   "metadata": {},
   "outputs": [],
   "source": [
    "import plotly.graph_objects as go\n",
    "\n",
    "import pandas as pd\n",
    "import yfinance as yf\n",
    "import mplfinance as mpf\n",
    "\n",
    "#Useful information: https://coderzcolumn.com/tutorials/data-science/candlestick-chart-in-python-mplfinance-plotly-bokeh"
   ]
  },
  {
   "cell_type": "code",
   "execution_count": null,
   "metadata": {},
   "outputs": [],
   "source": [
    "df = pd.read_csv('https://raw.githubusercontent.com/plotly/datasets/master/finance-charts-apple.csv')\n",
    "\n",
    "fig = go.Figure(data=[go.Candlestick(x=df['Date'],\n",
    "                open=df['AAPL.Open'], high=df['AAPL.High'],\n",
    "                low=df['AAPL.Low'], close=df['AAPL.Close'])\n",
    "                     ])\n",
    "\n",
    "fig.update_layout(xaxis_rangeslider_visible=False)\n",
    "fig.show()"
   ]
  },
  {
   "cell_type": "code",
   "execution_count": null,
   "metadata": {},
   "outputs": [],
   "source": [
    "\n",
    "tsla= yf.Ticker('TSLA')\n",
    "df = tsla.history(period='52wk')\n",
    "\n",
    "fig = go.Figure(data=[go.Candlestick(x=df['Date'],\n",
    "                open=df['Open'], high=df['High'],\n",
    "                low=df['Low'], close=df['Close'])\n",
    "                     ])\n",
    "\n",
    "fig.update_layout(xaxis_rangeslider_visible=False)\n",
    "fig.show()"
   ]
  },
  {
   "cell_type": "code",
   "execution_count": null,
   "metadata": {},
   "outputs": [],
   "source": [
    "#df.reset_index()\n",
    "tsla.info\n",
    "t=list(tsla.info.keys())\n",
    "for i in (t):\n",
    "    print(i,sep=\"\\t\")"
   ]
  },
  {
   "cell_type": "code",
   "execution_count": null,
   "metadata": {},
   "outputs": [],
   "source": [
    "def get_graph(tick):\n",
    "    ticker= yf.Ticker(tick)\n",
    "    df = ticker.history(period='30d')\n",
    "\n",
    "    fig = go.Figure(data=go.Scatter(x=df.index,y=df['Close'], mode='lines'))\n",
    "    fig.show()\n",
    "for i in ['AAPL','AMZN','TSLA']:\n",
    "    get_graph(i)"
   ]
  },
  {
   "cell_type": "code",
   "execution_count": null,
   "metadata": {},
   "outputs": [],
   "source": [
    "def get_candle(tick):\n",
    "    ticker= yf.Ticker(tick)\n",
    "    df = ticker.history(period='30d')\n",
    "    fig = go.Figure(data=[go.Candlestick(x=df.index,\n",
    "                open=df['Open'], high=df['High'],\n",
    "                low=df['Low'], close=df['Close'])\n",
    "                     ])\n",
    "\n",
    "    fig.update_layout(xaxis_rangeslider_visible=False,title=tick)\n",
    "    #fig.title(tick)\n",
    "    fig.show()\n",
    "    \n",
    "def get_bar(tick):\n",
    "    ticker= yf.Ticker(tick)\n",
    "    df = ticker.history(period='30d')\n",
    "    fig = go.Figure(data=[go.Ohlc(x=df.index,\n",
    "                open=df['Open'], high=df['High'],\n",
    "                low=df['Low'], close=df['Close'])\n",
    "                     ])\n",
    "\n",
    "    fig.update_layout(xaxis_rangeslider_visible=False,title=tick)\n",
    "    #fig.title(tick)\n",
    "    fig.show()\n",
    "\n",
    "for i in ['AAPL','AMZN','TSLA']:\n",
    "    \n",
    "    get_candle(i)"
   ]
  },
  {
   "cell_type": "code",
   "execution_count": null,
   "metadata": {},
   "outputs": [],
   "source": [
    "dir=\"/home/thakur/test/mega/\"\n",
    "\n",
    "def get_candle(tick):\n",
    "    ticker= yf.Ticker(tick)\n",
    "    df = ticker.history(period='30d')\n",
    "    fig = go.Figure(data=[go.Candlestick(x=df.index,\n",
    "                open=df['Open'], high=df['High'],\n",
    "                low=df['Low'], close=df['Close'])\n",
    "                     ])\n",
    "\n",
    "    fig.update_layout(xaxis_rangeslider_visible=False,title=tick)\n",
    "    #fig.title(tick)\n",
    "    fig.show()\n",
    "    \n",
    "def get_bar(tick):\n",
    "    ticker= yf.Ticker(tick)\n",
    "    df = ticker.history(period='30d')\n",
    "    fig = go.Figure(data=[go.Ohlc(x=df.index,\n",
    "                open=df['Open'], high=df['High'],\n",
    "                low=df['Low'], close=df['Close'])\n",
    "                     ])\n",
    "\n",
    "    fig.update_layout(xaxis_rangeslider_visible=False,title=tick)\n",
    "    #fig.title(tick)\n",
    "    fig.show()\n",
    "\n",
    "for i in ['AAPL','AMZN','TSLA']:\n",
    "    \n",
    "    get_candle(i)"
   ]
  },
  {
   "cell_type": "code",
   "execution_count": null,
   "metadata": {},
   "outputs": [],
   "source": [
    "import os\n"
   ]
  },
  {
   "cell_type": "code",
   "execution_count": null,
   "metadata": {},
   "outputs": [],
   "source": [
    "root=\"/home/thakur/test/mega/\"\n",
    "mega_files=os.listdir(root)"
   ]
  },
  {
   "cell_type": "code",
   "execution_count": null,
   "metadata": {},
   "outputs": [],
   "source": [
    "df=df.tail(20)\n",
    "df.head()"
   ]
  },
  {
   "cell_type": "code",
   "execution_count": null,
   "metadata": {},
   "outputs": [],
   "source": [
    "\n",
    "def get_candle(tick,root,day=20):\n",
    "    \"returns the candle stick of a stock tick for the given root file.\"\n",
    "    df=pd.read_csv(root+tick+\".csv\").tail(day)\n",
    "    #df['Date'] = df['Date'].strftime(\"%d-%m-%Y %H:%M:%S\")\n",
    "\n",
    "    \n",
    "    fig = go.Figure(data=[go.Candlestick(x=df['Date'],\n",
    "                open=df['Open'], high=df['High'],\n",
    "                low=df['Low'], close=df['Close'])\n",
    "                     ])\n",
    "\n",
    "    fig.update_layout(xaxis_rangeslider_visible=False,title=tick,xaxis=dict(type = \"category\"))\n",
    "    #fig.title(tick)\n",
    "    fig.show()\n",
    "get_candle(\"AAPL\",root,50)\n",
    "#get_candle(\"AAPL\",root)"
   ]
  },
  {
   "cell_type": "code",
   "execution_count": null,
   "metadata": {},
   "outputs": [],
   "source": [
    "df.head"
   ]
  },
  {
   "cell_type": "code",
   "execution_count": null,
   "metadata": {},
   "outputs": [],
   "source": [
    "df=pd.read_csv(root+mega_files[0])\n",
    "df['Volume']=df['Volume']/100000\n",
    "df=df.tail(50)\n",
    "df.head()"
   ]
  },
  {
   "cell_type": "code",
   "execution_count": null,
   "metadata": {},
   "outputs": [],
   "source": [
    "from plotly.subplots import make_subplots\n",
    "\n",
    "fig2 = make_subplots(specs=[[{\"secondary_y\": True}]])\n",
    "fig2.add_trace(go.Scatter(x=df['Date'],y=df['Close'],name='Price'),secondary_y=False)\n",
    "fig2.add_trace(go.Bar(x=df['Date'],y=df['Volume'],name='Volume'),secondary_y=True)\n",
    "fig2.update_yaxes(range=[0,500],secondary_y=True)\n",
    "fig2.update_yaxes(visible=False, secondary_y=True)\n",
    "fig2.show()"
   ]
  },
  {
   "cell_type": "code",
   "execution_count": null,
   "metadata": {},
   "outputs": [],
   "source": [
    "import plotly.graph_objects as go\n",
    "from plotly.subplots import make_subplots\n",
    "\n",
    "cand = go.Candlestick(\n",
    "    x=df['Date'],\n",
    "    open=df['Open'],\n",
    "    high=df['High'],\n",
    "    low=df['Low'],\n",
    "    close=df['Close'],\n",
    "    showlegend=False\n",
    ")\n",
    "\n",
    "volume_bars = go.Bar(\n",
    "    x=df['Date'],\n",
    "    y=df['Volume'],\n",
    "    showlegend=False,\n",
    "    marker={\n",
    "        \"color\": \"rgba(128,128,128,0.5)\",\n",
    "    }\n",
    ")\n",
    "\n",
    "fig2 = make_subplots(specs=[[{\"secondary_y\": True}]])\n",
    "fig2.add_trace(cand,secondary_y=False)\n",
    "fig2.add_trace(volume_bars,secondary_y=True)\n",
    "fig2.update_yaxes(range=[0,500],secondary_y=True)\n",
    "#fig2.update_yaxes(visible=False, secondary_y=True)\n",
    "fig2.show()"
   ]
  },
  {
   "cell_type": "code",
   "execution_count": null,
   "metadata": {},
   "outputs": [],
   "source": [
    "import pandas as pd\n",
    "import plotly.graph_objects as go\n",
    "from plotly.subplots import make_subplots\n",
    "\n",
    "# data\n",
    "#df = pd.read_csv(\"https://raw.githubusercontent.com/plotly/datasets/master/finance-charts-apple.csv\")\n",
    "\n",
    "tick='AAPL'\n",
    "# Create subplots and mention plot grid size\n",
    "fig = make_subplots(rows=2, cols=1, shared_xaxes=True, \n",
    "               vertical_spacing=0.03, subplot_titles=(\"OHLC\", \"Volume\"), \n",
    "               row_width=[0.2, 0.7])\n",
    "\n",
    "# Plot OHLC on 1st row\n",
    "fig.add_trace(go.Candlestick(x=df['Date'], open=df['Open'], high=df['High'],\n",
    "                low=df['Low'], close=df['Close'], name='OHLC'), \n",
    "                row=1, col=1\n",
    ")\n",
    "\n",
    "# Bar trace for volumes on 2nd row without legend\n",
    "fig.add_trace(go.Bar(x=df['Date'], y=df['Volume'], showlegend=False), row=2, col=1)\n",
    "\n",
    "# Do not show OHLCs rangeslider plot \n",
    "fig.update_layout(xaxis_rangeslider_visible=False,title=tick,xaxis=dict(type = \"category\"))\n",
    "#fig.update(layout_xaxis_rangeslider_visible=False)\n",
    "fig.show()"
   ]
  },
  {
   "cell_type": "code",
   "execution_count": null,
   "metadata": {},
   "outputs": [],
   "source": [
    "!pip install --upgrade mplfinance"
   ]
  },
  {
   "cell_type": "code",
   "execution_count": null,
   "metadata": {},
   "outputs": [],
   "source": [
    "# daily = pd.read_csv('examples/data/SP500_NOV2019_Hist.csv',index_col=0,parse_dates=True)\n",
    "# daily.index.name = 'Date'\n",
    "# daily.shape\n",
    "# daily.head(3)\n",
    "# daily.tail(3)"
   ]
  },
  {
   "cell_type": "code",
   "execution_count": null,
   "metadata": {},
   "outputs": [],
   "source": [
    "# df.set_index('Date',inplace=True)\n",
    "# df.index.name='Date'\n",
    "# df.head()\n",
    "# tsla= yf.Ticker('TSLA')\n",
    "# df = tsla.history(period='52wk')\n",
    "df=pd.read_csv(\"mega/AAPL.csv\").tail(200)\n",
    "df.Volume=df.Volume/10**5\n",
    "df.Date=pd.to_datetime(df.Date)\n",
    "df.set_index('Date',inplace=True)\n",
    "df.head()"
   ]
  },
  {
   "cell_type": "code",
   "execution_count": null,
   "metadata": {},
   "outputs": [],
   "source": [
    "# df.set_index('Date',inplace=True)\n",
    "# df.index.name='Date'\n",
    "# df.head()\n",
    "# tsla= yf.Ticker('TSLA')\n",
    "# df = tsla.history(period='52wk')\n",
    "spy=yf.Ticker(\"SPY\")\n",
    "df1=spy.history(period='1y').tail(50)\n",
    "#df1=pd.read_csv(\"mega/BABA.csv\").tail(60)\n",
    "\n",
    "# df1.Volume=df1.Volume/10**6\n",
    "# df1.Date=pd.to_datetime(df1.Date)\n",
    "# df1.set_index('Date',inplace=True)\n",
    "df1.tail()"
   ]
  },
  {
   "cell_type": "code",
   "execution_count": null,
   "metadata": {},
   "outputs": [],
   "source": [
    "apdict=mpf.make_addplot(df1['Close'])\n",
    "#mpf.plot(df,type='candle',mav=(21),volume=True,style='yahoo')\n",
    "mpf.plot(df,type='candle',mav=(5),volume=True,title=\"test\",tight_layout=False,figratio=(10,6),figscale=1.0,\n",
    "        ylabel='Price',ylabel_lower='Vol(mln)',style='yahoo')"
   ]
  },
  {
   "cell_type": "code",
   "execution_count": null,
   "metadata": {},
   "outputs": [],
   "source": [
    "df=df.tail(60)\n",
    "apdict=mpf.make_addplot(df1['Close'])\n",
    "#mpf.plot(df,type='candle',mav=(21),volume=True,style='yahoo')\n",
    "fig,axes=mpf.plot(df,type='candle',mav=(5,21),volume=True,tight_layout=False,figratio=(12,6),figscale=1.0,\n",
    "                    returnfig=True,style='yahoo')\n",
    "#axlist[3].set_title(\"test1\")\n",
    "axes[0].legend([\"5-SMA\",\"21-SMA\"])\n",
    "#fig.patch.set_facecolor('black')\n",
    "mpf.show()"
   ]
  },
  {
   "cell_type": "code",
   "execution_count": null,
   "metadata": {},
   "outputs": [],
   "source": [
    "#define the function\n",
    "#import mplfinance as mpf\n",
    "def plot_with_mpl():\n",
    "    "
   ]
  },
  {
   "cell_type": "code",
   "execution_count": null,
   "metadata": {},
   "outputs": [],
   "source": [
    "def plot_with_mpl(tick,root,day=60,sty='yahoo',typ='candle'):\n",
    "    \"returns the candle stick of a stock tick for the given root file.\"\n",
    "\n",
    "    df=pd.read_csv(root+tick+\".csv\").tail(day)\n",
    "    df.Volume=df.Volume/10**5              #100k volume\n",
    "    df.Date=pd.to_datetime(df.Date)\n",
    "    df.set_index('Date',inplace=True)\n",
    "    fig,axes=mpf.plot(df,type=typ,mav=(5,21),volume=True,tight_layout=False,figratio=(12,6),figscale=0.5,\n",
    "                    returnfig=True,style=sty)\n",
    "    axes[0].legend([\"5-SMA\",\"21-SMA\"])\n",
    "    axes[0].set_title(tick)\n",
    "    mpf.show()\n",
    "\n"
   ]
  },
  {
   "cell_type": "code",
   "execution_count": null,
   "metadata": {},
   "outputs": [],
   "source": [
    "base=\"/home/thakur/test/\"\n",
    "root=base+\"mega/\"\n",
    "\n",
    "for i in ['AAPL','MRK']:plot_with_mpl(i,root)"
   ]
  },
  {
   "cell_type": "code",
   "execution_count": null,
   "metadata": {},
   "outputs": [],
   "source": [
    "base=\"/home/thakur/test/\"\n",
    "root=base+\"mega/\"\n",
    "\n",
    "for i in ['AAPL','MRK']:plot_with_mpl(i,root,60,sty=\"default\")"
   ]
  },
  {
   "cell_type": "code",
   "execution_count": null,
   "metadata": {},
   "outputs": [],
   "source": [
    "base=\"/home/thakur/test/\"\n",
    "root=base+\"mega/\"\n",
    "\n",
    "for i in ['AAPL','MRK']:plot_with_mpl(i,root,60,sty=\"default\",typ='ohlc')"
   ]
  },
  {
   "cell_type": "code",
   "execution_count": null,
   "metadata": {},
   "outputs": [],
   "source": []
  },
  {
   "cell_type": "code",
   "execution_count": null,
   "metadata": {},
   "outputs": [],
   "source": []
  }
 ],
 "metadata": {
  "kernelspec": {
   "display_name": "Python 3 (ipykernel)",
   "language": "python",
   "name": "python3"
  },
  "language_info": {
   "codemirror_mode": {
    "name": "ipython",
    "version": 3
   },
   "file_extension": ".py",
   "mimetype": "text/x-python",
   "name": "python",
   "nbconvert_exporter": "python",
   "pygments_lexer": "ipython3",
   "version": "3.10.6"
  }
 },
 "nbformat": 4,
 "nbformat_minor": 4
}
