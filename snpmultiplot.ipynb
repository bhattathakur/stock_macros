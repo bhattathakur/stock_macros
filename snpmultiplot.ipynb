{
 "cells": [
  {
   "cell_type": "code",
   "execution_count": null,
   "metadata": {},
   "outputs": [],
   "source": [
    "import pandas as pd\n",
    "import pandas_ta as ta\n",
    "import numpy as np\n",
    "import mplfinance as mpf\n",
    "import yfinance as yf\n",
    "import time\n",
    "#import talib as ta\n",
    "from talib import abstract\n",
    "import os\n",
    "import matplotlib.pyplot as plt\n",
    "import talib\n",
    "import math\n",
    "pd.set_option(\"display.max_rows\", None, \"display.max_columns\", None)\n",
    "from datetime import datetime\n",
    "\n"
   ]
  },
  {
   "cell_type": "code",
   "execution_count": null,
   "metadata": {},
   "outputs": [],
   "source": [
    "#%%script False --no-raise-error\n",
    "#!python3 'get_snp500.py'\n"
   ]
  },
  {
   "cell_type": "code",
   "execution_count": null,
   "metadata": {},
   "outputs": [],
   "source": [
    "today=datetime.now().strftime(\"%m%d%y\")\n",
    "print(f\"Today: {today}\")\n",
    "ch='AAPL'\n",
    "tick=\"/home/thakur/test/snp500/{}.csv\".format(ch)\n",
    "df=pd.read_csv(tick)\n",
    "df.rename(columns={'Date':'date','Open':'open','High':'high','Low':'low','Close':'close','Volume':'volume'},inplace=True)\n",
    "df.tail(5)"
   ]
  },
  {
   "cell_type": "code",
   "execution_count": null,
   "metadata": {},
   "outputs": [],
   "source": [
    "# #sma=abstract.RSI(df)\n",
    "# #help(abstract.RSI)\n",
    "# atr=abstract.ATR(df.tail(20))\n",
    "# atr.tail(15)\n",
    "\n",
    "\n",
    "# #bband=abstract.BBANDS(df.tail(200))\n",
    "# sd=1;period=14\n",
    "# u,m,l=talib.BBANDS(df.close,timeperiod=period, nbdevup=sd, nbdevdn=sd)\n",
    "\n",
    "\n",
    "# #u=u[-1:];m=m[-1:];l=l[-1:];w=(u-l)/m\n",
    "# u=u.tail(1).values[0];m=m.tail(1).values[0];l=l.tail(1).values[0];w=(u-l)/m\n",
    "# print(f\"u: {u}\")\n",
    "# print(f\"m: {m}\")\n",
    "# print(f\"l: {l}\")\n",
    "# print(f\"w: {w}\")"
   ]
  },
  {
   "cell_type": "code",
   "execution_count": null,
   "metadata": {},
   "outputs": [],
   "source": [
    "#dataframe with snp company list and other information\n",
    "snp_df=pd.read_csv(\"/home/thakur/stock_information/snp500finalwvol.csv\")\n",
    "snp_df.head()\n"
   ]
  },
  {
   "cell_type": "code",
   "execution_count": null,
   "metadata": {},
   "outputs": [],
   "source": [
    "#read the dataframe and calculate the values\n",
    "csv_source=\"/home/thakur/test/snp500/\"\n",
    "st_list=snp_df['SYMBOL'].to_list()\n",
    "print(st_list[:5])"
   ]
  },
  {
   "cell_type": "code",
   "execution_count": null,
   "metadata": {},
   "outputs": [],
   "source": [
    "#check which dow jones ticker are in snp500\n",
    "%%script False --no-raise-error\n",
    "dow_list=pd.read_csv(\"/home/thakur/stock_information/dow.csv\")['Symbol'].to_list()\n",
    "dow_list\n",
    "for c,i in enumerate(dow_list):\n",
    "    if c%50==0:print(f\"{c+1}:\\n\")\n",
    "    if i in st_list:\n",
    "        print(f\"{i} in snp500\")\n",
    "    else:\n",
    "        print(\"ALERT=====>\")\n",
    "        print(f\"{i} not in snp500\")"
   ]
  },
  {
   "cell_type": "code",
   "execution_count": null,
   "metadata": {},
   "outputs": [],
   "source": [
    "def change_index(df):\n",
    "    \"\"\"Begins the index of df from 1\"\"\"\n",
    "    df.index=np.arange(1,len(df.index)+1)\n",
    "    return df\n",
    "\n",
    "#create yfinance portfolio sample\n",
    "def yahoo_portfolio(df,save_name):\n",
    "    \"\"\"\n",
    "    returns the yfinance compatable portfolio template for given df name of save file\n",
    "    \"\"\"\n",
    "    cols=['Symbol','Current Price','Date', 'Time', 'Change', 'Open', 'High', 'Low', 'Volume', 'Trade Date',\n",
    "          'Purchase Price','Quantity','Commission','High Limit','Low Limit','Comment']\n",
    "\n",
    "    sym=list(df.TICK)\n",
    "    dic_val=[sym]+14*[None] #14 None\n",
    "    my_dict=dict(zip(cols,dic_val)) #dictionary\n",
    "    my_df=pd.DataFrame.from_dict(my_dict)\n",
    "    my_df.to_csv(save_name+\".csv\")\n",
    "    print(f\"Created the yahoo template: {save_name}.csv from data frame !\")\n",
    "    \n",
    "def plot_with_mpl(tick,root,day=60,sty='yahoo',typ='candle',ax=None):\n",
    "    \"returns the candle stick of a stock tick for the given root file.\"\n",
    "    if ax is None:ax=plt.gca()\n",
    "    df=pd.read_csv(root+tick+\".csv\").tail(day)\n",
    "    df.Volume=df.Volume/10**5              #100k volume\n",
    "    df.Date=pd.to_datetime(df.Date)\n",
    "    df.set_index('Date',inplace=True)\n",
    "    fig,ax=mpf.plot(df,type=typ,mav=(5,21),volume=True,tight_layout=False,figratio=(24,12),figscale=1,\n",
    "                   returnfig=True,style=sty)\n",
    "    \n",
    "    ax[0].legend([\"5-SMA\",\"21-SMA\"],loc='upper center')\n",
    "    #axes[0].legend(loc='upper left')\n",
    "    ax[0].set_title(tick)\n",
    "    #return ax\n",
    "    #return fig\n",
    "    \n",
    "    mpf.show()\n",
    "\n",
    "    \n",
    "# def print_info(c,sector,industry,name,symbol,cp):\n",
    "#     print(f\"\\n\\n\\nCOUNT   : {c+1}\")\n",
    "#     print(f\"SECTOR  : {sector}\\nINDUSTRY: {industry}\\nNAME    : {name}\\nSYMBOL  : {symbol}\\nPRICE   : $ {cp}\\n\\n\")\n",
    "    \n",
    "def print_info(c,sector,industry,name,symbol,cp,cng,cg):\n",
    "    print(f\"\\n\\n\\nCOUNT   : {c+1}\")\n",
    "    print(f\"SECTOR  : {sector}\\nINDUSTRY: {industry}\\nNAME    : {name}\\nSYMBOL  : {symbol}\\nPRICE   : $ {cp}\\nCHNG%   : {cng}%\\nCHG     : {cg}\\n\\n\")\n",
    "    \n",
    "def style_negative(v, props=''):\n",
    "    return props if v < 0 else None\n",
    "\n",
    "k=1\n",
    "def get_info(stock,par):\n",
    "    \"\"\"\n",
    "    returns the par information regarding the stock\n",
    "    \"\"\"\n",
    "    global k\n",
    "    print(f\"{k}/504\");k+=1\n",
    "    ticker=yf.Ticker(stock)\n",
    "    print(f\"Working for {stock}\\n\")\n",
    "    return ticker.info[par]\n",
    "\n",
    "def plot_all(df):\n",
    "    for c,i in enumerate(df['TICKER'].tolist()):\n",
    "        sector=df.loc[c+1,\"SECTOR\"];industry=df.loc[c+1,\"SUBINDUSTRY\"];cp=df.loc[c+1,\"CP\"];name=df.loc[c+1,\"NAME\"]\n",
    "        cng=df.loc[c+1,\"CHG%\"];cg=df.loc[c+1,\"CHG\"]\n",
    "        print_info(c,sector,industry,name,i,cp,cng,cg)\n",
    "        time.sleep(1)\n",
    "        plot_with_mpl(i,csv_source,50,'default')\n",
    "        \n",
    "#drop some columns\n",
    "def drop_cols(df,cols=['HH','HL','HC','LH','LL','HV']):\n",
    "    rest=df.drop(cols,axis=1)\n",
    "    return rest\n",
    "\n",
    "#get change\n",
    "def get_change(cp,pct_change):\n",
    "    \"\"\"\n",
    "    returns the change in the price based on the final price and %change\n",
    "    \"\"\"\n",
    "    previous_price=(100*cp)/(100+pct_change)\n",
    "    return round(cp-previous_price,2)"
   ]
  },
  {
   "cell_type": "code",
   "execution_count": null,
   "metadata": {},
   "outputs": [],
   "source": [
    "#getting the function to plot all the plots as the subfigs\n",
    "import math\n",
    "def plot_all_subfig(df,root,typ='candle',sty='yahoo',day=60):\n",
    "    \"\"\"\n",
    "    returns all the plots in a single file\n",
    "    \"\"\"\n",
    "    rows=df.shape[0]\n",
    "    per_row=3;cols=math.ceil(rows/per_row)\n",
    "    fig,axs=plt.subplots(rows,cols)\n",
    "    c=0 #counter\n",
    "    all_ticks=df['TICKER'].tolist()\n",
    "    for i in range(rows):\n",
    "        \n",
    "        for j in range(cols):\n",
    "            tick=all_ticks[c]\n",
    "            #pass\n",
    "            #sector=df.loc[c+1,\"SECTOR\"];industry=df.loc[c+1,\"SUBINDUSTRY\"];cp=df.loc[c+1,\"CP\"];name=df.loc[c+1,\"NAME\"]\n",
    "            #cng=df.loc[c+1,\"CHG%\"];tick=all_ticks[c]\n",
    "            #print_info(c,sector,industry,name,all_ticks,cp,cng)\n",
    "            #axs[i,j].plot_with_mpl(all_ticks,csv_source,50,'default')\n",
    "            c+=1 #update counter\n",
    "            df=pd.read_csv(root+tick+\".csv\").tail(day)\n",
    "            df.Volume=df.Volume/10**5              #100k volume\n",
    "            df.Date=pd.to_datetime(df.Date)\n",
    "            df.set_index('Date',inplace=True)\n",
    "            fig,ax=mpf.plot(df,type=typ,mav=(5,21),volume=True,tight_layout=False,figratio=(24,12),figscale=1,\n",
    "                    returnfig=True,style=sty)\n",
    "            ax[0].legend([\"5-SMA\",\"21-SMA\"],loc='upper center')\n",
    "    #axes[0].legend(loc='upper left')\n",
    "            ax[0].set_title(tick)\n",
    "            return fig\n",
    "            #return mpf\n",
    "            #mpf.show()\n",
    "            #return ax\n",
    "    #return fig\n",
    "    \n",
    "    #mpf.show()\n",
    "\n",
    "            \n",
    "            \n",
    "    \n",
    "#     for c,i in enumerate(df['TICKER'].tolist()):\n",
    "#         sector=df.loc[c+1,\"SECTOR\"];industry=df.loc[c+1,\"SUBINDUSTRY\"];cp=df.loc[c+1,\"CP\"];name=df.loc[c+1,\"NAME\"]\n",
    "#         cng=df.loc[c+1,\"%CHG\"]\n",
    "#         print_info(c,sector,industry,name,i,cp,cng)\n",
    "#         plot_with_mpl(i,csv_source,50,'default')"
   ]
  },
  {
   "cell_type": "code",
   "execution_count": null,
   "metadata": {},
   "outputs": [],
   "source": [
    "# def plot_with_mpl(tick,root,day=60,sty='yahoo',typ='candle'):\n",
    "#     \"returns the candle stick of a stock tick for the given root file.\"\n",
    "\n",
    "#     df=pd.read_csv(root+tick+\".csv\").tail(day)\n",
    "#     df.Volume=df.Volume/10**5              #100k volume\n",
    "#     df.Date=pd.to_datetime(df.Date)\n",
    "#     df.set_index('Date',inplace=True)\n",
    "#     fig,axes=mpf.plot(df,type=typ,mav=(5,21),volume=True,tight_layout=False,figratio=(24,12),figscale=1,\n",
    "#                     returnfig=True,style=sty)\n",
    "#     axes[0].legend([\"5-SMA\",\"21-SMA\"],loc='upper center')\n",
    "#     #axes[0].legend(loc='upper left')\n",
    "#     axes[0].set_title(tick)\n",
    "#     mpf.show()"
   ]
  },
  {
   "cell_type": "code",
   "execution_count": null,
   "metadata": {},
   "outputs": [],
   "source": [
    "#Reading the files\n",
    "ticker_list=[]           #store ticker\n",
    "current_price=[]         #current price\n",
    "\n",
    "HH=[]                    #higher high\n",
    "HL=[]                    #higher low\n",
    "LH=[]                    #lower high\n",
    "LL=[]                    #lower low\n",
    "HC=[]                    #higher close\n",
    "HV=[]                    #higher volume\n",
    "rsi=[]                   #rsi list\n",
    "sma_5=[]                 #sma_5 list\n",
    "sma_10=[]                 #sma_10 list\n",
    "sma_21=[]                 #sma_21 list\n",
    "sma_50=[]                 #sma_50 list\n",
    "sma_200=[]                 #sma_200 list\n",
    "vol=[]                    #vol today\n",
    "avgvol=[]                 #avg volume\n",
    "pt_change=[]             #% change\n",
    "tr=[]                   #atr\n",
    "atr=[]                #average 10 day atr\n",
    "sec_list=[]             #sector\n",
    "ind_list=[]             #industry\n",
    "bwidth=[]               #bollinger bandwith\n",
    "d=3                     #days for hh etc.\n",
    "j=1                     #counter\n",
    "fil=\"s&p-500\"\n",
    "\n",
    "for f in st_list[:]:    #read these files\n",
    "    #if f not in ['AAPL']:continue\n",
    "    if(j-1)%50==0:print(f\"{j}/{len(st_list)} {fil} : {f}\\n\")\n",
    "    j+=1\n",
    "\n",
    "    #print(\"source dir\\t\",csv_source)\n",
    "    df=pd.read_csv(csv_source+f+\".csv\")\n",
    "    df.fillna(0,inplace=True)\n",
    "    \n",
    "    \n",
    "\n",
    "    #print the tail\n",
    "    #print(f\"Tail of {i}\\n {df.tail(1)}\")\n",
    "\n",
    "    #ticker\n",
    "    ticker_list.append(f)\n",
    "\n",
    "    #current price \n",
    "    cp=round(df.tail(1)['Close'].values[0],2)\n",
    "    #print(f\"Current Price: {cp}\")\n",
    "    current_price.append(cp)\n",
    "\n",
    "    #higher high\n",
    "    hh=df.tail(d)['High'].is_monotonic_increasing\n",
    "    #print(f\"HH: {hh}\\n\")\n",
    "    HH.append(hh)\n",
    "\n",
    "    ##higher low\n",
    "    hl=df.tail(d)['Low'].is_monotonic_increasing\n",
    "    #print(f\"HL: {hl}\\n\")\n",
    "    HL.append(hl)\n",
    "\n",
    "    #lower high\n",
    "    lh=df.tail(d)['High'].is_monotonic_decreasing\n",
    "    #print(f\"LH: {lh}\\n\")\n",
    "    LH.append(lh)\n",
    "\n",
    "    ##lower low\n",
    "    ll=df.tail(d)['Low'].is_monotonic_decreasing\n",
    "    #print(f\"LL: {ll}\\n\")\n",
    "    LL.append(ll)\n",
    "\n",
    "    #higher close\n",
    "    hc=df.tail(d)['Close'].is_monotonic_increasing\n",
    "    #print(f\"HC: {hc}\\n\")\n",
    "    HC.append(hc)\n",
    "\n",
    "    #rsi\n",
    "    rs=df.ta.rsi()[-1:].round(2).values[0]\n",
    "    #print(f\"rs\\t{rs}\")\n",
    "    rsi.append(rs)\n",
    "\n",
    "    #sma5\n",
    "    sma5=round(df.tail(5)['Close'].mean(),2)\n",
    "    #print(f\"sma5: {sma5}\")\n",
    "    sma_5.append(sma5)\n",
    "    \n",
    "    #sma10\n",
    "    sma10=round(df.tail(10)['Close'].mean(),2)\n",
    "    #print(f\"sma5: {sma5}\")\n",
    "    sma_10.append(sma10)\n",
    "\n",
    "    #sma21\n",
    "    sma21=round(df.tail(21)['Close'].mean(),2)\n",
    "    #print(f\"sma21: {sma21}\")\n",
    "    sma_21.append(sma21)\n",
    "\n",
    "    #sma50\n",
    "    sma50=round(df.tail(50)['Close'].mean(),2)\n",
    "    #print(f\"sma50: {sma50}\")\n",
    "    sma_50.append(sma50)\n",
    "\n",
    "    #sma200\n",
    "    sma200=round(df.tail(200)['Close'].mean(),2)\n",
    "    #print(f\"sma200: {sma200}\")\n",
    "    sma_200.append(sma200)\n",
    "\n",
    "    #last volume\n",
    "    v=(df.tail(1)['Volume'].values[0])/10**6\n",
    "    v=round(v,2)\n",
    "    vol.append(v)\n",
    "    #print(f\"today's volume {v} thousands\")\n",
    "    \n",
    "    #higher volume\n",
    "    hv=df.tail(d)['Volume'].is_monotonic_increasing\n",
    "    #print(f\"HC: {hc}\\n\")\n",
    "    HV.append(hv)\n",
    "\n",
    "    #last volume\n",
    "    av=(df.tail(6).head(5)['Volume'].mean())/10**6  #avg volume for past5 days excluding today\n",
    "    av=round(av,2)\n",
    "    avgvol.append(av)\n",
    "    #print(f\"today's volume {av} thousands\")\n",
    "\n",
    "    #pct change\n",
    "    pct=round((df.tail(2)['Close'].pct_change().values[1])*100,2)\n",
    "    #print(f\"%Change:\\n {pct}\")\n",
    "    #pct=2\n",
    "    pt_change.append(pct)\n",
    "    #pct_change.append(pct)\n",
    "    #print(f\"%Change: {pct}\")\n",
    "\n",
    "    #atr value\n",
    "    #df_20=df.tail(24) #for 10 day avg atr\n",
    "    #changing the parameters for using abstract library\n",
    "    df.rename(columns={'Date':'date','Open':'open','High':'high','Low':'low','Close':'close','Volume':'volume'},inplace=True)\n",
    "    atrr=abstract.ATR(df.tail(20))\n",
    "    avgatr=atrr.tail(2).head(1).mean().round(2)\n",
    "    #at=round(ta.atr(df_20['High'],df_20['Low'],df_20['Close']).values[-1],2)\n",
    "    tran=abstract.TRANGE(df.tail(2)).mean().round(2)\n",
    "    #print(f\"atr: {at}\")\n",
    "    tr.append(tran)\n",
    "    atr.append(avgatr)\n",
    "    \n",
    "    #getting the width of bband\n",
    "    sd=1;period=14\n",
    "    u,m,l=talib.BBANDS(df.close,timeperiod=period, nbdevup=sd, nbdevdn=sd)\n",
    "    u=u.tail(1).values[0];m=m.tail(1).values[0];l=l.tail(1).values[0];w=round((u-l)/m,2)\n",
    "    # print(f\"u: {u}\");print(f\"m: {m}\");print(f\"l: {l}\")\n",
    "    # print(f\"w: {w}\")\n",
    "    bwidth.append(w)\n",
    "        \n",
    "        \n",
    "        \n",
    "        \n",
    "#create the data-frame\n",
    "temp_df=pd.DataFrame({\"TICKER\":ticker_list,\n",
    "                          \"CP\":current_price,\n",
    "                          \"HH\":HH,\n",
    "                          \"HL\":HL,\n",
    "                          \"LH\":LH,\n",
    "                          \"LL\":LL,\n",
    "                          \"HC\":HC,\n",
    "                          \"HV\":HV,\n",
    "                          \"RSI\":rsi,\n",
    "                          \"SMA5\":sma_5,\n",
    "                          \"SMA10\":sma_10,\n",
    "                          \"SMA21\":sma_21,\n",
    "                          \"SMA50\":sma_50,\n",
    "                          \"SMA200\":sma_200,\n",
    "                          \"VOL\":vol,\n",
    "                          \"AVGVOL5\":avgvol,\n",
    "                          \"CHG%\":pt_change,\n",
    "                          \"ATR14\":atr,\n",
    "                          \"TR\":tr,\n",
    "                          \"W\":bwidth\n",
    "                         })"
   ]
  },
  {
   "cell_type": "code",
   "execution_count": null,
   "metadata": {},
   "outputs": [],
   "source": [
    "test=temp_df.head()\n",
    "test\n",
    "plot_all_subfig(test,root=\"/home/thakur/test/snp500/\")"
   ]
  },
  {
   "cell_type": "code",
   "execution_count": null,
   "metadata": {},
   "outputs": [],
   "source": [
    "snp_df.head()"
   ]
  },
  {
   "cell_type": "code",
   "execution_count": null,
   "metadata": {},
   "outputs": [],
   "source": [
    "# #store float volume in the list\n",
    "# for c, i in enumerate(obj_list[:]):\n",
    "#     print(f\"{c+1}/{len(snp_list)}: {i}\\n\")\n",
    "#     try:\n",
    "#         float_volume=i.info[\"floatShares\"]\n",
    "#     except:\n",
    "#         float_volume=0\n",
    "    \n",
    "#     print(f\"Float shares:{float_volume}\\n\")\n",
    "#     float_shares.append(float_volume)\n",
    "    \n",
    "    \n",
    "\n",
    "#test.to_csv(\"snpwithvolume.csv\",index=False)\n",
    "# for c,i in enumerate(snp_list):\n",
    "#     print(f\"{c}: {i} => {float_shares[c\n",
    "#len(float_shares)\n",
    "\n",
    "#store float volume in the list\n",
    "# for c, i in enumerate(left):\n",
    "#     print(f\"{c+1}/{len(left)}: {i}\\n\")\n",
    "#     try:\n",
    "#         float_volume=i.info[\"floatShares\"]\n",
    "#     except:\n",
    "#         float_volume=0\n",
    "    \n",
    "#     print(f\"Float shares:{float_volume}\\n\")\n",
    "#     #float_shares.append(float_volume)\n",
    "    \n",
    "# f=['HII']\n",
    "# for ticker in f:\n",
    "#     tick = yf.Ticker(ticker)\n",
    "    \n",
    "#     print(f\"float Volume of {ticker}: {tick.info['floatShares']}\")\n",
    "    "
   ]
  },
  {
   "cell_type": "markdown",
   "metadata": {},
   "source": [
    "# JOINING TWO DATAFRAMES"
   ]
  },
  {
   "cell_type": "code",
   "execution_count": null,
   "metadata": {},
   "outputs": [],
   "source": [
    "#combining the temp_df and snp_dfM\n",
    "final=pd.concat([temp_df,snp_df],axis=1,join='inner',ignore_index=False)\n",
    "\n",
    "final=final.drop([\"SYMBOL\"],axis=1)\n",
    "final=final.sort_values(by=['CP'])\n",
    "final=change_index(final)\n",
    "print(f\"Total length: {len(final.index)}\\n\")\n",
    "final.head()"
   ]
  },
  {
   "cell_type": "markdown",
   "metadata": {},
   "source": [
    "# Adding TURNOVER column with w.r.t. today's volume and total float"
   ]
  },
  {
   "cell_type": "code",
   "execution_count": null,
   "metadata": {},
   "outputs": [],
   "source": [
    "final[\"TURN\"]=round(final[\"VOL\"]/final[\"FLOAT\"]*100,2)\n",
    "#new order\n",
    "co=final.columns.to_list();c=co[:20]+co[23:]+co[20:23]\n",
    "final=final[c]\n",
    "final['CHG']=final.apply(lambda x: get_change(x['CP'],x['CHG%']),axis=1)\n",
    "final.head()\n",
    "#final_turn=final_turn.sort_values(by=[\"TURN\"],inplace=True)\n",
    "#final_turn.head(20)"
   ]
  },
  {
   "cell_type": "markdown",
   "metadata": {},
   "source": [
    "# TURNING"
   ]
  },
  {
   "cell_type": "code",
   "execution_count": null,
   "metadata": {},
   "outputs": [],
   "source": [
    "final_turn=final.sort_values(by=[\"TURN\"],ascending=False)\n",
    "final_turn=drop_cols(final_turn)\n",
    "final_turn=change_index(final_turn)\n",
    "final_turn.head(20)\n"
   ]
  },
  {
   "cell_type": "code",
   "execution_count": null,
   "metadata": {},
   "outputs": [],
   "source": [
    "# test_df=final_turn.head(10)\n",
    "# #test_df['CHG%']\n",
    "# #test_df['chg']=test_df.apply(lambda x: get_change(x['CP'],x['%CHG']),axis=1)\n",
    "# test_df['CHG']=test_df.apply(lambda x: get_change(x['CP'],x['CHG%']),axis=1)\n",
    "# test_df\n"
   ]
  },
  {
   "cell_type": "markdown",
   "metadata": {},
   "source": [
    "# LOW FLOATS SNP 500"
   ]
  },
  {
   "cell_type": "code",
   "execution_count": null,
   "metadata": {},
   "outputs": [],
   "source": [
    "low_float=final.sort_values(by=[\"FLOAT\"])\n",
    "low_float.head(10)"
   ]
  },
  {
   "cell_type": "markdown",
   "metadata": {},
   "source": [
    "# HIGHEST +VE CHANGE"
   ]
  },
  {
   "cell_type": "code",
   "execution_count": null,
   "metadata": {},
   "outputs": [],
   "source": [
    "high_change=final.sort_values(by=['CHG%'],ascending=False)\n",
    "high_change=change_index(high_change)\n",
    "high_change.head(20)"
   ]
  },
  {
   "cell_type": "markdown",
   "metadata": {},
   "source": [
    "# HIGHEST -VE CHANGE"
   ]
  },
  {
   "cell_type": "code",
   "execution_count": null,
   "metadata": {},
   "outputs": [],
   "source": [
    "\n",
    "high_change[::-1].head(5)"
   ]
  },
  {
   "cell_type": "markdown",
   "metadata": {},
   "source": [
    "# ATR14 % w.r.t. CP"
   ]
  },
  {
   "cell_type": "code",
   "execution_count": null,
   "metadata": {},
   "outputs": [],
   "source": [
    "df_atr=final\n",
    "df_atr['%']=round(100*df_atr['ATR14']/df_atr['CP'],2)\n",
    "df_atr=df_atr.sort_values(by=['%'],ascending=False)\n",
    "df_atr=drop_cols(df_atr)\n",
    "\n",
    "df_atr=change_index(df_atr)\n",
    "\n",
    "df_atr.head(20)"
   ]
  },
  {
   "cell_type": "markdown",
   "metadata": {},
   "source": [
    "# HIGHEST VOLUME"
   ]
  },
  {
   "cell_type": "code",
   "execution_count": null,
   "metadata": {},
   "outputs": [],
   "source": [
    "vol_highest=final.sort_values(by=['VOL'],ascending=False)\n",
    "vol_highest=change_index(vol_highest)\n",
    "vol_highest.head(20)"
   ]
  },
  {
   "cell_type": "markdown",
   "metadata": {},
   "source": [
    "# 14D  ATR"
   ]
  },
  {
   "cell_type": "code",
   "execution_count": null,
   "metadata": {},
   "outputs": [],
   "source": [
    "#see the changes in the prices for a given stock\n",
    "#ch='TSLA'\n",
    "import seaborn as sns\n",
    "sns.set_theme()\n",
    "%matplotlib qt\n",
    "atr_list=df_atr.head(20)['TICKER'].to_list()\n",
    "for c,ch in enumerate(atr_list[:10]):\n",
    "    tick=\"/home/thakur/test/snp500/{}.csv\".format(ch)\n",
    "    df=pd.read_csv(tick).tail(10)\n",
    "    df.rename(columns={'Date':'date','Open':'open','High':'high','Low':'low','Close':'close','Volume':'volume'},inplace=True)\n",
    "\n",
    "    #df.date=pd.to_datetime(df['date']);\n",
    "\n",
    "    df.set_index(keys=df.date)\n",
    "    df=df.set_index(df.date)\n",
    "    df.volume=round(df.volume/10**6,2) #volume in millions\n",
    "    df['h-l']=df['high']-df['low'];df['h-o']=df['high']-df['open'];df['h-c']=df.high-df.close\n",
    "    df.drop(columns=['date'],inplace=True)\n",
    "    df\n",
    "    %matplotlib inline\n",
    "    fig, axes = plt.subplots(nrows=2, ncols=2)\n",
    "\n",
    "    df['volume'].plot.bar(ax=axes[0,0],figsize=(10,6),color='grey'); \n",
    "    axes[0,0].set_title('volume vs time');\n",
    "    axes[0,0].set_ylabel('volume (million)')\n",
    "    axes[0,0].axhline(y=df['volume'].mean(),color='red',linestyle=\"--\")\n",
    "\n",
    "    df['h-l'].plot.bar(ax=axes[0,1]); axes[0,1].set_title('h-l');axes[0,1].set_ylabel('high-low')\n",
    "    axes[0,1].axhline(y=df['h-l'].mean(),color='blue',linestyle=\"--\")\n",
    "\n",
    "    df['h-o'].plot.bar(ax=axes[1,0]); axes[1,0].set_title('h-o');axes[1,0].set_ylabel('high-open')\n",
    "    axes[1,0].axhline(y=df['h-o'].mean(),color='pink',linestyle=\"--\")\n",
    "    df['h-c'].plot.bar(ax=axes[1,1],color='k'); axes[1,1].set_title('h-c');axes[1,0].set_ylabel('high-close')\n",
    "    axes[1,1].axhline(y=df['h-c'].mean(),color='green',linestyle=\"--\")\n",
    "    fig.tight_layout()\n",
    "\n",
    "    fig.suptitle(str(c+1)+\": \"+ch+\" (\"+df_atr.loc[c+1,\"NAME\"]+\"-\"+df_atr.loc[c+1,\"SECTOR\"]+\")\", fontsize=10,color='red')\n",
    "    plt.show() #this shows all the plots in the loop"
   ]
  },
  {
   "cell_type": "markdown",
   "metadata": {
    "tags": []
   },
   "source": [
    "# - *VOL > AVGVOL5*\n",
    "# - *%CHG > 0*\n",
    "# - *CP > SMA5*\n",
    "# - *SMA5> SMA10*\n"
   ]
  },
  {
   "cell_type": "code",
   "execution_count": null,
   "metadata": {},
   "outputs": [],
   "source": [
    "hh=final[final['HH']==True];\n",
    "hl=final[final['HL']==True];\n",
    "# hc=final[final['HC']==True];\n",
    "# hv=final[final['HV']==True]\n",
    "df_chg=final[(final['VOL']>final['AVGVOL5']) & (final['CHG%']>0) & (final['CP']>final['SMA5'])&(final['SMA5']>final['SMA10'])\n",
    "             & (final['HH']==True) & (final['HL']==True)]\n",
    "df_chg.sort_values(by=['CP'])\n",
    "df_chg=change_index(df_chg)\n",
    "print(f\"Total Length: {len(df_chg.index)}\")\n",
    "df_chg.head(20)"
   ]
  },
  {
   "cell_type": "code",
   "execution_count": null,
   "metadata": {},
   "outputs": [],
   "source": [
    "# df_chg=df_chg.head(10)\n",
    "# plot_all(df_chg)\n",
    "# df_chg=df_chg.head(10)\n",
    "# plot_all_subfig(df_chg)"
   ]
  },
  {
   "cell_type": "markdown",
   "metadata": {},
   "source": [
    "# - PRICE ABOVE SMA50 and SMA200\n",
    "# - SMA50>SMA200"
   ]
  },
  {
   "cell_type": "code",
   "execution_count": null,
   "metadata": {},
   "outputs": [],
   "source": [
    "f1=final['CP']>final['SMA50']\n",
    "f2=final['CP']>final['SMA200']\n",
    "f3=final['SMA50']>final['SMA200']\n",
    "df_above=final[f1 & f2 &f3]\n",
    "df_above=change_index(df_above)\n",
    "print(f\"Total: {len(df_above.index)}\")\n",
    "#df_above=df_above.sort_values(by=['CP'])\n",
    "df_above.head(5)"
   ]
  },
  {
   "cell_type": "markdown",
   "metadata": {},
   "source": [
    "# Sort by 5 Day Average Volume"
   ]
  },
  {
   "cell_type": "code",
   "execution_count": null,
   "metadata": {},
   "outputs": [],
   "source": [
    "df_vol=final.sort_values(by=['AVGVOL5'],ascending=False)\n",
    "df_vol=df_vol[df_vol['CHG%']>0]\n",
    "df_vol=change_index(df_vol)\n",
    "print(f\"Total Length: {len(df_vol.index)}\")\n",
    "df_vol=df_vol.head(10)\n",
    "df_vol"
   ]
  },
  {
   "cell_type": "code",
   "execution_count": null,
   "metadata": {},
   "outputs": [],
   "source": [
    "#plot_all(df_vol)"
   ]
  },
  {
   "cell_type": "code",
   "execution_count": null,
   "metadata": {},
   "outputs": [],
   "source": [
    "# df_atr_s = df_atr['%CHG'].style.applymap(style_negative, props='color:red;')\\\n",
    "#               .applymap(lambda v: 'opacity: 20%;' if (v < 0.3) and (v > -0.3) else None)\n",
    "# df_atr_s\n",
    "# df_atr.head(20).style.set_properties(**{'background-color': 'black',\n",
    "#                            'color': 'lawngreen',\n",
    "#                            'border-color': 'white'})"
   ]
  },
  {
   "cell_type": "markdown",
   "metadata": {},
   "source": [
    "# Conditions\n",
    "1. HH\n",
    "2. HL\n",
    "3. HC\n",
    "4. CP>SMA50\n",
    "5. SMA50>SMA200\n",
    "5. RSI>40\n",
    "6. VOL>AVGVOL5"
   ]
  },
  {
   "cell_type": "code",
   "execution_count": null,
   "metadata": {},
   "outputs": [],
   "source": [
    "#df_hl=final[(final['HH']==True) & (final['HL']==True) &(final['HC']==True)]\n",
    "df_hl=final[(final['HH']==True) & (final['HL']==True)  & (final['CP']>final['SMA50']) & \n",
    "            (final['CP']>final['SMA200'])& (final['RSI']>40) & \n",
    "            (final['HC']==True) & \n",
    "            (final['VOL']>final['AVGVOL5']) & (final['SMA50']>final['SMA200'])]# & (final['CP']>final['SMA200'])]\n",
    "#df_hl=final[(final['CP']>final['SMA50']) & (final['CP']>final['SMA200'])]\n",
    "#df_hl[\"SMA50-CP\"]=df_hl[\"SMA50\"]-df_hl[\"CP\"]\n",
    "df_hl.loc[:,\"SMA50-CP\"]=df_hl.loc[:,\"SMA50\"]-df_hl.loc[:,\"CP\"]\n",
    "df_hl=df_hl.sort_values(by=[\"SMA50-CP\"],ascending=False)\n",
    "df_hl=change_index(df_hl)\n",
    "print(f\"Total: {len(df_hl.index)}\")\n",
    "df_hl.head(20)\n"
   ]
  },
  {
   "cell_type": "code",
   "execution_count": null,
   "metadata": {},
   "outputs": [],
   "source": [
    "saving=df_hl['TICKER']\n",
    "saving.to_csv('watch'+today+\".csv\",index=False)"
   ]
  },
  {
   "cell_type": "code",
   "execution_count": null,
   "metadata": {},
   "outputs": [],
   "source": [
    "#file='watch'+today+'.csv'\n",
    "\n",
    "#print(f\"Today {file}\")\n",
    "#!cat file\n",
    "!cat 'watch082022.csv'"
   ]
  },
  {
   "cell_type": "code",
   "execution_count": null,
   "metadata": {},
   "outputs": [],
   "source": [
    "#plot_all(df_hl)"
   ]
  },
  {
   "cell_type": "markdown",
   "metadata": {},
   "source": [
    "# Conditions\n",
    "1. HH\n",
    "2. HL\n",
    "3. HC\n",
    "4. CP>SMA50\n",
    "5. RSI>40\n",
    "6. VOL>AVGVOL5"
   ]
  },
  {
   "cell_type": "code",
   "execution_count": null,
   "metadata": {},
   "outputs": [],
   "source": [
    "#df_hl=final[(final['HH']==True) & (final['HL']==True) &(final['HC']==True)]\n",
    "df_hl=final[(final['HH']==True) & (final['HL']==True)  & (final['CP']>final['SMA50']) \n",
    "           # & (final['RSI']>40) \n",
    "            & (final['HC']==True) & (final['VOL']>final['AVGVOL5'])]# & (final['CP']>final['SMA200'])]\n",
    "#df_hl=final[(final['CP']>final['SMA50']) & (final['CP']>final['SMA200'])]\n",
    "#df_hl[\"SMA50-CP\"]=df_hl[\"SMA50\"]-df_hl[\"CP\"]\n",
    "df_hl.loc[:,\"SMA50-CP\"]=df_hl.loc[:,\"SMA50\"]-df_hl.loc[:,\"CP\"]\n",
    "#df_hl=df_hl.sort_values(by=[\"SMA50-CP\"],ascending=False)\n",
    "df_hl=df_hl.sort_values(by=[\"CP\"],ascending=True)\n",
    "df_hl=change_index(df_hl)\n",
    "print(f\"Total: {len(df_hl.index)}\")\n",
    "df_hl.head(25)"
   ]
  },
  {
   "cell_type": "code",
   "execution_count": null,
   "metadata": {},
   "outputs": [],
   "source": [
    "df_hl=df_hl.head()\n",
    "df_hl\n",
    "#plot_all(df_hl)"
   ]
  },
  {
   "cell_type": "markdown",
   "metadata": {},
   "source": [
    "# ABOVE SMA50 AND SMA200"
   ]
  },
  {
   "cell_type": "code",
   "execution_count": null,
   "metadata": {},
   "outputs": [],
   "source": [
    "p1=final['CP']>final['SMA50'];p2=final['CP']>final['SMA200'];\n",
    "df_above=final[p1 & p2];df_above.sort_values(by=['CP']);df_above=change_index(df_above);print(f\"Total Length: {len(df_above.index)}\")\n",
    "df_above.head()"
   ]
  },
  {
   "cell_type": "code",
   "execution_count": null,
   "metadata": {},
   "outputs": [],
   "source": [
    "#plot_all(df_above)"
   ]
  },
  {
   "cell_type": "code",
   "execution_count": null,
   "metadata": {},
   "outputs": [],
   "source": [
    "# #df_hl=final[(final['HH']==True) & (final['HL']==True) &(final['HC']==True)]\n",
    "# df_hl=final[(final['HH']==True) & (final['HL']==True) & (final['HC']==True) & (final['CP']>final['SMA5']) & (final['RSI']>50)]\n",
    "# #df_hl=final[(final['CP']>final['SMA50']) & (final['CP']>final['SMA200'])]\n",
    "# df_hl=change_index(df_hl)\n",
    "# df_hl"
   ]
  },
  {
   "cell_type": "code",
   "execution_count": null,
   "metadata": {},
   "outputs": [],
   "source": [
    "# for c,i in enumerate(df_hl['TICKER'].tolist()):\n",
    "#     sector=df_hl.loc[c+1,\"SECTOR\"];industry=df_hl.loc[c+1,\"SUBINDUSTRY\"];cp=df_hl.loc[c+1,\"CP\"];name=df_hl.loc[c+1,\"NAME\"]\n",
    "\n",
    "#     print_info(c,sector,industry,name,i,cp)\n",
    "#     plot_with_mpl(i,csv_source,50,'default')"
   ]
  },
  {
   "cell_type": "markdown",
   "metadata": {},
   "source": [
    "# LH, LL, LC"
   ]
  },
  {
   "cell_type": "code",
   "execution_count": null,
   "metadata": {},
   "outputs": [],
   "source": [
    "#df_hl=final[(final['HH']==True) & (final['HL']==True) &(final['HC']==True)]\n",
    "df_ll=final[(final['LH']==True) & (final['LL']==True)  & (final['CP']<final['SMA200'])&(final['CP']<final['SMA50']) &(final['CP']<final['SMA5']) &(final['RSI']<40)]\n",
    "#df_hl=final[(final['CP']>final['SMA50']) & (final['CP']>final['SMA200'])]\n",
    "df_ll=change_index(df_ll)\n",
    "df_ll"
   ]
  },
  {
   "cell_type": "code",
   "execution_count": null,
   "metadata": {},
   "outputs": [],
   "source": [
    "%%script false --no-raise-error\n",
    "for c,i in enumerate(df_ll['TICKER'].tolist()):\n",
    "    sector=df_ll.loc[c+1,\"SECTOR\"];industry=df_ll.loc[c+1,\"SUBINDUSTRY\"];cp=df_ll.loc[c+1,\"CP\"];name=df_ll.loc[c+1,\"NAME\"]\n",
    "\n",
    "    print_info(c,sector,industry,name,i,cp)\n",
    "    plot_with_mpl(i,csv_source,50,'default')"
   ]
  },
  {
   "cell_type": "code",
   "execution_count": null,
   "metadata": {},
   "outputs": [],
   "source": [
    "%%script false --no-raise-error\n",
    "rsi_30=final[final['RSI']<30]\n",
    "rsi_30"
   ]
  },
  {
   "cell_type": "code",
   "execution_count": null,
   "metadata": {},
   "outputs": [],
   "source": [
    "%lsmagic\n"
   ]
  },
  {
   "cell_type": "code",
   "execution_count": null,
   "metadata": {},
   "outputs": [],
   "source": []
  },
  {
   "cell_type": "code",
   "execution_count": null,
   "metadata": {},
   "outputs": [],
   "source": []
  }
 ],
 "metadata": {
  "kernelspec": {
   "display_name": "Python 3 (ipykernel)",
   "language": "python",
   "name": "python3"
  },
  "language_info": {
   "codemirror_mode": {
    "name": "ipython",
    "version": 3
   },
   "file_extension": ".py",
   "mimetype": "text/x-python",
   "name": "python",
   "nbconvert_exporter": "python",
   "pygments_lexer": "ipython3",
   "version": "3.10.6"
  }
 },
 "nbformat": 4,
 "nbformat_minor": 4
}
