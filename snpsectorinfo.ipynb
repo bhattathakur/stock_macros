{
 "cells": [
  {
   "cell_type": "code",
   "execution_count": null,
   "id": "b0011dec-9975-49a5-b89f-51caba73906c",
   "metadata": {},
   "outputs": [],
   "source": [
    "import pandas as pd\n",
    "import numpy as np\n",
    "pd.set_option(\"display.max_rows\", None, \"display.max_columns\", None)"
   ]
  },
  {
   "cell_type": "code",
   "execution_count": null,
   "id": "a3c9c5c8-0a91-4e18-9320-f6f006b10bd2",
   "metadata": {},
   "outputs": [],
   "source": [
    "def change_index(df):\n",
    "    \"\"\"Begins the index of df from 1\"\"\"\n",
    "    df.index=np.arange(1,len(df.index)+1)\n",
    "    return df\n",
    "\n",
    "#create yfinance portfolio sample\n",
    "def yahoo_portfolio(df,save_name):\n",
    "    \"\"\"\n",
    "    returns the yfinance compatable portfolio template for given df name of save file\n",
    "    \"\"\"\n",
    "    cols=['Symbol','Current Price','Date', 'Time', 'Change', 'Open', 'High', 'Low', 'Volume', 'Trade Date',\n",
    "          'Purchase Price','Quantity','Commission','High Limit','Low Limit','Comment']\n",
    "\n",
    "    sym=list(df.Symbol)\n",
    "    dic_val=[sym]+14*[None] #14 None\n",
    "    my_dict=dict(zip(cols,dic_val)) #dictionary\n",
    "    my_df=pd.DataFrame.from_dict(my_dict)\n",
    "    my_df.to_csv(save_name+\".csv\")\n",
    "    print(f\"Created the yahoo template: {save_name}.csv from data frame !\")"
   ]
  },
  {
   "cell_type": "code",
   "execution_count": null,
   "id": "1097e4a6-2266-427a-9ce8-2f69c421fbff",
   "metadata": {},
   "outputs": [],
   "source": [
    "web_table=pd.read_html(\"https://en.wikipedia.org/wiki/List_of_S%26P_500_companies\")\n",
    "snp_all=web_table[0]"
   ]
  },
  {
   "cell_type": "code",
   "execution_count": null,
   "id": "d7ff9838-76bc-46a4-8119-cef6679c75aa",
   "metadata": {},
   "outputs": [],
   "source": [
    "snp_all.head()"
   ]
  },
  {
   "cell_type": "code",
   "execution_count": null,
   "id": "276ef712-c1a8-4cdb-a73e-2808edac9532",
   "metadata": {},
   "outputs": [],
   "source": [
    "groups=snp_all.groupby(\"GICS Sector\")"
   ]
  },
  {
   "cell_type": "code",
   "execution_count": null,
   "id": "f127481d-1377-4353-b3b4-454a3741908c",
   "metadata": {},
   "outputs": [],
   "source": [
    "sub_sectors=list(snp_all['GICS Sub-Industry'].unique())\n",
    "                 \n",
    "for c,i in enumerate(sorted(sub_sectors)):\n",
    "    print(f\"{c+1}    {i}\")"
   ]
  },
  {
   "cell_type": "code",
   "execution_count": null,
   "id": "00058cfc-075b-4d46-a5ca-9d65bd405daa",
   "metadata": {},
   "outputs": [],
   "source": [
    "snp_all.iloc[:,4].unique()"
   ]
  },
  {
   "cell_type": "code",
   "execution_count": null,
   "id": "6bcc3c1b-6fe8-4c8f-9941-ddbf1c0e43b7",
   "metadata": {},
   "outputs": [],
   "source": [
    "fil1='Semiconductors'\n",
    "fil2='Semiconductor Equipment' \n",
    "semi=snp_all[(snp_all['GICS Sub-Industry']==fil2) |(snp_all['GICS Sub-Industry']==fil1) ]\n",
    "semi=change_index(semi)\n",
    "semi"
   ]
  },
  {
   "cell_type": "code",
   "execution_count": null,
   "id": "ecdd0500-132b-4f56-afaa-4cfaec8d9f18",
   "metadata": {},
   "outputs": [],
   "source": [
    "sectors=list(snp_all['GICS Sector'].unique())"
   ]
  },
  {
   "cell_type": "code",
   "execution_count": null,
   "id": "07ccedfe-c181-4048-9fd7-10901008f423",
   "metadata": {},
   "outputs": [],
   "source": [
    "sectors=sorted(sectors)\n",
    "sectors"
   ]
  },
  {
   "cell_type": "code",
   "execution_count": null,
   "id": "d69ff855-e3a1-49c0-bc88-ece84370a648",
   "metadata": {},
   "outputs": [],
   "source": [
    "df_names=[i.replace(\" \",\"_\") for i in sectors]\n",
    "df_names"
   ]
  },
  {
   "cell_type": "code",
   "execution_count": null,
   "id": "185fbbb0-c681-43af-ba9d-feaf1e9ed479",
   "metadata": {},
   "outputs": [],
   "source": [
    "for c,i in enumerate(sectors):\n",
    "    df=(snp_all[snp_all[\"GICS Sector\"]==i])\n",
    "    df.to_csv(\"/home/thakur/test/temp/\"+df_names[c]+\".csv\",index=False)"
   ]
  },
  {
   "cell_type": "code",
   "execution_count": null,
   "id": "3736b9fc-70f0-4bfe-b35e-4051a33efa3e",
   "metadata": {},
   "outputs": [],
   "source": [
    "def get_sector_df(sector):\n",
    "    f=\"/home/thakur/test/temp/{}.csv\".format(sector)\n",
    "    df=pd.read_csv(f)\n",
    "    df=df.sort_values(\"Symbol\")\n",
    "    df=change_index(df)\n",
    "    return df\n",
    "    \n",
    "    "
   ]
  },
  {
   "cell_type": "code",
   "execution_count": null,
   "id": "b2e2a2ec-db77-4766-9dc4-43bb0d5dc39e",
   "metadata": {},
   "outputs": [],
   "source": [
    "type(df_names[3])"
   ]
  },
  {
   "cell_type": "code",
   "execution_count": null,
   "id": "f5672d7b-5406-44cf-a0e8-0ba267d22933",
   "metadata": {},
   "outputs": [],
   "source": [
    "dfs=[]\n",
    "for i,c in enumerate(df_names):\n",
    "    print(f\"{i+1}: Sector: {c}\\n\")\n",
    "    df=get_sector_df(c)\n",
    "    dfs.append(df)\n",
    "    #print(i)\n",
    "    \n"
   ]
  },
  {
   "cell_type": "code",
   "execution_count": null,
   "id": "d899bf99-2972-4438-a1d5-5439e41d5d18",
   "metadata": {},
   "outputs": [],
   "source": [
    "dfs[4]"
   ]
  },
  {
   "cell_type": "code",
   "execution_count": null,
   "id": "39e829fb-1a53-45dd-95bd-1d1a01db9a72",
   "metadata": {},
   "outputs": [],
   "source": [
    "# root=\"/home/thakur/test/temp/\"\n",
    "# for i in range(11):\n",
    "#     #df=dfs[i]\n",
    "#     sa=root+df_names[i]\n",
    "#     print(f\"{i+1} root: {sa}\")\n",
    "#     yahoo_portfolio(dfs[i],sa)"
   ]
  },
  {
   "cell_type": "code",
   "execution_count": null,
   "id": "90979883-26c4-48d0-b311-bae715a9704d",
   "metadata": {},
   "outputs": [],
   "source": [
    "dfs[1]"
   ]
  },
  {
   "cell_type": "markdown",
   "id": "c8d2e5ce-a5f7-4f60-b67a-0919fa2b08b3",
   "metadata": {},
   "source": [
    "# Communication Services"
   ]
  },
  {
   "cell_type": "code",
   "execution_count": null,
   "id": "630c8422-43bb-43bb-9191-c3473534d5ff",
   "metadata": {},
   "outputs": [],
   "source": [
    "# communication_services=get_sector_df(sectors[0])\n",
    "# communication_services"
   ]
  },
  {
   "cell_type": "code",
   "execution_count": null,
   "id": "9bf87a37-e170-4463-9d29-34c6a8d0bb2a",
   "metadata": {},
   "outputs": [],
   "source": []
  },
  {
   "cell_type": "code",
   "execution_count": null,
   "id": "790bd48e-5145-497b-8cbf-502f49bf9158",
   "metadata": {},
   "outputs": [],
   "source": [
    "#industrials\n",
    "df_ind=pd.read_csv(\"/home/thakur/test/temp/Industrials.csv\")\n",
    "#df_ind[\"Symbol\"].apply(lambda x: x.strip())\n",
    "df_ind=df_ind.sort_values(\"Symbol\")\n",
    "df_ind=change_index(df_ind)\n",
    "df_ind"
   ]
  },
  {
   "cell_type": "code",
   "execution_count": null,
   "id": "97d85b68-7d82-4bee-8472-0098a6ccec16",
   "metadata": {},
   "outputs": [],
   "source": [
    "ind=get_sector_df(sectors[0])\n",
    "ind"
   ]
  },
  {
   "cell_type": "code",
   "execution_count": null,
   "id": "bccff344-1160-43d3-97b0-eaae3ef893fa",
   "metadata": {},
   "outputs": [],
   "source": [
    "#industrials\n",
    "df=pd.read_csv(\"/home/thakur/test/temp/Health Care.csv\")\n",
    "#df_ind[\"Symbol\"].apply(lambda x: x.strip())\n",
    "df=df.sort_values(\"Symbol\")\n",
    "df=change_index(df)\n",
    "df"
   ]
  },
  {
   "cell_type": "code",
   "execution_count": null,
   "id": "5ce5e326-81d6-42e7-a853-f67c4cd0d6c9",
   "metadata": {},
   "outputs": [],
   "source": [
    "#industrials\n",
    "df=pd.read_csv(\"/home/thakur/test/temp/Health Care.csv\")\n",
    "#df_ind[\"Symbol\"].apply(lambda x: x.strip())\n",
    "df=df.sort_values(\"Symbol\")\n",
    "df=change_index(df)\n",
    "df"
   ]
  },
  {
   "cell_type": "code",
   "execution_count": null,
   "id": "d52f8560-c73c-4869-94e1-2571dae51ed4",
   "metadata": {},
   "outputs": [],
   "source": [
    "#industrials\n",
    "df=pd.read_csv(\"/home/thakur/test/temp/Health Care.csv\")\n",
    "#df_ind[\"Symbol\"].apply(lambda x: x.strip())\n",
    "df=df.sort_values(\"Symbol\")\n",
    "df=change_index(df)\n",
    "df"
   ]
  },
  {
   "cell_type": "code",
   "execution_count": null,
   "id": "6cc98f8d-b692-45ff-be81-5c4045fa9ed9",
   "metadata": {},
   "outputs": [],
   "source": []
  }
 ],
 "metadata": {
  "kernelspec": {
   "display_name": "Python 3 (ipykernel)",
   "language": "python",
   "name": "python3"
  },
  "language_info": {
   "codemirror_mode": {
    "name": "ipython",
    "version": 3
   },
   "file_extension": ".py",
   "mimetype": "text/x-python",
   "name": "python",
   "nbconvert_exporter": "python",
   "pygments_lexer": "ipython3",
   "version": "3.10.6"
  }
 },
 "nbformat": 4,
 "nbformat_minor": 5
}
