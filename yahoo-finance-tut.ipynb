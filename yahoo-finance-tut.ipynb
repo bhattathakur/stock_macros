{
 "cells": [
  {
   "cell_type": "markdown",
   "metadata": {},
   "source": [
    "# Yahoo! Finance Scraper\n",
    "Extract financial data and historical stock prices from Yahoo! Finance using background java strings and a hidden api."
   ]
  },
  {
   "cell_type": "code",
   "execution_count": null,
   "metadata": {},
   "outputs": [],
   "source": [
    "import re\n",
    "import json\n",
    "import csv\n",
    "from io import StringIO\n",
    "from bs4 import BeautifulSoup\n",
    "import requests"
   ]
  },
  {
   "cell_type": "markdown",
   "metadata": {},
   "source": [
    "- First, navigate to [https://finance.yahoo.com/](https://finance.yahoo.com/) and enter the stock you want to look up.  \n",
    "- You'll noticed several tabs along the page such as \"Stats\", \"Chart\", \"Financials\", \"Analysis\", etc...  \n",
    "- Navigate to the \"Financials\" tab. Notice that the **Income Statement** and the **Balance Sheet** are available as well as **Annual** and **Quarterly** options.  \n",
    "- Copy the url for this tab, and for \"Profile\" and \"Financials\". We are going to scrape the data from these 3 tabs first.  \n",
    "\n",
    "Replace the stock symbol in the url with a curly brace to turn it into a template."
   ]
  },
  {
   "cell_type": "code",
   "execution_count": null,
   "metadata": {},
   "outputs": [],
   "source": [
    "# url templates\n",
    "url_stats = 'https://finance.yahoo.com/quote/{}/key-statistics?p={}'\n",
    "url_profile = 'https://finance.yahoo.com/quote/{}/profile?p={}'\n",
    "url_financials = 'https://finance.yahoo.com/quote/{}/financials?p={}'\n",
    "\n",
    "# the stock I want to scrape\n",
    "ticker = 'AAPL'"
   ]
  },
  {
   "cell_type": "markdown",
   "metadata": {},
   "source": [
    "## Extracting and parsing the html & json data"
   ]
  },
  {
   "cell_type": "markdown",
   "metadata": {},
   "source": [
    "Now, use the \"Financials\" template to request the webpage, passing in the stock variable to fill in the url template."
   ]
  },
  {
   "cell_type": "code",
   "execution_count": null,
   "metadata": {},
   "outputs": [],
   "source": [
    "headers = {'User-Agent': 'Mozilla/5.0'}\n",
    "#response = requests.get(url_financials.format(stock, stock))\n",
    "\n",
    "#https://finance.yahoo.com/most-active?count=100&offset=0\n",
    "response=requests.get(url_financials.format(ticker,ticker),headers=headers)   \n",
    "print(\"response.ok : {} , response.status_code : {}\".format(response.ok , response.status_code))"
   ]
  },
  {
   "cell_type": "markdown",
   "metadata": {},
   "source": [
    "Next, parse the html using `BeautifulSoup`"
   ]
  },
  {
   "cell_type": "code",
   "execution_count": null,
   "metadata": {},
   "outputs": [],
   "source": [
    "soup = BeautifulSoup(response.text, 'html.parser')\n",
    "# sc=soup.find_all('script')\n",
    "# sc\n",
    "#print(soup.prettify())"
   ]
  },
  {
   "cell_type": "code",
   "execution_count": null,
   "metadata": {},
   "outputs": [],
   "source": [
    "#data found in the line 237 onwards"
   ]
  },
  {
   "cell_type": "markdown",
   "metadata": {},
   "source": [
    "If you were to look at the raw html, you would notice that there is a lot of javascript code and not a lot of html to work with. You may also notice that embedded in the code there are json formatted text strings. Fortunately for us, there is a javascript function, appropriately commented with \"--Data--\". This function is located inside of a generic \"script\" tag. However, we can use regular expressions with BeautifulSoup in order to identify the script tag with the function we're looking for."
   ]
  },
  {
   "cell_type": "code",
   "execution_count": null,
   "metadata": {},
   "outputs": [],
   "source": [
    "pattern = re.compile(r'\\s--\\sData\\s--\\s') #\\s is the whitespace character\n",
    "script_data = soup.find('script', text=pattern).contents[0]"
   ]
  },
  {
   "cell_type": "code",
   "execution_count": null,
   "metadata": {},
   "outputs": [],
   "source": [
    "#print(script_data.prettify())\n",
    "type(script_data)"
   ]
  },
  {
   "cell_type": "code",
   "execution_count": null,
   "metadata": {},
   "outputs": [],
   "source": [
    "#script_data"
   ]
  },
  {
   "cell_type": "markdown",
   "metadata": {},
   "source": [
    "There's a lot of good json data here, but it's wrapped in a javascript function, as you can clearly see. However, if we can identify the starting and ending position of this json data, we can slice it and then parse it with the `json.loads` function."
   ]
  },
  {
   "cell_type": "code",
   "execution_count": null,
   "metadata": {},
   "outputs": [],
   "source": [
    "# beginning\n",
    "script_data[:500]"
   ]
  },
  {
   "cell_type": "code",
   "execution_count": null,
   "metadata": {},
   "outputs": [],
   "source": [
    "# the end\n",
    "script_data[-500:]"
   ]
  },
  {
   "cell_type": "code",
   "execution_count": null,
   "metadata": {},
   "outputs": [],
   "source": [
    "script_data[-1]"
   ]
  },
  {
   "cell_type": "code",
   "execution_count": null,
   "metadata": {},
   "outputs": [],
   "source": [
    "shares_number=script_data.find(\"Ordinary Shares Number\")\n",
    "shares_number"
   ]
  },
  {
   "cell_type": "code",
   "execution_count": null,
   "metadata": {},
   "outputs": [],
   "source": [
    "# find the starting position of the json string\n",
    "# remvoes ;\\n}(this));\\n'\n",
    "start = script_data.find(\"context\")-2\n",
    "\n",
    "# slice the json string\n",
    "json_data = json.loads(script_data[start:-12]) #loads mean load from string"
   ]
  },
  {
   "cell_type": "code",
   "execution_count": null,
   "metadata": {},
   "outputs": [],
   "source": [
    "#script_data[start:]"
   ]
  },
  {
   "cell_type": "code",
   "execution_count": null,
   "metadata": {},
   "outputs": [],
   "source": [
    "#json_data"
   ]
  },
  {
   "cell_type": "code",
   "execution_count": null,
   "metadata": {},
   "outputs": [],
   "source": [
    "json_data['context']['dispatcher']['stores']#.keys()"
   ]
  },
  {
   "cell_type": "markdown",
   "metadata": {},
   "source": [
    "## Financial statements"
   ]
  },
  {
   "cell_type": "markdown",
   "metadata": {},
   "source": [
    "Now that you have the data, you can explore the dictionary to discover what's inside. This dataset contains both Annual and Quarterly financial statements, as you can see from the dictionary paths listed below."
   ]
  },
  {
   "cell_type": "code",
   "execution_count": null,
   "metadata": {},
   "outputs": [],
   "source": [
    "json_data['context']['dispatcher']['stores']['QuoteSummaryStore']['balanceSheetHistoryQuarterly']['balanceSheetStatements']"
   ]
  },
  {
   "cell_type": "code",
   "execution_count": null,
   "metadata": {},
   "outputs": [],
   "source": [
    "json_data['context']['dispatcher']['stores']['QuoteSummaryStore'].keys()"
   ]
  },
  {
   "cell_type": "code",
   "execution_count": null,
   "metadata": {},
   "outputs": [],
   "source": [
    "dic_keys=json_data['context']['dispatcher']['stores']['QuoteSummaryStore'].keys()\n",
    "dic_keys"
   ]
  },
  {
   "cell_type": "code",
   "execution_count": null,
   "metadata": {},
   "outputs": [],
   "source": []
  },
  {
   "cell_type": "code",
   "execution_count": null,
   "metadata": {},
   "outputs": [],
   "source": [
    "import pandas as pd\n",
    "for c,i in enumerate(dic_keys,start=1):\n",
    "    #if c in [1,12]:continue\n",
    "    print(f\"\\n{i:=^130}\\n\")\n",
    "    print(f\"{c}){i}\")\n",
    "    temp=json_data['context']['dispatcher']['stores']['QuoteSummaryStore'][i].keys()\n",
    "    print(f\"temp:\\n{temp}\")\n",
    "    for d,j in enumerate(temp,start=1):\n",
    "        #pass\n",
    "        temp1=json_data['context']['dispatcher']['stores']['QuoteSummaryStore'][i][j]\n",
    "        if type(temp1) is dict:\n",
    "        \n",
    "            print(f\"\\ntemp1 {d}->{j}):\\n{temp1}\\n\")\n",
    "            \n",
    "        else:print(\"not dictionary !\\n\")\n",
    "           \n",
    "#         stmts = []\n",
    "#         for s in temp1:\n",
    "#             statement = {}\n",
    "#             for key, val in s.items():\n",
    "#                 try:\n",
    "#                     statement[key] = val['raw']\n",
    "#                 except TypeError:\n",
    "#                     continue\n",
    "#                 except KeyError:\n",
    "#                     continue\n",
    "#             stmts.append(statement)\n",
    "    \n",
    "    #\n",
    "        \n",
    "        #pass\n",
    "    #temp_list=list(temp.values())[0]\n",
    "    #print(f\"{type(temp)}\")\n",
    "    # print(f\"keys: {temp.keys()}\")\n",
    "    # print(f\"\\nfirst: {temp_list}\\n\")\n",
    "    #print(f\"{temp.to_string()}\")\n",
    "    #print(json_data['context']['dispatcher']['stores']['QuoteSummaryStore'][i])\n",
    "    #if test in ['cashflowStatements']\n",
    "    \n",
    "    \n",
    "    #stmts = []\n",
    "\n",
    "# consolidate annual\n",
    "    # for s in temp:\n",
    "    #     statement = {}\n",
    "    #     for key, val in s.items():\n",
    "    #         try:\n",
    "    #             statement[key] = val['raw']\n",
    "    #         except TypeError:\n",
    "    #             continue\n",
    "    #         except KeyError:\n",
    "    #             continue\n",
    "    #     stmts.append(statement)\n",
    "    \n",
    "    #\n",
    "    \n",
    "    "
   ]
  },
  {
   "cell_type": "code",
   "execution_count": null,
   "metadata": {},
   "outputs": [],
   "source": [
    "#json_data['context']['dispatcher']['stores']['QuoteSummaryStore']['cashflowStatementHistory']#['financialsTemplate']#.keys()"
   ]
  },
  {
   "cell_type": "code",
   "execution_count": null,
   "metadata": {},
   "outputs": [],
   "source": [
    "quaterly_is_stmts = []\n",
    "\n",
    "# consolidate annual\n",
    "for s in quarterly_is:\n",
    "    statement = {}\n",
    "    for key, val in s.items():\n",
    "        try:\n",
    "            statement[key] = val['raw']\n",
    "        except TypeError:\n",
    "            continue\n",
    "        except KeyError:\n",
    "            continue\n",
    "    quaterly_is_stmts.append(statement)"
   ]
  },
  {
   "cell_type": "code",
   "execution_count": null,
   "metadata": {},
   "outputs": [],
   "source": [
    "# income statement\n",
    "annual_is = json_data['context']['dispatcher']['stores']['QuoteSummaryStore']['incomeStatementHistory']['incomeStatementHistory']\n",
    "quarterly_is = json_data['context']['dispatcher']['stores']['QuoteSummaryStore']['incomeStatementHistoryQuarterly']['incomeStatementHistory']\n",
    "\n",
    "# cash flow statement\n",
    "annual_cf = json_data['context']['dispatcher']['stores']['QuoteSummaryStore']['cashflowStatementHistory']['cashflowStatements']\n",
    "quarterly_cf = json_data['context']['dispatcher']['stores']['QuoteSummaryStore']['cashflowStatementHistoryQuarterly']['cashflowStatements']\n",
    "\n",
    "# balance sheet\n",
    "annual_bs = json_data['context']['dispatcher']['stores']['QuoteSummaryStore']['balanceSheetHistory']['balanceSheetStatements']\n",
    "quarterly_bs = json_data['context']['dispatcher']['stores']['QuoteSummaryStore']['balanceSheetHistoryQuarterly']['balanceSheetStatements']"
   ]
  },
  {
   "cell_type": "code",
   "execution_count": null,
   "metadata": {},
   "outputs": [],
   "source": [
    "quarterly_bs_test = json_data['context']['dispatcher']['stores']['QuoteSummaryStore']['balanceSheetHistoryQuarterly']\n",
    "#quarterly_bs_test"
   ]
  },
  {
   "cell_type": "code",
   "execution_count": null,
   "metadata": {},
   "outputs": [],
   "source": [
    "# example of income statmement accounts\n",
    "print(quarterly_bs[0])"
   ]
  },
  {
   "cell_type": "code",
   "execution_count": null,
   "metadata": {},
   "outputs": [],
   "source": [
    "quarterly_bs[0].keys()"
   ]
  },
  {
   "cell_type": "code",
   "execution_count": null,
   "metadata": {},
   "outputs": [],
   "source": [
    "quaterly_is_stmts = []\n",
    "\n",
    "# consolidate annual\n",
    "for s in quarterly_is:\n",
    "    statement = {}\n",
    "    for key, val in s.items():\n",
    "        try:\n",
    "            statement[key] = val['raw']\n",
    "        except TypeError:\n",
    "            continue\n",
    "        except KeyError:\n",
    "            continue\n",
    "    quaterly_is_stmts.append(statement)"
   ]
  },
  {
   "cell_type": "code",
   "execution_count": null,
   "metadata": {},
   "outputs": [],
   "source": [
    "import pandas as pd\n",
    "df=pd.DataFrame(quaterly_is_stmts)\n",
    "df.T"
   ]
  },
  {
   "cell_type": "code",
   "execution_count": null,
   "metadata": {},
   "outputs": [],
   "source": [
    "quaterly_bs_stmts = []\n",
    "\n",
    "# consolidate annual\n",
    "for s in quarterly_bs:\n",
    "    statement = {}\n",
    "    for key, val in s.items():\n",
    "        try:\n",
    "            statement[key] = val['raw']\n",
    "        except TypeError:\n",
    "            continue\n",
    "        except KeyError:\n",
    "            continue\n",
    "    quaterly_bs_stmts.append(statement)"
   ]
  },
  {
   "cell_type": "code",
   "execution_count": null,
   "metadata": {},
   "outputs": [],
   "source": [
    "#import pandas as pd\n",
    "df1=pd.DataFrame(quaterly_bs_stmts)\n",
    "df1=df1.T\n",
    "df1"
   ]
  },
  {
   "cell_type": "code",
   "execution_count": null,
   "metadata": {},
   "outputs": [],
   "source": [
    "# shares=64849000000;\n",
    "# shares_in_millions=shares*1.0/10^3\n",
    "# shares_in_millions"
   ]
  },
  {
   "cell_type": "code",
   "execution_count": null,
   "metadata": {},
   "outputs": [],
   "source": [
    "# there's a variety of  number formats provided\n",
    "annual_is[0]['operatingIncome']"
   ]
  },
  {
   "cell_type": "markdown",
   "metadata": {},
   "source": [
    "The data can be consoldated into an easy to read, or export, data set with a loop"
   ]
  },
  {
   "cell_type": "code",
   "execution_count": null,
   "metadata": {},
   "outputs": [],
   "source": [
    "annual_is_stmts = []\n",
    "\n",
    "# consolidate annual\n",
    "for s in annual_is:\n",
    "    statement = {}\n",
    "    for key, val in s.items():\n",
    "        try:\n",
    "            statement[key] = val['raw']\n",
    "        except TypeError:\n",
    "            continue\n",
    "        except KeyError:\n",
    "            continue\n",
    "    annual_is_stmts.append(statement)"
   ]
  },
  {
   "cell_type": "code",
   "execution_count": null,
   "metadata": {},
   "outputs": [],
   "source": [
    "annual_is_stmts[0]"
   ]
  },
  {
   "cell_type": "markdown",
   "metadata": {},
   "source": [
    "This model can be applied to all other financial statements, as you can see from the examples below."
   ]
  },
  {
   "cell_type": "code",
   "execution_count": null,
   "metadata": {},
   "outputs": [],
   "source": [
    "annual_cf_stmts = []\n",
    "quarterly_cf_stmts = []\n",
    "\n",
    "# annual\n",
    "for s in annual_cf:\n",
    "    statement = {}\n",
    "    for key, val in s.items():\n",
    "        try:\n",
    "            statement[key] = val['raw']\n",
    "        except TypeError:\n",
    "            continue\n",
    "        except KeyError:\n",
    "            continue\n",
    "    annual_cf_stmts.append(statement)\n",
    "    \n",
    "# quarterly\n",
    "for s in quarterly_cf:\n",
    "    statement = {}\n",
    "    for key, val in s.items():\n",
    "        try:\n",
    "            statement[key] = val['raw']\n",
    "        except TypeError:\n",
    "            continue\n",
    "        except KeyError:\n",
    "            continue\n",
    "    quarterly_cf_stmts.append(statement)"
   ]
  },
  {
   "cell_type": "code",
   "execution_count": null,
   "metadata": {},
   "outputs": [],
   "source": [
    "annual_cf_stmts[0]"
   ]
  },
  {
   "cell_type": "markdown",
   "metadata": {},
   "source": [
    "## Profile Data\n",
    "\n",
    "We can copy the same steps from the Financial statements on the Profile data"
   ]
  },
  {
   "cell_type": "code",
   "execution_count": null,
   "metadata": {},
   "outputs": [],
   "source": [
    "response = requests.get(url_profile.format(stock, stock))\n",
    "soup = BeautifulSoup(response.text, 'html.parser')\n",
    "pattern = re.compile(r'\\s--\\sData\\s--\\s')\n",
    "script_data = soup.find('script', text=pattern).contents[0]\n",
    "start = script_data.find(\"context\")-2\n",
    "json_data = json.loads(script_data[start:-12])"
   ]
  },
  {
   "cell_type": "code",
   "execution_count": null,
   "metadata": {},
   "outputs": [],
   "source": [
    "json_data['context']['dispatcher']['stores']['QuoteSummaryStore'].keys()"
   ]
  },
  {
   "cell_type": "code",
   "execution_count": null,
   "metadata": {},
   "outputs": [],
   "source": [
    "json_data['context']['dispatcher']['stores']['QuoteSummaryStore']['assetProfile'].keys()"
   ]
  },
  {
   "cell_type": "code",
   "execution_count": null,
   "metadata": {},
   "outputs": [],
   "source": [
    "# data for company officers (just the first 3 are listed for brevity )\n",
    "json_data['context']['dispatcher']['stores']['QuoteSummaryStore']['assetProfile']['companyOfficers'][:3]"
   ]
  },
  {
   "cell_type": "code",
   "execution_count": null,
   "metadata": {},
   "outputs": [],
   "source": [
    "# business description\n",
    "json_data['context']['dispatcher']['stores']['QuoteSummaryStore']['assetProfile']['longBusinessSummary']"
   ]
  },
  {
   "cell_type": "code",
   "execution_count": null,
   "metadata": {},
   "outputs": [],
   "source": [
    "# sec filings from Edgars ( just the first 3 are listed for brevity )\n",
    "json_data['context']['dispatcher']['stores']['QuoteSummaryStore']['secFilings']['filings'][:3]"
   ]
  },
  {
   "cell_type": "code",
   "execution_count": null,
   "metadata": {},
   "outputs": [],
   "source": [
    "# lot of other data is available\n",
    "json_data['context']['dispatcher']['stores']['QuoteSummaryStore']['summaryDetail']"
   ]
  },
  {
   "cell_type": "markdown",
   "metadata": {},
   "source": [
    "# Statistics"
   ]
  },
  {
   "cell_type": "code",
   "execution_count": null,
   "metadata": {},
   "outputs": [],
   "source": [
    "response = requests.get(url_stats.format(stock, stock))\n",
    "soup = BeautifulSoup(response.text, 'html.parser')\n",
    "pattern = re.compile(r'\\s--\\sData\\s--\\s')\n",
    "script_data = soup.find('script', text=pattern).contents[0]\n",
    "start = script_data.find(\"context\")-2\n",
    "json_data = json.loads(script_data[start:-12])"
   ]
  },
  {
   "cell_type": "code",
   "execution_count": null,
   "metadata": {},
   "outputs": [],
   "source": [
    "json_data['context']['dispatcher']['stores']['QuoteSummaryStore']['defaultKeyStatistics']"
   ]
  },
  {
   "cell_type": "markdown",
   "metadata": {},
   "source": [
    "# Historical Stock Data\n",
    "\n",
    "This data uses a hidden api, as you can see from the \"query\" prefix, the version number (V7), and the variety of parameters."
   ]
  },
  {
   "cell_type": "code",
   "execution_count": null,
   "metadata": {},
   "outputs": [],
   "source": [
    "stock_url = 'https://query1.finance.yahoo.com/v7/finance/download/F?period1=1568483641&period2=1600106041&interval=1d&events=history'"
   ]
  },
  {
   "cell_type": "code",
   "execution_count": null,
   "metadata": {},
   "outputs": [],
   "source": [
    "response = requests.get(stock_url)"
   ]
  },
  {
   "cell_type": "code",
   "execution_count": null,
   "metadata": {},
   "outputs": [],
   "source": [
    "# extract the csv data\n",
    "file = StringIO(response.text)\n",
    "reader = csv.reader(file)\n",
    "data = list(reader)\n",
    "\n",
    "# show the first 5 records\n",
    "for row in data[:5]:\n",
    "    print(row)"
   ]
  },
  {
   "cell_type": "markdown",
   "metadata": {},
   "source": [
    "You can start to customize this by pulling out the parameters from the URL and putting them into a dictionary. "
   ]
  },
  {
   "cell_type": "code",
   "execution_count": null,
   "metadata": {},
   "outputs": [],
   "source": [
    "stock_url = 'https://query1.finance.yahoo.com/v7/finance/download/{}?'\n",
    "\n",
    "params = {\n",
    "    'period1':'1568483641',\n",
    "    'period2':'1600106041',\n",
    "    'interval':'1d',\n",
    "    'events':'history'\n",
    "}"
   ]
  },
  {
   "cell_type": "markdown",
   "metadata": {},
   "source": [
    "By inspecting the request headers and parameters online, it's possible to see how this can be simplified further... by using the range parameter instead of the periods."
   ]
  },
  {
   "cell_type": "code",
   "execution_count": null,
   "metadata": {},
   "outputs": [],
   "source": [
    "params = {\n",
    "    'range': '5y',\n",
    "    'interval':'1d',\n",
    "    'events':'history'\n",
    "}"
   ]
  },
  {
   "cell_type": "code",
   "execution_count": null,
   "metadata": {},
   "outputs": [],
   "source": [
    "response = requests.get(stock_url.format(stock), params=params)"
   ]
  },
  {
   "cell_type": "code",
   "execution_count": null,
   "metadata": {},
   "outputs": [],
   "source": [
    "# extract the csv data\n",
    "file = StringIO(response.text)\n",
    "reader = csv.reader(file)\n",
    "data = list(reader)\n",
    "\n",
    "# show the first 5 records\n",
    "for row in data[:5]:\n",
    "    print(row)"
   ]
  }
 ],
 "metadata": {
  "kernelspec": {
   "display_name": "Python 3 (ipykernel)",
   "language": "python",
   "name": "python3"
  },
  "language_info": {
   "codemirror_mode": {
    "name": "ipython",
    "version": 3
   },
   "file_extension": ".py",
   "mimetype": "text/x-python",
   "name": "python",
   "nbconvert_exporter": "python",
   "pygments_lexer": "ipython3",
   "version": "3.10.6"
  }
 },
 "nbformat": 4,
 "nbformat_minor": 4
}
